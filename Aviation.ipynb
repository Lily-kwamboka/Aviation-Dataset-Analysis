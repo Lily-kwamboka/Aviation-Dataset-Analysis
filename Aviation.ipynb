{
 "cells": [
  {
   "cell_type": "markdown",
   "metadata": {},
   "source": [
    "# Aviation Dataset Analysis: Identifying Low-Risk Aircraft"
   ]
  },
  {
   "cell_type": "markdown",
   "metadata": {},
   "source": [
    "### BUSINESS PROBLEM"
   ]
  },
  {
   "cell_type": "markdown",
   "metadata": {},
   "source": [
    "As part of the company's efforts to diversify its portfolio, a new aviation division has been established to explore opportunities in the aircraft industry. To support the strategic decision-making process, the company requires insights into potential risks associated with various aircraft models for both commercial and private operations."
   ]
  },
  {
   "cell_type": "markdown",
   "metadata": {},
   "source": [
    "## Objectives"
   ]
  },
  {
   "cell_type": "markdown",
   "metadata": {},
   "source": [
    "- Analyze safety records to determine potential risks on the aircrafts\n",
    "- Identify the aircrafts with the lowest risks based on safety records and reliability.\n",
    "- Provide actionable recommendations to guide aircraft purchases that aligns wit the company's goals while minimizing risk exposure."
   ]
  },
  {
   "cell_type": "markdown",
   "metadata": {},
   "source": [
    "### Dataset Overview"
   ]
  },
  {
   "cell_type": "markdown",
   "metadata": {},
   "source": [
    "- **Souce**: Kaggle\n",
    "- **About this file**:\n",
    "  - The NTSB aviation accident database contains information from 1962 and later about civil aviation accidents and selected incidents within the United States, its territories and possessions, and in international waters"
   ]
  },
  {
   "cell_type": "markdown",
   "metadata": {},
   "source": [
    "#### Aviation Dataset Column Descriptions\n",
    "\n",
    "| Column Name             | Description |\n",
    "|-------------------------|-------------|\n",
    "| **Make**               | The manufacturer of the aircraft. |\n",
    "| **Model**              | The specific model of the aircraft. |\n",
    "| **Amateur.Built**        | Indicates if the aircraft was homebuilt by an individual rather than a  manufacturer. (\"Yes\" for amateur-built, \"No\" otherwise). |\n",
    "| **Airport Name**       | The name of the airport where the incident occurred. |\n",
    "| **Location**           | The city or area where the incident happened. |\n",
    "| **Country**            | The country where the incident took place. |\n",
    "| **Total.Fatal.Injuries** | The number of fatal injuries reported in the incident. |\n",
    "| **Total.Serious.Injuries** | The number of serious injuries reported in the incident. |\n",
    "| **Total.Minor.Injuries** | The number of minor injuries reported in the incident. |\n",
    "| **Total.Uninjured**    | The number of people involved in the incident who were uninjured. |\n",
    "| **Aircraft.Damage**    | The extent of damage to the aircraft (e.g., destroyed, substantial, minor). |\n",
    "| **Aircraft.Category**  | The category of the aircraft involved (e.g., airplane, helicopter). |\n",
    "| **Number.of.Engines**  | The number of engines the aircraft has. |\n",
    "| **Engine.Type**        | The type of engine used (e.g., reciprocating, turbojet). |\n",
    "| **FAR.Description**    | Federal Aviation Regulations category under which the aircraft was operating. |\n",
    "| **Schedule**          | Whether the flight was scheduled or unscheduled. |\n",
    "| **Air.Carrier**       | The airline or air carrier operating the flight. |\n",
    "| **Broad.Phase.of.Flight** | The general phase of the flight when the incident occurred (e.g., takeoff, landing). |\n",
    "| **Weather.Conditions** | The weather conditions at the time of the incident (e.g., VMC - Visual Meteorological Conditions, IMC - Instrument Meteorological Conditions). |\n",
    "\n"
   ]
  },
  {
   "cell_type": "markdown",
   "metadata": {},
   "source": [
    "### Importing Libraries"
   ]
  },
  {
   "cell_type": "code",
   "execution_count": 455,
   "metadata": {},
   "outputs": [],
   "source": [
    "import pandas as pd\n",
    "import numpy as np\n",
    "import matplotlib.pyplot as plt\n",
    "%matplotlib inline\n",
    "import seaborn as sns"
   ]
  },
  {
   "cell_type": "code",
   "execution_count": 456,
   "metadata": {},
   "outputs": [],
   "source": [
    "df = pd.read_csv(\"AviationNewData.csv\", encoding = \"windows-1252\", low_memory = False)\n"
   ]
  },
  {
   "cell_type": "markdown",
   "metadata": {},
   "source": [
    "### Data Exploration"
   ]
  },
  {
   "cell_type": "code",
   "execution_count": 457,
   "metadata": {},
   "outputs": [
    {
     "data": {
      "text/html": [
       "<div>\n",
       "<style scoped>\n",
       "    .dataframe tbody tr th:only-of-type {\n",
       "        vertical-align: middle;\n",
       "    }\n",
       "\n",
       "    .dataframe tbody tr th {\n",
       "        vertical-align: top;\n",
       "    }\n",
       "\n",
       "    .dataframe thead th {\n",
       "        text-align: right;\n",
       "    }\n",
       "</style>\n",
       "<table border=\"1\" class=\"dataframe\">\n",
       "  <thead>\n",
       "    <tr style=\"text-align: right;\">\n",
       "      <th></th>\n",
       "      <th>Event.Id</th>\n",
       "      <th>Investigation.Type</th>\n",
       "      <th>Accident.Number</th>\n",
       "      <th>Event.Date</th>\n",
       "      <th>Location</th>\n",
       "      <th>Country</th>\n",
       "      <th>Latitude</th>\n",
       "      <th>Longitude</th>\n",
       "      <th>Airport.Code</th>\n",
       "      <th>Airport.Name</th>\n",
       "      <th>...</th>\n",
       "      <th>Purpose.of.flight</th>\n",
       "      <th>Air.carrier</th>\n",
       "      <th>Total.Fatal.Injuries</th>\n",
       "      <th>Total.Serious.Injuries</th>\n",
       "      <th>Total.Minor.Injuries</th>\n",
       "      <th>Total.Uninjured</th>\n",
       "      <th>Weather.Condition</th>\n",
       "      <th>Broad.phase.of.flight</th>\n",
       "      <th>Report.Status</th>\n",
       "      <th>Publication.Date</th>\n",
       "    </tr>\n",
       "  </thead>\n",
       "  <tbody>\n",
       "    <tr>\n",
       "      <th>0</th>\n",
       "      <td>20001218X45444</td>\n",
       "      <td>Accident</td>\n",
       "      <td>SEA87LA080</td>\n",
       "      <td>1948-10-24</td>\n",
       "      <td>MOOSE CREEK, ID</td>\n",
       "      <td>United States</td>\n",
       "      <td>NaN</td>\n",
       "      <td>NaN</td>\n",
       "      <td>NaN</td>\n",
       "      <td>NaN</td>\n",
       "      <td>...</td>\n",
       "      <td>Personal</td>\n",
       "      <td>NaN</td>\n",
       "      <td>2.0</td>\n",
       "      <td>0.0</td>\n",
       "      <td>0.0</td>\n",
       "      <td>0.0</td>\n",
       "      <td>UNK</td>\n",
       "      <td>Cruise</td>\n",
       "      <td>Probable Cause</td>\n",
       "      <td>NaN</td>\n",
       "    </tr>\n",
       "    <tr>\n",
       "      <th>1</th>\n",
       "      <td>20001218X45447</td>\n",
       "      <td>Accident</td>\n",
       "      <td>LAX94LA336</td>\n",
       "      <td>1962-07-19</td>\n",
       "      <td>BRIDGEPORT, CA</td>\n",
       "      <td>United States</td>\n",
       "      <td>NaN</td>\n",
       "      <td>NaN</td>\n",
       "      <td>NaN</td>\n",
       "      <td>NaN</td>\n",
       "      <td>...</td>\n",
       "      <td>Personal</td>\n",
       "      <td>NaN</td>\n",
       "      <td>4.0</td>\n",
       "      <td>0.0</td>\n",
       "      <td>0.0</td>\n",
       "      <td>0.0</td>\n",
       "      <td>UNK</td>\n",
       "      <td>Unknown</td>\n",
       "      <td>Probable Cause</td>\n",
       "      <td>19-09-1996</td>\n",
       "    </tr>\n",
       "    <tr>\n",
       "      <th>2</th>\n",
       "      <td>20061025X01555</td>\n",
       "      <td>Accident</td>\n",
       "      <td>NYC07LA005</td>\n",
       "      <td>1974-08-30</td>\n",
       "      <td>Saltville, VA</td>\n",
       "      <td>United States</td>\n",
       "      <td>36.922223</td>\n",
       "      <td>-81.878056</td>\n",
       "      <td>NaN</td>\n",
       "      <td>NaN</td>\n",
       "      <td>...</td>\n",
       "      <td>Personal</td>\n",
       "      <td>NaN</td>\n",
       "      <td>3.0</td>\n",
       "      <td>NaN</td>\n",
       "      <td>NaN</td>\n",
       "      <td>NaN</td>\n",
       "      <td>IMC</td>\n",
       "      <td>Cruise</td>\n",
       "      <td>Probable Cause</td>\n",
       "      <td>26-02-2007</td>\n",
       "    </tr>\n",
       "    <tr>\n",
       "      <th>3</th>\n",
       "      <td>20001218X45448</td>\n",
       "      <td>Accident</td>\n",
       "      <td>LAX96LA321</td>\n",
       "      <td>1977-06-19</td>\n",
       "      <td>EUREKA, CA</td>\n",
       "      <td>United States</td>\n",
       "      <td>NaN</td>\n",
       "      <td>NaN</td>\n",
       "      <td>NaN</td>\n",
       "      <td>NaN</td>\n",
       "      <td>...</td>\n",
       "      <td>Personal</td>\n",
       "      <td>NaN</td>\n",
       "      <td>2.0</td>\n",
       "      <td>0.0</td>\n",
       "      <td>0.0</td>\n",
       "      <td>0.0</td>\n",
       "      <td>IMC</td>\n",
       "      <td>Cruise</td>\n",
       "      <td>Probable Cause</td>\n",
       "      <td>12-09-2000</td>\n",
       "    </tr>\n",
       "    <tr>\n",
       "      <th>4</th>\n",
       "      <td>20041105X01764</td>\n",
       "      <td>Accident</td>\n",
       "      <td>CHI79FA064</td>\n",
       "      <td>1979-08-02</td>\n",
       "      <td>Canton, OH</td>\n",
       "      <td>United States</td>\n",
       "      <td>NaN</td>\n",
       "      <td>NaN</td>\n",
       "      <td>NaN</td>\n",
       "      <td>NaN</td>\n",
       "      <td>...</td>\n",
       "      <td>Personal</td>\n",
       "      <td>NaN</td>\n",
       "      <td>1.0</td>\n",
       "      <td>2.0</td>\n",
       "      <td>NaN</td>\n",
       "      <td>0.0</td>\n",
       "      <td>VMC</td>\n",
       "      <td>Approach</td>\n",
       "      <td>Probable Cause</td>\n",
       "      <td>16-04-1980</td>\n",
       "    </tr>\n",
       "    <tr>\n",
       "      <th>...</th>\n",
       "      <td>...</td>\n",
       "      <td>...</td>\n",
       "      <td>...</td>\n",
       "      <td>...</td>\n",
       "      <td>...</td>\n",
       "      <td>...</td>\n",
       "      <td>...</td>\n",
       "      <td>...</td>\n",
       "      <td>...</td>\n",
       "      <td>...</td>\n",
       "      <td>...</td>\n",
       "      <td>...</td>\n",
       "      <td>...</td>\n",
       "      <td>...</td>\n",
       "      <td>...</td>\n",
       "      <td>...</td>\n",
       "      <td>...</td>\n",
       "      <td>...</td>\n",
       "      <td>...</td>\n",
       "      <td>...</td>\n",
       "      <td>...</td>\n",
       "    </tr>\n",
       "    <tr>\n",
       "      <th>88884</th>\n",
       "      <td>20221227106491</td>\n",
       "      <td>Accident</td>\n",
       "      <td>ERA23LA093</td>\n",
       "      <td>2022-12-26</td>\n",
       "      <td>Annapolis, MD</td>\n",
       "      <td>United States</td>\n",
       "      <td>NaN</td>\n",
       "      <td>NaN</td>\n",
       "      <td>NaN</td>\n",
       "      <td>NaN</td>\n",
       "      <td>...</td>\n",
       "      <td>Personal</td>\n",
       "      <td>NaN</td>\n",
       "      <td>0.0</td>\n",
       "      <td>1.0</td>\n",
       "      <td>0.0</td>\n",
       "      <td>0.0</td>\n",
       "      <td>NaN</td>\n",
       "      <td>NaN</td>\n",
       "      <td>NaN</td>\n",
       "      <td>29-12-2022</td>\n",
       "    </tr>\n",
       "    <tr>\n",
       "      <th>88885</th>\n",
       "      <td>20221227106494</td>\n",
       "      <td>Accident</td>\n",
       "      <td>ERA23LA095</td>\n",
       "      <td>2022-12-26</td>\n",
       "      <td>Hampton, NH</td>\n",
       "      <td>United States</td>\n",
       "      <td>NaN</td>\n",
       "      <td>NaN</td>\n",
       "      <td>NaN</td>\n",
       "      <td>NaN</td>\n",
       "      <td>...</td>\n",
       "      <td>NaN</td>\n",
       "      <td>NaN</td>\n",
       "      <td>0.0</td>\n",
       "      <td>0.0</td>\n",
       "      <td>0.0</td>\n",
       "      <td>0.0</td>\n",
       "      <td>NaN</td>\n",
       "      <td>NaN</td>\n",
       "      <td>NaN</td>\n",
       "      <td>NaN</td>\n",
       "    </tr>\n",
       "    <tr>\n",
       "      <th>88886</th>\n",
       "      <td>20221227106497</td>\n",
       "      <td>Accident</td>\n",
       "      <td>WPR23LA075</td>\n",
       "      <td>2022-12-26</td>\n",
       "      <td>Payson, AZ</td>\n",
       "      <td>United States</td>\n",
       "      <td>341525N</td>\n",
       "      <td>1112021W</td>\n",
       "      <td>PAN</td>\n",
       "      <td>PAYSON</td>\n",
       "      <td>...</td>\n",
       "      <td>Personal</td>\n",
       "      <td>NaN</td>\n",
       "      <td>0.0</td>\n",
       "      <td>0.0</td>\n",
       "      <td>0.0</td>\n",
       "      <td>1.0</td>\n",
       "      <td>VMC</td>\n",
       "      <td>NaN</td>\n",
       "      <td>NaN</td>\n",
       "      <td>27-12-2022</td>\n",
       "    </tr>\n",
       "    <tr>\n",
       "      <th>88887</th>\n",
       "      <td>20221227106498</td>\n",
       "      <td>Accident</td>\n",
       "      <td>WPR23LA076</td>\n",
       "      <td>2022-12-26</td>\n",
       "      <td>Morgan, UT</td>\n",
       "      <td>United States</td>\n",
       "      <td>NaN</td>\n",
       "      <td>NaN</td>\n",
       "      <td>NaN</td>\n",
       "      <td>NaN</td>\n",
       "      <td>...</td>\n",
       "      <td>Personal</td>\n",
       "      <td>MC CESSNA 210N LLC</td>\n",
       "      <td>0.0</td>\n",
       "      <td>0.0</td>\n",
       "      <td>0.0</td>\n",
       "      <td>0.0</td>\n",
       "      <td>NaN</td>\n",
       "      <td>NaN</td>\n",
       "      <td>NaN</td>\n",
       "      <td>NaN</td>\n",
       "    </tr>\n",
       "    <tr>\n",
       "      <th>88888</th>\n",
       "      <td>20221230106513</td>\n",
       "      <td>Accident</td>\n",
       "      <td>ERA23LA097</td>\n",
       "      <td>2022-12-29</td>\n",
       "      <td>Athens, GA</td>\n",
       "      <td>United States</td>\n",
       "      <td>NaN</td>\n",
       "      <td>NaN</td>\n",
       "      <td>NaN</td>\n",
       "      <td>NaN</td>\n",
       "      <td>...</td>\n",
       "      <td>Personal</td>\n",
       "      <td>NaN</td>\n",
       "      <td>0.0</td>\n",
       "      <td>1.0</td>\n",
       "      <td>0.0</td>\n",
       "      <td>1.0</td>\n",
       "      <td>NaN</td>\n",
       "      <td>NaN</td>\n",
       "      <td>NaN</td>\n",
       "      <td>30-12-2022</td>\n",
       "    </tr>\n",
       "  </tbody>\n",
       "</table>\n",
       "<p>88889 rows × 31 columns</p>\n",
       "</div>"
      ],
      "text/plain": [
       "             Event.Id Investigation.Type Accident.Number  Event.Date  \\\n",
       "0      20001218X45444           Accident      SEA87LA080  1948-10-24   \n",
       "1      20001218X45447           Accident      LAX94LA336  1962-07-19   \n",
       "2      20061025X01555           Accident      NYC07LA005  1974-08-30   \n",
       "3      20001218X45448           Accident      LAX96LA321  1977-06-19   \n",
       "4      20041105X01764           Accident      CHI79FA064  1979-08-02   \n",
       "...               ...                ...             ...         ...   \n",
       "88884  20221227106491           Accident      ERA23LA093  2022-12-26   \n",
       "88885  20221227106494           Accident      ERA23LA095  2022-12-26   \n",
       "88886  20221227106497           Accident      WPR23LA075  2022-12-26   \n",
       "88887  20221227106498           Accident      WPR23LA076  2022-12-26   \n",
       "88888  20221230106513           Accident      ERA23LA097  2022-12-29   \n",
       "\n",
       "              Location        Country   Latitude   Longitude Airport.Code  \\\n",
       "0      MOOSE CREEK, ID  United States        NaN         NaN          NaN   \n",
       "1       BRIDGEPORT, CA  United States        NaN         NaN          NaN   \n",
       "2        Saltville, VA  United States  36.922223  -81.878056          NaN   \n",
       "3           EUREKA, CA  United States        NaN         NaN          NaN   \n",
       "4           Canton, OH  United States        NaN         NaN          NaN   \n",
       "...                ...            ...        ...         ...          ...   \n",
       "88884    Annapolis, MD  United States        NaN         NaN          NaN   \n",
       "88885      Hampton, NH  United States        NaN         NaN          NaN   \n",
       "88886       Payson, AZ  United States    341525N    1112021W          PAN   \n",
       "88887       Morgan, UT  United States        NaN         NaN          NaN   \n",
       "88888       Athens, GA  United States        NaN         NaN          NaN   \n",
       "\n",
       "      Airport.Name  ... Purpose.of.flight         Air.carrier  \\\n",
       "0              NaN  ...          Personal                 NaN   \n",
       "1              NaN  ...          Personal                 NaN   \n",
       "2              NaN  ...          Personal                 NaN   \n",
       "3              NaN  ...          Personal                 NaN   \n",
       "4              NaN  ...          Personal                 NaN   \n",
       "...            ...  ...               ...                 ...   \n",
       "88884          NaN  ...          Personal                 NaN   \n",
       "88885          NaN  ...               NaN                 NaN   \n",
       "88886       PAYSON  ...          Personal                 NaN   \n",
       "88887          NaN  ...          Personal  MC CESSNA 210N LLC   \n",
       "88888          NaN  ...          Personal                 NaN   \n",
       "\n",
       "      Total.Fatal.Injuries Total.Serious.Injuries Total.Minor.Injuries  \\\n",
       "0                      2.0                    0.0                  0.0   \n",
       "1                      4.0                    0.0                  0.0   \n",
       "2                      3.0                    NaN                  NaN   \n",
       "3                      2.0                    0.0                  0.0   \n",
       "4                      1.0                    2.0                  NaN   \n",
       "...                    ...                    ...                  ...   \n",
       "88884                  0.0                    1.0                  0.0   \n",
       "88885                  0.0                    0.0                  0.0   \n",
       "88886                  0.0                    0.0                  0.0   \n",
       "88887                  0.0                    0.0                  0.0   \n",
       "88888                  0.0                    1.0                  0.0   \n",
       "\n",
       "      Total.Uninjured Weather.Condition  Broad.phase.of.flight  \\\n",
       "0                 0.0               UNK                 Cruise   \n",
       "1                 0.0               UNK                Unknown   \n",
       "2                 NaN               IMC                 Cruise   \n",
       "3                 0.0               IMC                 Cruise   \n",
       "4                 0.0               VMC               Approach   \n",
       "...               ...               ...                    ...   \n",
       "88884             0.0               NaN                    NaN   \n",
       "88885             0.0               NaN                    NaN   \n",
       "88886             1.0               VMC                    NaN   \n",
       "88887             0.0               NaN                    NaN   \n",
       "88888             1.0               NaN                    NaN   \n",
       "\n",
       "        Report.Status Publication.Date  \n",
       "0      Probable Cause              NaN  \n",
       "1      Probable Cause       19-09-1996  \n",
       "2      Probable Cause       26-02-2007  \n",
       "3      Probable Cause       12-09-2000  \n",
       "4      Probable Cause       16-04-1980  \n",
       "...               ...              ...  \n",
       "88884             NaN       29-12-2022  \n",
       "88885             NaN              NaN  \n",
       "88886             NaN       27-12-2022  \n",
       "88887             NaN              NaN  \n",
       "88888             NaN       30-12-2022  \n",
       "\n",
       "[88889 rows x 31 columns]"
      ]
     },
     "execution_count": 457,
     "metadata": {},
     "output_type": "execute_result"
    }
   ],
   "source": [
    "df.head(10) #Views first 5 rows\n",
    "df"
   ]
  },
  {
   "cell_type": "code",
   "execution_count": 458,
   "metadata": {},
   "outputs": [
    {
     "name": "stdout",
     "output_type": "stream",
     "text": [
      "<class 'pandas.core.frame.DataFrame'>\n",
      "RangeIndex: 88889 entries, 0 to 88888\n",
      "Data columns (total 31 columns):\n",
      " #   Column                  Non-Null Count  Dtype  \n",
      "---  ------                  --------------  -----  \n",
      " 0   Event.Id                88889 non-null  object \n",
      " 1   Investigation.Type      88889 non-null  object \n",
      " 2   Accident.Number         88889 non-null  object \n",
      " 3   Event.Date              88889 non-null  object \n",
      " 4   Location                88837 non-null  object \n",
      " 5   Country                 88663 non-null  object \n",
      " 6   Latitude                34382 non-null  object \n",
      " 7   Longitude               34373 non-null  object \n",
      " 8   Airport.Code            50249 non-null  object \n",
      " 9   Airport.Name            52790 non-null  object \n",
      " 10  Injury.Severity         87889 non-null  object \n",
      " 11  Aircraft.damage         85695 non-null  object \n",
      " 12  Aircraft.Category       32287 non-null  object \n",
      " 13  Registration.Number     87572 non-null  object \n",
      " 14  Make                    88826 non-null  object \n",
      " 15  Model                   88797 non-null  object \n",
      " 16  Amateur.Built           88787 non-null  object \n",
      " 17  Number.of.Engines       82805 non-null  float64\n",
      " 18  Engine.Type             81812 non-null  object \n",
      " 19  FAR.Description         32023 non-null  object \n",
      " 20  Schedule                12582 non-null  object \n",
      " 21  Purpose.of.flight       82697 non-null  object \n",
      " 22  Air.carrier             16648 non-null  object \n",
      " 23  Total.Fatal.Injuries    77488 non-null  float64\n",
      " 24  Total.Serious.Injuries  76379 non-null  float64\n",
      " 25  Total.Minor.Injuries    76956 non-null  float64\n",
      " 26  Total.Uninjured         82977 non-null  float64\n",
      " 27  Weather.Condition       84397 non-null  object \n",
      " 28  Broad.phase.of.flight   61724 non-null  object \n",
      " 29  Report.Status           82508 non-null  object \n",
      " 30  Publication.Date        75118 non-null  object \n",
      "dtypes: float64(5), object(26)\n",
      "memory usage: 21.0+ MB\n"
     ]
    }
   ],
   "source": [
    "df.info() #Gives Data Summary(Memory usage, columns, Datatypes, Entries)"
   ]
  },
  {
   "cell_type": "code",
   "execution_count": 459,
   "metadata": {},
   "outputs": [
    {
     "data": {
      "text/html": [
       "<div>\n",
       "<style scoped>\n",
       "    .dataframe tbody tr th:only-of-type {\n",
       "        vertical-align: middle;\n",
       "    }\n",
       "\n",
       "    .dataframe tbody tr th {\n",
       "        vertical-align: top;\n",
       "    }\n",
       "\n",
       "    .dataframe thead th {\n",
       "        text-align: right;\n",
       "    }\n",
       "</style>\n",
       "<table border=\"1\" class=\"dataframe\">\n",
       "  <thead>\n",
       "    <tr style=\"text-align: right;\">\n",
       "      <th></th>\n",
       "      <th>Number.of.Engines</th>\n",
       "      <th>Total.Fatal.Injuries</th>\n",
       "      <th>Total.Serious.Injuries</th>\n",
       "      <th>Total.Minor.Injuries</th>\n",
       "      <th>Total.Uninjured</th>\n",
       "    </tr>\n",
       "  </thead>\n",
       "  <tbody>\n",
       "    <tr>\n",
       "      <th>count</th>\n",
       "      <td>82805.000000</td>\n",
       "      <td>77488.000000</td>\n",
       "      <td>76379.000000</td>\n",
       "      <td>76956.000000</td>\n",
       "      <td>82977.000000</td>\n",
       "    </tr>\n",
       "    <tr>\n",
       "      <th>mean</th>\n",
       "      <td>1.146585</td>\n",
       "      <td>0.647855</td>\n",
       "      <td>0.279881</td>\n",
       "      <td>0.357061</td>\n",
       "      <td>5.325440</td>\n",
       "    </tr>\n",
       "    <tr>\n",
       "      <th>std</th>\n",
       "      <td>0.446510</td>\n",
       "      <td>5.485960</td>\n",
       "      <td>1.544084</td>\n",
       "      <td>2.235625</td>\n",
       "      <td>27.913634</td>\n",
       "    </tr>\n",
       "    <tr>\n",
       "      <th>min</th>\n",
       "      <td>0.000000</td>\n",
       "      <td>0.000000</td>\n",
       "      <td>0.000000</td>\n",
       "      <td>0.000000</td>\n",
       "      <td>0.000000</td>\n",
       "    </tr>\n",
       "    <tr>\n",
       "      <th>25%</th>\n",
       "      <td>1.000000</td>\n",
       "      <td>0.000000</td>\n",
       "      <td>0.000000</td>\n",
       "      <td>0.000000</td>\n",
       "      <td>0.000000</td>\n",
       "    </tr>\n",
       "    <tr>\n",
       "      <th>50%</th>\n",
       "      <td>1.000000</td>\n",
       "      <td>0.000000</td>\n",
       "      <td>0.000000</td>\n",
       "      <td>0.000000</td>\n",
       "      <td>1.000000</td>\n",
       "    </tr>\n",
       "    <tr>\n",
       "      <th>75%</th>\n",
       "      <td>1.000000</td>\n",
       "      <td>0.000000</td>\n",
       "      <td>0.000000</td>\n",
       "      <td>0.000000</td>\n",
       "      <td>2.000000</td>\n",
       "    </tr>\n",
       "    <tr>\n",
       "      <th>max</th>\n",
       "      <td>8.000000</td>\n",
       "      <td>349.000000</td>\n",
       "      <td>161.000000</td>\n",
       "      <td>380.000000</td>\n",
       "      <td>699.000000</td>\n",
       "    </tr>\n",
       "  </tbody>\n",
       "</table>\n",
       "</div>"
      ],
      "text/plain": [
       "       Number.of.Engines  Total.Fatal.Injuries  Total.Serious.Injuries  \\\n",
       "count       82805.000000          77488.000000            76379.000000   \n",
       "mean            1.146585              0.647855                0.279881   \n",
       "std             0.446510              5.485960                1.544084   \n",
       "min             0.000000              0.000000                0.000000   \n",
       "25%             1.000000              0.000000                0.000000   \n",
       "50%             1.000000              0.000000                0.000000   \n",
       "75%             1.000000              0.000000                0.000000   \n",
       "max             8.000000            349.000000              161.000000   \n",
       "\n",
       "       Total.Minor.Injuries  Total.Uninjured  \n",
       "count          76956.000000     82977.000000  \n",
       "mean               0.357061         5.325440  \n",
       "std                2.235625        27.913634  \n",
       "min                0.000000         0.000000  \n",
       "25%                0.000000         0.000000  \n",
       "50%                0.000000         1.000000  \n",
       "75%                0.000000         2.000000  \n",
       "max              380.000000       699.000000  "
      ]
     },
     "execution_count": 459,
     "metadata": {},
     "output_type": "execute_result"
    }
   ],
   "source": [
    "df.describe() #Summary statistics for numerical columns"
   ]
  },
  {
   "cell_type": "code",
   "execution_count": 460,
   "metadata": {},
   "outputs": [],
   "source": [
    "df.columns = df.columns.str.strip() #To remove whitespaces"
   ]
  },
  {
   "cell_type": "code",
   "execution_count": 461,
   "metadata": {},
   "outputs": [
    {
     "data": {
      "text/plain": [
       "array(['Accident', 'Incident'], dtype=object)"
      ]
     },
     "execution_count": 461,
     "metadata": {},
     "output_type": "execute_result"
    }
   ],
   "source": [
    "df['Investigation.Type'].unique() #Checking unique values before dropping the columns"
   ]
  },
  {
   "cell_type": "markdown",
   "metadata": {},
   "source": [
    "### Irelevant Columns"
   ]
  },
  {
   "cell_type": "code",
   "execution_count": 462,
   "metadata": {},
   "outputs": [
    {
     "data": {
      "text/html": [
       "<div>\n",
       "<style scoped>\n",
       "    .dataframe tbody tr th:only-of-type {\n",
       "        vertical-align: middle;\n",
       "    }\n",
       "\n",
       "    .dataframe tbody tr th {\n",
       "        vertical-align: top;\n",
       "    }\n",
       "\n",
       "    .dataframe thead th {\n",
       "        text-align: right;\n",
       "    }\n",
       "</style>\n",
       "<table border=\"1\" class=\"dataframe\">\n",
       "  <thead>\n",
       "    <tr style=\"text-align: right;\">\n",
       "      <th></th>\n",
       "      <th>Event.Date</th>\n",
       "      <th>Location</th>\n",
       "      <th>Country</th>\n",
       "      <th>Airport.Name</th>\n",
       "      <th>Injury.Severity</th>\n",
       "      <th>Aircraft.damage</th>\n",
       "      <th>Aircraft.Category</th>\n",
       "      <th>Make</th>\n",
       "      <th>Model</th>\n",
       "      <th>Amateur.Built</th>\n",
       "      <th>...</th>\n",
       "      <th>Schedule</th>\n",
       "      <th>Purpose.of.flight</th>\n",
       "      <th>Air.carrier</th>\n",
       "      <th>Total.Fatal.Injuries</th>\n",
       "      <th>Total.Serious.Injuries</th>\n",
       "      <th>Total.Minor.Injuries</th>\n",
       "      <th>Total.Uninjured</th>\n",
       "      <th>Weather.Condition</th>\n",
       "      <th>Broad.phase.of.flight</th>\n",
       "      <th>Report.Status</th>\n",
       "    </tr>\n",
       "  </thead>\n",
       "  <tbody>\n",
       "    <tr>\n",
       "      <th>0</th>\n",
       "      <td>1948-10-24</td>\n",
       "      <td>MOOSE CREEK, ID</td>\n",
       "      <td>United States</td>\n",
       "      <td>NaN</td>\n",
       "      <td>Fatal(2)</td>\n",
       "      <td>Destroyed</td>\n",
       "      <td>NaN</td>\n",
       "      <td>Stinson</td>\n",
       "      <td>108-3</td>\n",
       "      <td>No</td>\n",
       "      <td>...</td>\n",
       "      <td>NaN</td>\n",
       "      <td>Personal</td>\n",
       "      <td>NaN</td>\n",
       "      <td>2.0</td>\n",
       "      <td>0.0</td>\n",
       "      <td>0.0</td>\n",
       "      <td>0.0</td>\n",
       "      <td>UNK</td>\n",
       "      <td>Cruise</td>\n",
       "      <td>Probable Cause</td>\n",
       "    </tr>\n",
       "    <tr>\n",
       "      <th>1</th>\n",
       "      <td>1962-07-19</td>\n",
       "      <td>BRIDGEPORT, CA</td>\n",
       "      <td>United States</td>\n",
       "      <td>NaN</td>\n",
       "      <td>Fatal(4)</td>\n",
       "      <td>Destroyed</td>\n",
       "      <td>NaN</td>\n",
       "      <td>Piper</td>\n",
       "      <td>PA24-180</td>\n",
       "      <td>No</td>\n",
       "      <td>...</td>\n",
       "      <td>NaN</td>\n",
       "      <td>Personal</td>\n",
       "      <td>NaN</td>\n",
       "      <td>4.0</td>\n",
       "      <td>0.0</td>\n",
       "      <td>0.0</td>\n",
       "      <td>0.0</td>\n",
       "      <td>UNK</td>\n",
       "      <td>Unknown</td>\n",
       "      <td>Probable Cause</td>\n",
       "    </tr>\n",
       "    <tr>\n",
       "      <th>2</th>\n",
       "      <td>1974-08-30</td>\n",
       "      <td>Saltville, VA</td>\n",
       "      <td>United States</td>\n",
       "      <td>NaN</td>\n",
       "      <td>Fatal(3)</td>\n",
       "      <td>Destroyed</td>\n",
       "      <td>NaN</td>\n",
       "      <td>Cessna</td>\n",
       "      <td>172M</td>\n",
       "      <td>No</td>\n",
       "      <td>...</td>\n",
       "      <td>NaN</td>\n",
       "      <td>Personal</td>\n",
       "      <td>NaN</td>\n",
       "      <td>3.0</td>\n",
       "      <td>NaN</td>\n",
       "      <td>NaN</td>\n",
       "      <td>NaN</td>\n",
       "      <td>IMC</td>\n",
       "      <td>Cruise</td>\n",
       "      <td>Probable Cause</td>\n",
       "    </tr>\n",
       "    <tr>\n",
       "      <th>3</th>\n",
       "      <td>1977-06-19</td>\n",
       "      <td>EUREKA, CA</td>\n",
       "      <td>United States</td>\n",
       "      <td>NaN</td>\n",
       "      <td>Fatal(2)</td>\n",
       "      <td>Destroyed</td>\n",
       "      <td>NaN</td>\n",
       "      <td>Rockwell</td>\n",
       "      <td>112</td>\n",
       "      <td>No</td>\n",
       "      <td>...</td>\n",
       "      <td>NaN</td>\n",
       "      <td>Personal</td>\n",
       "      <td>NaN</td>\n",
       "      <td>2.0</td>\n",
       "      <td>0.0</td>\n",
       "      <td>0.0</td>\n",
       "      <td>0.0</td>\n",
       "      <td>IMC</td>\n",
       "      <td>Cruise</td>\n",
       "      <td>Probable Cause</td>\n",
       "    </tr>\n",
       "    <tr>\n",
       "      <th>4</th>\n",
       "      <td>1979-08-02</td>\n",
       "      <td>Canton, OH</td>\n",
       "      <td>United States</td>\n",
       "      <td>NaN</td>\n",
       "      <td>Fatal(1)</td>\n",
       "      <td>Destroyed</td>\n",
       "      <td>NaN</td>\n",
       "      <td>Cessna</td>\n",
       "      <td>501</td>\n",
       "      <td>No</td>\n",
       "      <td>...</td>\n",
       "      <td>NaN</td>\n",
       "      <td>Personal</td>\n",
       "      <td>NaN</td>\n",
       "      <td>1.0</td>\n",
       "      <td>2.0</td>\n",
       "      <td>NaN</td>\n",
       "      <td>0.0</td>\n",
       "      <td>VMC</td>\n",
       "      <td>Approach</td>\n",
       "      <td>Probable Cause</td>\n",
       "    </tr>\n",
       "    <tr>\n",
       "      <th>...</th>\n",
       "      <td>...</td>\n",
       "      <td>...</td>\n",
       "      <td>...</td>\n",
       "      <td>...</td>\n",
       "      <td>...</td>\n",
       "      <td>...</td>\n",
       "      <td>...</td>\n",
       "      <td>...</td>\n",
       "      <td>...</td>\n",
       "      <td>...</td>\n",
       "      <td>...</td>\n",
       "      <td>...</td>\n",
       "      <td>...</td>\n",
       "      <td>...</td>\n",
       "      <td>...</td>\n",
       "      <td>...</td>\n",
       "      <td>...</td>\n",
       "      <td>...</td>\n",
       "      <td>...</td>\n",
       "      <td>...</td>\n",
       "      <td>...</td>\n",
       "    </tr>\n",
       "    <tr>\n",
       "      <th>88884</th>\n",
       "      <td>2022-12-26</td>\n",
       "      <td>Annapolis, MD</td>\n",
       "      <td>United States</td>\n",
       "      <td>NaN</td>\n",
       "      <td>Minor</td>\n",
       "      <td>NaN</td>\n",
       "      <td>NaN</td>\n",
       "      <td>PIPER</td>\n",
       "      <td>PA-28-151</td>\n",
       "      <td>No</td>\n",
       "      <td>...</td>\n",
       "      <td>NaN</td>\n",
       "      <td>Personal</td>\n",
       "      <td>NaN</td>\n",
       "      <td>0.0</td>\n",
       "      <td>1.0</td>\n",
       "      <td>0.0</td>\n",
       "      <td>0.0</td>\n",
       "      <td>NaN</td>\n",
       "      <td>NaN</td>\n",
       "      <td>NaN</td>\n",
       "    </tr>\n",
       "    <tr>\n",
       "      <th>88885</th>\n",
       "      <td>2022-12-26</td>\n",
       "      <td>Hampton, NH</td>\n",
       "      <td>United States</td>\n",
       "      <td>NaN</td>\n",
       "      <td>NaN</td>\n",
       "      <td>NaN</td>\n",
       "      <td>NaN</td>\n",
       "      <td>BELLANCA</td>\n",
       "      <td>7ECA</td>\n",
       "      <td>No</td>\n",
       "      <td>...</td>\n",
       "      <td>NaN</td>\n",
       "      <td>NaN</td>\n",
       "      <td>NaN</td>\n",
       "      <td>0.0</td>\n",
       "      <td>0.0</td>\n",
       "      <td>0.0</td>\n",
       "      <td>0.0</td>\n",
       "      <td>NaN</td>\n",
       "      <td>NaN</td>\n",
       "      <td>NaN</td>\n",
       "    </tr>\n",
       "    <tr>\n",
       "      <th>88886</th>\n",
       "      <td>2022-12-26</td>\n",
       "      <td>Payson, AZ</td>\n",
       "      <td>United States</td>\n",
       "      <td>PAYSON</td>\n",
       "      <td>Non-Fatal</td>\n",
       "      <td>Substantial</td>\n",
       "      <td>Airplane</td>\n",
       "      <td>AMERICAN CHAMPION AIRCRAFT</td>\n",
       "      <td>8GCBC</td>\n",
       "      <td>No</td>\n",
       "      <td>...</td>\n",
       "      <td>NaN</td>\n",
       "      <td>Personal</td>\n",
       "      <td>NaN</td>\n",
       "      <td>0.0</td>\n",
       "      <td>0.0</td>\n",
       "      <td>0.0</td>\n",
       "      <td>1.0</td>\n",
       "      <td>VMC</td>\n",
       "      <td>NaN</td>\n",
       "      <td>NaN</td>\n",
       "    </tr>\n",
       "    <tr>\n",
       "      <th>88887</th>\n",
       "      <td>2022-12-26</td>\n",
       "      <td>Morgan, UT</td>\n",
       "      <td>United States</td>\n",
       "      <td>NaN</td>\n",
       "      <td>NaN</td>\n",
       "      <td>NaN</td>\n",
       "      <td>NaN</td>\n",
       "      <td>CESSNA</td>\n",
       "      <td>210N</td>\n",
       "      <td>No</td>\n",
       "      <td>...</td>\n",
       "      <td>NaN</td>\n",
       "      <td>Personal</td>\n",
       "      <td>MC CESSNA 210N LLC</td>\n",
       "      <td>0.0</td>\n",
       "      <td>0.0</td>\n",
       "      <td>0.0</td>\n",
       "      <td>0.0</td>\n",
       "      <td>NaN</td>\n",
       "      <td>NaN</td>\n",
       "      <td>NaN</td>\n",
       "    </tr>\n",
       "    <tr>\n",
       "      <th>88888</th>\n",
       "      <td>2022-12-29</td>\n",
       "      <td>Athens, GA</td>\n",
       "      <td>United States</td>\n",
       "      <td>NaN</td>\n",
       "      <td>Minor</td>\n",
       "      <td>NaN</td>\n",
       "      <td>NaN</td>\n",
       "      <td>PIPER</td>\n",
       "      <td>PA-24-260</td>\n",
       "      <td>No</td>\n",
       "      <td>...</td>\n",
       "      <td>NaN</td>\n",
       "      <td>Personal</td>\n",
       "      <td>NaN</td>\n",
       "      <td>0.0</td>\n",
       "      <td>1.0</td>\n",
       "      <td>0.0</td>\n",
       "      <td>1.0</td>\n",
       "      <td>NaN</td>\n",
       "      <td>NaN</td>\n",
       "      <td>NaN</td>\n",
       "    </tr>\n",
       "  </tbody>\n",
       "</table>\n",
       "<p>88889 rows × 23 columns</p>\n",
       "</div>"
      ],
      "text/plain": [
       "       Event.Date         Location        Country Airport.Name  \\\n",
       "0      1948-10-24  MOOSE CREEK, ID  United States          NaN   \n",
       "1      1962-07-19   BRIDGEPORT, CA  United States          NaN   \n",
       "2      1974-08-30    Saltville, VA  United States          NaN   \n",
       "3      1977-06-19       EUREKA, CA  United States          NaN   \n",
       "4      1979-08-02       Canton, OH  United States          NaN   \n",
       "...           ...              ...            ...          ...   \n",
       "88884  2022-12-26    Annapolis, MD  United States          NaN   \n",
       "88885  2022-12-26      Hampton, NH  United States          NaN   \n",
       "88886  2022-12-26       Payson, AZ  United States       PAYSON   \n",
       "88887  2022-12-26       Morgan, UT  United States          NaN   \n",
       "88888  2022-12-29       Athens, GA  United States          NaN   \n",
       "\n",
       "      Injury.Severity Aircraft.damage Aircraft.Category  \\\n",
       "0            Fatal(2)       Destroyed               NaN   \n",
       "1            Fatal(4)       Destroyed               NaN   \n",
       "2            Fatal(3)       Destroyed               NaN   \n",
       "3            Fatal(2)       Destroyed               NaN   \n",
       "4            Fatal(1)       Destroyed               NaN   \n",
       "...               ...             ...               ...   \n",
       "88884           Minor             NaN               NaN   \n",
       "88885             NaN             NaN               NaN   \n",
       "88886       Non-Fatal     Substantial          Airplane   \n",
       "88887             NaN             NaN               NaN   \n",
       "88888           Minor             NaN               NaN   \n",
       "\n",
       "                             Make      Model Amateur.Built  ...  Schedule  \\\n",
       "0                         Stinson      108-3            No  ...       NaN   \n",
       "1                           Piper   PA24-180            No  ...       NaN   \n",
       "2                          Cessna       172M            No  ...       NaN   \n",
       "3                        Rockwell        112            No  ...       NaN   \n",
       "4                          Cessna        501            No  ...       NaN   \n",
       "...                           ...        ...           ...  ...       ...   \n",
       "88884                       PIPER  PA-28-151            No  ...       NaN   \n",
       "88885                    BELLANCA       7ECA            No  ...       NaN   \n",
       "88886  AMERICAN CHAMPION AIRCRAFT      8GCBC            No  ...       NaN   \n",
       "88887                      CESSNA       210N            No  ...       NaN   \n",
       "88888                       PIPER  PA-24-260            No  ...       NaN   \n",
       "\n",
       "      Purpose.of.flight         Air.carrier Total.Fatal.Injuries  \\\n",
       "0              Personal                 NaN                  2.0   \n",
       "1              Personal                 NaN                  4.0   \n",
       "2              Personal                 NaN                  3.0   \n",
       "3              Personal                 NaN                  2.0   \n",
       "4              Personal                 NaN                  1.0   \n",
       "...                 ...                 ...                  ...   \n",
       "88884          Personal                 NaN                  0.0   \n",
       "88885               NaN                 NaN                  0.0   \n",
       "88886          Personal                 NaN                  0.0   \n",
       "88887          Personal  MC CESSNA 210N LLC                  0.0   \n",
       "88888          Personal                 NaN                  0.0   \n",
       "\n",
       "      Total.Serious.Injuries Total.Minor.Injuries  Total.Uninjured  \\\n",
       "0                        0.0                  0.0              0.0   \n",
       "1                        0.0                  0.0              0.0   \n",
       "2                        NaN                  NaN              NaN   \n",
       "3                        0.0                  0.0              0.0   \n",
       "4                        2.0                  NaN              0.0   \n",
       "...                      ...                  ...              ...   \n",
       "88884                    1.0                  0.0              0.0   \n",
       "88885                    0.0                  0.0              0.0   \n",
       "88886                    0.0                  0.0              1.0   \n",
       "88887                    0.0                  0.0              0.0   \n",
       "88888                    1.0                  0.0              1.0   \n",
       "\n",
       "       Weather.Condition  Broad.phase.of.flight   Report.Status  \n",
       "0                    UNK                 Cruise  Probable Cause  \n",
       "1                    UNK                Unknown  Probable Cause  \n",
       "2                    IMC                 Cruise  Probable Cause  \n",
       "3                    IMC                 Cruise  Probable Cause  \n",
       "4                    VMC               Approach  Probable Cause  \n",
       "...                  ...                    ...             ...  \n",
       "88884                NaN                    NaN             NaN  \n",
       "88885                NaN                    NaN             NaN  \n",
       "88886                VMC                    NaN             NaN  \n",
       "88887                NaN                    NaN             NaN  \n",
       "88888                NaN                    NaN             NaN  \n",
       "\n",
       "[88889 rows x 23 columns]"
      ]
     },
     "execution_count": 462,
     "metadata": {},
     "output_type": "execute_result"
    }
   ],
   "source": [
    "#Removes :\"Event.Id\", \"Investigation.Type\", \"Accident.Number\", \"Airport.Code\", \"Registration.Number\", \"Publication.Date\",'Latitude', 'Longitude'\n",
    "#They are not relevant in this Analysis\n",
    "df_relevant = df.drop(columns = [\"Event.Id\", \"Investigation.Type\", \"Accident.Number\", \"Airport.Code\", \"Registration.Number\", \"Publication.Date\",'Latitude', 'Longitude',], errors='ignore')\n",
    "df_relevant.columns\n",
    "df_relevant\n"
   ]
  },
  {
   "cell_type": "code",
   "execution_count": 463,
   "metadata": {},
   "outputs": [
    {
     "data": {
      "text/plain": [
       "Event.Date                    0\n",
       "Location                     52\n",
       "Country                     226\n",
       "Airport.Name              36099\n",
       "Injury.Severity            1000\n",
       "Aircraft.damage            3194\n",
       "Aircraft.Category         56602\n",
       "Make                         63\n",
       "Model                        92\n",
       "Amateur.Built               102\n",
       "Number.of.Engines          6084\n",
       "Engine.Type                7077\n",
       "FAR.Description           56866\n",
       "Schedule                  76307\n",
       "Purpose.of.flight          6192\n",
       "Air.carrier               72241\n",
       "Total.Fatal.Injuries      11401\n",
       "Total.Serious.Injuries    12510\n",
       "Total.Minor.Injuries      11933\n",
       "Total.Uninjured            5912\n",
       "Weather.Condition          4492\n",
       "Broad.phase.of.flight     27165\n",
       "Report.Status              6381\n",
       "dtype: int64"
      ]
     },
     "execution_count": 463,
     "metadata": {},
     "output_type": "execute_result"
    }
   ],
   "source": [
    "df_relevant.isnull().sum() #Checks for null values for the relevant data"
   ]
  },
  {
   "cell_type": "markdown",
   "metadata": {},
   "source": [
    "## DATA CLEANING"
   ]
  },
  {
   "cell_type": "markdown",
   "metadata": {},
   "source": [
    "## Handling Missing Data"
   ]
  },
  {
   "cell_type": "markdown",
   "metadata": {},
   "source": [
    "#### Event Date"
   ]
  },
  {
   "cell_type": "code",
   "execution_count": 464,
   "metadata": {},
   "outputs": [
    {
     "data": {
      "text/plain": [
       "0   1948-10-24\n",
       "1   1962-07-19\n",
       "2   1974-08-30\n",
       "3   1977-06-19\n",
       "4   1979-08-02\n",
       "Name: Event.Date, dtype: datetime64[ns]"
      ]
     },
     "execution_count": 464,
     "metadata": {},
     "output_type": "execute_result"
    }
   ],
   "source": [
    "df_relevant['Event.Date'].dtype #The date is in string format\n",
    "\n",
    "#Detects and converts to correct date format\n",
    "df_relevant['Event.Date'] = pd.to_datetime(df_relevant['Event.Date'], errors='coerce')\n",
    "df_relevant['Event.Date'].head()\n"
   ]
  },
  {
   "cell_type": "code",
   "execution_count": 465,
   "metadata": {},
   "outputs": [],
   "source": [
    "df_relevant['Location'].fillna(\"Unknown\", inplace = True) #Replaced NaN with unknown to remove the null\n"
   ]
  },
  {
   "cell_type": "markdown",
   "metadata": {},
   "source": [
    "#### Location"
   ]
  },
  {
   "cell_type": "code",
   "execution_count": 466,
   "metadata": {},
   "outputs": [],
   "source": [
    "df_relevant['Location'] = df_relevant['Location'].str.strip().str.title()  # Fix spaces & capitalization\n",
    "df_relevant['Country'] = df_relevant['Country'].str.strip().str.title()"
   ]
  },
  {
   "cell_type": "code",
   "execution_count": 467,
   "metadata": {},
   "outputs": [
    {
     "data": {
      "text/plain": [
       "Event.Date                    0\n",
       "Location                      0\n",
       "Country                     226\n",
       "Airport.Name              36099\n",
       "Injury.Severity            1000\n",
       "Aircraft.damage            3194\n",
       "Aircraft.Category         56602\n",
       "Make                         63\n",
       "Model                        92\n",
       "Amateur.Built               102\n",
       "Number.of.Engines          6084\n",
       "Engine.Type                7077\n",
       "FAR.Description           56866\n",
       "Schedule                  76307\n",
       "Purpose.of.flight          6192\n",
       "Air.carrier               72241\n",
       "Total.Fatal.Injuries      11401\n",
       "Total.Serious.Injuries    12510\n",
       "Total.Minor.Injuries      11933\n",
       "Total.Uninjured            5912\n",
       "Weather.Condition          4492\n",
       "Broad.phase.of.flight     27165\n",
       "Report.Status              6381\n",
       "dtype: int64"
      ]
     },
     "execution_count": 467,
     "metadata": {},
     "output_type": "execute_result"
    }
   ],
   "source": [
    "df_relevant.isnull().sum() #Counts the sum of missing values in all columns"
   ]
  },
  {
   "cell_type": "markdown",
   "metadata": {},
   "source": [
    "#### Country"
   ]
  },
  {
   "cell_type": "code",
   "execution_count": 468,
   "metadata": {},
   "outputs": [
    {
     "name": "stdout",
     "output_type": "stream",
     "text": [
      "226\n"
     ]
    }
   ],
   "source": [
    "print(df_relevant['Country'].isnull().sum())  # Count missing values\n",
    " \n"
   ]
  },
  {
   "cell_type": "code",
   "execution_count": 469,
   "metadata": {},
   "outputs": [
    {
     "data": {
      "text/plain": [
       "<bound method Series.isnull of 0        United States\n",
       "1        United States\n",
       "2        United States\n",
       "3        United States\n",
       "4        United States\n",
       "             ...      \n",
       "88884    United States\n",
       "88885    United States\n",
       "88886    United States\n",
       "88887    United States\n",
       "88888    United States\n",
       "Name: Country, Length: 88889, dtype: object>"
      ]
     },
     "execution_count": 469,
     "metadata": {},
     "output_type": "execute_result"
    }
   ],
   "source": [
    "df_relevant['Country'].fillna(df_relevant['Location'], inplace = True) #Replaces the NaN values in the Country with coresponding values in the location\n",
    "df_relevant['Country'].isnull"
   ]
  },
  {
   "cell_type": "markdown",
   "metadata": {},
   "source": [
    "#### Airport.Name"
   ]
  },
  {
   "cell_type": "code",
   "execution_count": 470,
   "metadata": {},
   "outputs": [],
   "source": [
    "df_relevant['Airport.Name'].fillna('PRIVATE', inplace = True) #Replaces null values in Airport.Name to PRIVATE which is the mode value"
   ]
  },
  {
   "cell_type": "code",
   "execution_count": 471,
   "metadata": {},
   "outputs": [
    {
     "data": {
      "text/plain": [
       "PRIVATE             36323\n",
       "Private               240\n",
       "Private Airstrip      153\n",
       "NONE                  146\n",
       "PRIVATE STRIP         111\n",
       "Name: Airport.Name, dtype: int64"
      ]
     },
     "execution_count": 471,
     "metadata": {},
     "output_type": "execute_result"
    }
   ],
   "source": [
    "#Replaces all unknown and repetitive values to one vale \"PRIVATE AIRSTRIP\"\n",
    "top_5_airports = df_relevant[\"Airport.Name\"].value_counts().head()\n",
    "df_relevant[\"Airport.Name\"] = df_relevant[\"Airport.Name\"].replace(\"PRIVATE\", \"PRIVATE AIRSTRIP\")\n",
    "df_relevant[\"Airport.Name\"] = df_relevant[\"Airport.Name\"].replace(\"Private Airstrip\", \"PRIVATE AIRSTRIP\")\n",
    "df_relevant[\"Airport.Name\"] = df_relevant[\"Airport.Name\"].replace(\"NONE\", \"PRIVATE AIRSTRIP\")\n",
    "df_relevant[\"Airport.Name\"] = df_relevant[\"Airport.Name\"].replace(\"PRIVATE STRIP\", \"PRIVATE AIRSTRIP\")\n",
    "df_relevant[\"Airport.Name\"] = df_relevant[\"Airport.Name\"].replace(\"None\", \"PRIVATE AIRSTRIP\")\n",
    "df_relevant[\"Airport.Name\"] = df_relevant[\"Airport.Name\"].replace(\"UNKNOWN\", \"PRIVATE AIRSTRIP\")\n",
    "df_relevant[\"Airport.Name\"] = df_relevant[\"Airport.Name\"].replace(\"Private Strip\", \"PRIVATE AIRSTRIP\")\n",
    "df_relevant[\"Airport.Name\"] = df_relevant[\"Airport.Name\"].replace(\"Private\", \"PRIVATE AIRSTRIP\")\n",
    "top_5_airports"
   ]
  },
  {
   "cell_type": "markdown",
   "metadata": {},
   "source": [
    "#### Injury.Severity"
   ]
  },
  {
   "cell_type": "code",
   "execution_count": 472,
   "metadata": {},
   "outputs": [],
   "source": [
    "#Dropped 'Injury.Severity' becaInjury.Severityuse we have total fatal,serious,unserious,minor and uninjured columns we can work with\n",
    "df_relevant.drop(columns = ['Injury.Severity'], inplace = True)"
   ]
  },
  {
   "cell_type": "code",
   "execution_count": 473,
   "metadata": {},
   "outputs": [
    {
     "data": {
      "text/plain": [
       "Substantial    67461\n",
       "Destroyed      18623\n",
       "Minor           2805\n",
       "Name: Aircraft.damage, dtype: int64"
      ]
     },
     "execution_count": 473,
     "metadata": {},
     "output_type": "execute_result"
    }
   ],
   "source": [
    "#Replaces the null values and the unknow with substantial which is the mode value\n",
    "df_relevant['Aircraft.damage'].fillna('Substantial', inplace = True)\n",
    "df_relevant['Aircraft.damage'].replace('Unknown', 'Substantial', inplace = True)\n",
    "df_relevant['Aircraft.damage'].value_counts().head()\n"
   ]
  },
  {
   "cell_type": "markdown",
   "metadata": {},
   "source": [
    "#### Aircraft.Category"
   ]
  },
  {
   "cell_type": "code",
   "execution_count": 474,
   "metadata": {},
   "outputs": [],
   "source": [
    "#The company is specifically interested with airplanes so we just need drop the aircraft category column\n",
    "df_relevant.drop(columns = ['Aircraft.Category'], inplace = True)"
   ]
  },
  {
   "cell_type": "markdown",
   "metadata": {},
   "source": [
    "#### Amateur.Built"
   ]
  },
  {
   "cell_type": "code",
   "execution_count": 475,
   "metadata": {},
   "outputs": [
    {
     "data": {
      "text/plain": [
       "No     80414\n",
       "Yes     8475\n",
       "Name: Amateur.Built, dtype: int64"
      ]
     },
     "execution_count": 475,
     "metadata": {},
     "output_type": "execute_result"
    }
   ],
   "source": [
    "#Replaced null values  with 'No' which is the mode value\n",
    "df_relevant['Amateur.Built'].fillna('No', inplace = True)\n",
    "df_relevant['Amateur.Built'].value_counts().head()"
   ]
  },
  {
   "cell_type": "markdown",
   "metadata": {},
   "source": [
    "#### Make"
   ]
  },
  {
   "cell_type": "code",
   "execution_count": 476,
   "metadata": {},
   "outputs": [
    {
     "data": {
      "text/plain": [
       "Cessna                   27065\n",
       "Piper                    14826\n",
       "Unknown Amateur-Built     8475\n",
       "Beech                     4314\n",
       "Boeing                    2731\n",
       "Bell                      2115\n",
       "Grumman                   1090\n",
       "Mooney                    1083\n",
       "BEECH                     1042\n",
       "Robinson                   938\n",
       "Bellanca                   881\n",
       "Hughes                     792\n",
       "Mcdonnell Douglas          773\n",
       "Schweizer                  626\n",
       "Air Tractor                595\n",
       "BELL                       588\n",
       "Aeronca                    485\n",
       "Maule                      444\n",
       "Champion                   424\n",
       "De Havilland               380\n",
       "Aero Commander             358\n",
       "Stinson                    347\n",
       "Aerospatiale               340\n",
       "Rockwell                   330\n",
       "Taylorcraft                321\n",
       "Luscombe                   317\n",
       "Hiller                     308\n",
       "North American             304\n",
       "ROBINSON                   283\n",
       "AIRBUS                     250\n",
       "Name: Make, dtype: int64"
      ]
     },
     "execution_count": 476,
     "metadata": {},
     "output_type": "execute_result"
    }
   ],
   "source": [
    "df_relevant['Make'].value_counts().head()\n",
    "# Replaced some of the null values with unknown ameteurs \n",
    "df_relevant.loc[df_relevant[\"Amateur.Built\"] == \"Yes\", \"Make\"] = \"Unknown Amateur-Built\"\n",
    "#Replaced 'CESSNA', With 'Cessna' to avoid repetion\n",
    "df_relevant['Make'].replace('CESSNA', 'Cessna', inplace = True)\n",
    "df_relevant['Make'].replace('PIPER', 'Piper', inplace = True)\n",
    "df_relevant['Make'].replace('BOEING', 'Boeing', inplace = True)\n",
    "df_relevant['Make'].replace('Douglas', 'Mcdonnell Douglas', inplace = True)\n",
    "#Replaced the remaining null values to uknown \n",
    "df_relevant['Make'].fillna('Unknown', inplace = True)\n",
    "\n",
    "df_relevant['Make'].value_counts().head(30)\n"
   ]
  },
  {
   "cell_type": "markdown",
   "metadata": {},
   "source": [
    "#### Model"
   ]
  },
  {
   "cell_type": "code",
   "execution_count": 477,
   "metadata": {
    "scrolled": true
   },
   "outputs": [
    {
     "data": {
      "text/plain": [
       "152          2367\n",
       "172          1756\n",
       "172N         1164\n",
       "PA-28-140     932\n",
       "150           829\n",
       "Name: Model, dtype: int64"
      ]
     },
     "execution_count": 477,
     "metadata": {},
     "output_type": "execute_result"
    }
   ],
   "source": [
    "#Some of t`he models that had unknown makes are assigned to uknown makes\n",
    "df_relevant.loc[df_relevant[\"Make\"] == \"Unknown\", [\"Unknown Amateur-Built\", \"Model\"]] = \"Unknown Make\"\n",
    "#The rest null values has been assigned to uknown\n",
    "df_relevant['Model'].fillna('Unknown', inplace = True)\n",
    "df_relevant['Model'].value_counts().head()"
   ]
  },
  {
   "cell_type": "markdown",
   "metadata": {},
   "source": [
    "#### Make_Model"
   ]
  },
  {
   "cell_type": "markdown",
   "metadata": {},
   "source": [
    "Made a new column comprising of the make and its model to make it easier to visualize and be able to decide the exact airplane the company would require"
   ]
  },
  {
   "cell_type": "code",
   "execution_count": 478,
   "metadata": {},
   "outputs": [
    {
     "data": {
      "text/plain": [
       "0                   Stinson  108-3\n",
       "1                  Piper  PA24-180\n",
       "2                     Cessna  172M\n",
       "3                    Rockwell  112\n",
       "4                      Cessna  501\n",
       "5           Mcdonnell Douglas  DC9\n",
       "6                      Cessna  180\n",
       "7                      Cessna  140\n",
       "8                     Cessna  401B\n",
       "9     North American  NAVION L-17B\n",
       "10                Piper  PA-28-161\n",
       "11                     Beech  V35B\n",
       "12                Bellanca  17-30A\n",
       "13                   Cessna  R172K\n",
       "14                       Navion  A\n",
       "15                       Beech  19\n",
       "16                   Enstrom  280C\n",
       "17                     Cessna  180\n",
       "18                     Cessna  172\n",
       "19       Smith  WCS-222 (BELL 47G)\n",
       "Name: Make_Model, dtype: object"
      ]
     },
     "execution_count": 478,
     "metadata": {},
     "output_type": "execute_result"
    }
   ],
   "source": [
    "df_relevant['Make_Model'] = df_relevant['Make'] + \"  \" + df_relevant['Model']\n",
    "df_relevant['Make_Model'].head(20)"
   ]
  },
  {
   "cell_type": "code",
   "execution_count": null,
   "metadata": {},
   "outputs": [],
   "source": []
  },
  {
   "cell_type": "markdown",
   "metadata": {},
   "source": [
    "#### Number.of.Engines"
   ]
  },
  {
   "cell_type": "code",
   "execution_count": 479,
   "metadata": {},
   "outputs": [
    {
     "data": {
      "text/plain": [
       "1.0    69582\n",
       "2.0    11079\n",
       "0.0     1226\n",
       "3.0      483\n",
       "4.0      431\n",
       "8.0        3\n",
       "6.0        1\n",
       "Name: Number.of.Engines, dtype: int64"
      ]
     },
     "execution_count": 479,
     "metadata": {},
     "output_type": "execute_result"
    }
   ],
   "source": [
    "df_relevant['Number.of.Engines'].value_counts()\n"
   ]
  },
  {
   "cell_type": "code",
   "execution_count": 480,
   "metadata": {},
   "outputs": [
    {
     "data": {
      "text/plain": [
       "94943.0"
      ]
     },
     "execution_count": 480,
     "metadata": {},
     "output_type": "execute_result"
    }
   ],
   "source": [
    "#Replaced the null value with 0 and converted averything into numeric datatype\n",
    "\n",
    "df_relevant[\"Number.of.Engines\"] = pd.to_numeric(df_relevant[\"Number.of.Engines\"], errors=\"coerce\")\n",
    "df_relevant['Number.of.Engines'].fillna(0, inplace = True)\n",
    "df_relevant[\"Number.of.Engines\"].sum()\n"
   ]
  },
  {
   "cell_type": "markdown",
   "metadata": {},
   "source": [
    "#### Engine.Type"
   ]
  },
  {
   "cell_type": "code",
   "execution_count": 481,
   "metadata": {},
   "outputs": [
    {
     "data": {
      "text/plain": [
       "Reciprocating          69023\n",
       "Unknown Engine Type     9912\n",
       "Turbo Shaft             3531\n",
       "Turbo Prop              3326\n",
       "Turbo Fan               2380\n",
       "Turbo Jet                695\n",
       "Geared Turbofan           11\n",
       "Electric                   8\n",
       "LR                         2\n",
       "Hybrid Rocket              1\n",
       "Name: Engine.Type, dtype: int64"
      ]
     },
     "execution_count": 481,
     "metadata": {},
     "output_type": "execute_result"
    }
   ],
   "source": [
    "#It check for the rows with 0(Unknown) number of engines, then replaces the with uknown types\n",
    "df_relevant.loc[df_relevant[\"Number.of.Engines\"] == 0, \"Engine.Type\"] = \"Unknown Engine Type\"\n",
    "#It replaces Uknown and none types with unkown engine types\n",
    "\n",
    "df_relevant['Engine.Type'].replace('Unknown', 'Unknown Engine Type', inplace = True)\n",
    "df_relevant['Engine.Type'].replace('None', 'Unknown Engine Type', inplace = True)\n",
    "df_relevant['Engine.Type'].replace('UNK', 'Unknown Engine Type', inplace = True)\n",
    "#The remaining null value are also replaced with 'Unknown Engine Type'\n",
    "df_relevant['Engine.Type'].fillna('Unknown Engine Type', inplace = True)\n",
    "df_relevant['Engine.Type'].value_counts()"
   ]
  },
  {
   "cell_type": "markdown",
   "metadata": {},
   "source": [
    "#### FAR.Description"
   ]
  },
  {
   "cell_type": "code",
   "execution_count": 482,
   "metadata": {
    "scrolled": true
   },
   "outputs": [
    {
     "data": {
      "text/plain": [
       "Unknown    56888\n",
       "Part 91    24721\n",
       "NUSN        1584\n",
       "NUSC        1013\n",
       "137         1010\n",
       "Name: FAR.Description, dtype: int64"
      ]
     },
     "execution_count": 482,
     "metadata": {},
     "output_type": "execute_result"
    }
   ],
   "source": [
    "#We want the part 91 and 121 which are private and commercial use only and set the null to unknown \n",
    "far_replacements = {\n",
    "    '091': 'Part 91',\n",
    "    'Part 91: General Aviation': 'Part 91',\n",
    "    '091K': 'Part 91',\n",
    "    'Part 91F': 'Part 91',\n",
    "    'Part 91 Subpart K: Fractional091': 'Part 91',\n",
    "    '121': 'Part 121',\n",
    "    'Non-U.S., Commercial': 'Part 121',\n",
    "    'Part 121: Air Carrier': 'Part 121'\n",
    "}\n",
    "\n",
    "df_relevant['FAR.Description'].replace(far_replacements, inplace=True)\n",
    "\n",
    "df_relevant['FAR.Description'].fillna('Unknown', inplace = True)\n",
    "\n",
    "df_relevant['FAR.Description'].value_counts().head()"
   ]
  },
  {
   "cell_type": "markdown",
   "metadata": {},
   "source": [
    "#### Schedule"
   ]
  },
  {
   "cell_type": "code",
   "execution_count": 483,
   "metadata": {},
   "outputs": [
    {
     "data": {
      "text/plain": [
       "Unknown          80406\n",
       "Non_Scheduled     4474\n",
       "Scheduled         4009\n",
       "Name: Schedule, dtype: int64"
      ]
     },
     "execution_count": 483,
     "metadata": {},
     "output_type": "execute_result"
    }
   ],
   "source": [
    "#We categorize the null values as uknown and group data for better understanding\n",
    "df_relevant['Schedule'].fillna('Unknown', inplace = True)\n",
    "df_relevant['Schedule'].replace('UNK', 'Unknown', inplace = True)\n",
    "df_relevant['Schedule'].replace({'NSCH':'Non_Scheduled','SCHD':'Scheduled'}, inplace = True)\n",
    "df_relevant['Schedule'].value_counts()"
   ]
  },
  {
   "cell_type": "markdown",
   "metadata": {},
   "source": [
    "#### Purpose.of.flight"
   ]
  },
  {
   "cell_type": "code",
   "execution_count": 484,
   "metadata": {},
   "outputs": [
    {
     "data": {
      "text/plain": [
       "Personal              49448\n",
       "Unknown               12994\n",
       "Instructional         10601\n",
       "Aerial Application     4712\n",
       "Business               4018\n",
       "Name: Purpose.of.flight, dtype: int64"
      ]
     },
     "execution_count": 484,
     "metadata": {},
     "output_type": "execute_result"
    }
   ],
   "source": [
    "#Replaced the null values with unknown\n",
    "df_relevant['Purpose.of.flight'].fillna('Unknown', inplace =True)\n",
    "df_relevant['Purpose.of.flight'].value_counts().head()"
   ]
  },
  {
   "cell_type": "markdown",
   "metadata": {},
   "source": [
    "#### Air.carrier"
   ]
  },
  {
   "cell_type": "code",
   "execution_count": 485,
   "metadata": {},
   "outputs": [
    {
     "data": {
      "text/plain": [
       "Unknown              72255\n",
       "Pilot                  258\n",
       "American Airlines       90\n",
       "United Airlines         89\n",
       "Delta Air Lines         53\n",
       "Name: Air.carrier, dtype: int64"
      ]
     },
     "execution_count": 485,
     "metadata": {},
     "output_type": "execute_result"
    }
   ],
   "source": [
    "#Pilot part represent a pilot operating privately without a registred airline\n",
    "#Replaced the null value with unknow\n",
    "df_relevant['Air.carrier'].fillna('Unknown', inplace = True)\n",
    "df_relevant['Air.carrier'].value_counts().head()"
   ]
  },
  {
   "cell_type": "markdown",
   "metadata": {},
   "source": [
    "#### Total.Fatal.Injuries"
   ]
  },
  {
   "cell_type": "code",
   "execution_count": 486,
   "metadata": {},
   "outputs": [
    {
     "data": {
      "text/plain": [
       "0.0    71076\n",
       "1.0     8883\n",
       "2.0     5173\n",
       "3.0     1589\n",
       "4.0     1103\n",
       "Name: Total.Fatal.Injuries, dtype: int64"
      ]
     },
     "execution_count": 486,
     "metadata": {},
     "output_type": "execute_result"
    }
   ],
   "source": [
    "#Assumed the null values means there are no fatalities\n",
    "df_relevant['Total.Fatal.Injuries'].fillna(0.0, inplace = True)\n",
    "df_relevant['Total.Fatal.Injuries'].value_counts().head()"
   ]
  },
  {
   "cell_type": "markdown",
   "metadata": {},
   "source": [
    "#### Total.Serious.Injuries"
   ]
  },
  {
   "cell_type": "code",
   "execution_count": 487,
   "metadata": {},
   "outputs": [
    {
     "data": {
      "text/plain": [
       "0.0    75799\n",
       "1.0     9125\n",
       "2.0     2815\n",
       "3.0      629\n",
       "4.0      258\n",
       "Name: Total.Serious.Injuries, dtype: int64"
      ]
     },
     "execution_count": 487,
     "metadata": {},
     "output_type": "execute_result"
    }
   ],
   "source": [
    "#Assigns null values to 0.0\n",
    "df_relevant['Total.Serious.Injuries'].fillna(0.0, inplace = True)\n",
    "df_relevant['Total.Serious.Injuries'].value_counts().head()"
   ]
  },
  {
   "cell_type": "markdown",
   "metadata": {},
   "source": [
    "#### Total.Minor.Injuries"
   ]
  },
  {
   "cell_type": "code",
   "execution_count": 488,
   "metadata": {},
   "outputs": [
    {
     "data": {
      "text/plain": [
       "0.0    73387\n",
       "1.0    10320\n",
       "2.0     3576\n",
       "3.0      784\n",
       "4.0      372\n",
       "Name: Total.Minor.Injuries, dtype: int64"
      ]
     },
     "execution_count": 488,
     "metadata": {},
     "output_type": "execute_result"
    }
   ],
   "source": [
    "#Assigns null values to 0.0\n",
    "df_relevant['Total.Minor.Injuries'].fillna(0.0, inplace = True)\n",
    "df_relevant['Total.Minor.Injuries'].value_counts().head()"
   ]
  },
  {
   "cell_type": "code",
   "execution_count": 489,
   "metadata": {},
   "outputs": [
    {
     "data": {
      "text/plain": [
       "0.0    35791\n",
       "1.0    25101\n",
       "2.0    15988\n",
       "3.0     4313\n",
       "4.0     2662\n",
       "Name: Total.Uninjured, dtype: int64"
      ]
     },
     "execution_count": 489,
     "metadata": {},
     "output_type": "execute_result"
    }
   ],
   "source": [
    "#Assigns null values to 0.0\n",
    "df_relevant['Total.Uninjured'].fillna(0.0, inplace = True)\n",
    "df_relevant['Total.Uninjured'].value_counts().head()"
   ]
  },
  {
   "cell_type": "markdown",
   "metadata": {},
   "source": [
    "#### Total.Uninjured"
   ]
  },
  {
   "cell_type": "code",
   "execution_count": 490,
   "metadata": {},
   "outputs": [
    {
     "data": {
      "text/plain": [
       "0.0    35791\n",
       "1.0    25101\n",
       "2.0    15988\n",
       "3.0     4313\n",
       "4.0     2662\n",
       "Name: Total.Uninjured, dtype: int64"
      ]
     },
     "execution_count": 490,
     "metadata": {},
     "output_type": "execute_result"
    }
   ],
   "source": [
    "#Assigns null values to 0.0\n",
    "df_relevant['Total.Uninjured'].fillna(0.0, inplace = True)\n",
    "df_relevant['Total.Uninjured'].value_counts().head()"
   ]
  },
  {
   "cell_type": "markdown",
   "metadata": {},
   "source": [
    "#### Weather.Condition"
   ]
  },
  {
   "cell_type": "code",
   "execution_count": 491,
   "metadata": {},
   "outputs": [
    {
     "data": {
      "text/plain": [
       "VMC        77303\n",
       "IMC         5976\n",
       "Unknown     5610\n",
       "Name: Weather.Condition, dtype: int64"
      ]
     },
     "execution_count": 491,
     "metadata": {},
     "output_type": "execute_result"
    }
   ],
   "source": [
    "#Replaced UNK, Unk and null values with 'Unknown'\n",
    "df_relevant['Weather.Condition'].replace('UNK', 'Unknown', inplace = True)\n",
    "df_relevant['Weather.Condition'].replace('Unk', 'Unknown', inplace = True)\n",
    "df_relevant['Weather.Condition'].fillna('Unknown', inplace = True)\n",
    "df_relevant['Weather.Condition'].value_counts().head()"
   ]
  },
  {
   "cell_type": "markdown",
   "metadata": {},
   "source": [
    "#### Broad.phase.of.flight"
   ]
  },
  {
   "cell_type": "code",
   "execution_count": 492,
   "metadata": {},
   "outputs": [
    {
     "data": {
      "text/plain": [
       "Unknown        27713\n",
       "Landing        15428\n",
       "Takeoff        12493\n",
       "Cruise         10269\n",
       "Maneuvering     8144\n",
       "Name: Broad.phase.of.flight, dtype: int64"
      ]
     },
     "execution_count": 492,
     "metadata": {},
     "output_type": "execute_result"
    }
   ],
   "source": [
    "df_relevant['Broad.phase.of.flight'].fillna('Unknown', inplace = True)\n",
    "df_relevant['Broad.phase.of.flight'].value_counts().head()"
   ]
  },
  {
   "cell_type": "markdown",
   "metadata": {},
   "source": [
    "#### Report.Status"
   ]
  },
  {
   "cell_type": "code",
   "execution_count": 493,
   "metadata": {},
   "outputs": [
    {
     "data": {
      "text/plain": [
       "Probable Cause                                                                  61754\n",
       "Unknown                                                                          6548\n",
       "Foreign                                                                          1999\n",
       "Factual                                                                           145\n",
       "The pilot's failure to maintain directional control during the landing roll.       56\n",
       "Name: Report.Status, dtype: int64"
      ]
     },
     "execution_count": 493,
     "metadata": {},
     "output_type": "execute_result"
    }
   ],
   "source": [
    "df_relevant['Report.Status'].replace('<br /><br />','Unknown', inplace = True)\n",
    "df_relevant['Report.Status'].fillna('Unknown', inplace = True)\n",
    "df_relevant['Report.Status'].value_counts().head()"
   ]
  },
  {
   "cell_type": "code",
   "execution_count": 494,
   "metadata": {},
   "outputs": [],
   "source": [
    "df_relevant.drop(columns = 'Unknown Amateur-Built', inplace = True)"
   ]
  },
  {
   "cell_type": "code",
   "execution_count": 495,
   "metadata": {
    "scrolled": true
   },
   "outputs": [
    {
     "data": {
      "text/plain": [
       "Event.Date                0\n",
       "Location                  0\n",
       "Country                   0\n",
       "Airport.Name              0\n",
       "Aircraft.damage           0\n",
       "Make                      0\n",
       "Model                     0\n",
       "Amateur.Built             0\n",
       "Number.of.Engines         0\n",
       "Engine.Type               0\n",
       "FAR.Description           0\n",
       "Schedule                  0\n",
       "Purpose.of.flight         0\n",
       "Air.carrier               0\n",
       "Total.Fatal.Injuries      0\n",
       "Total.Serious.Injuries    0\n",
       "Total.Minor.Injuries      0\n",
       "Total.Uninjured           0\n",
       "Weather.Condition         0\n",
       "Broad.phase.of.flight     0\n",
       "Report.Status             0\n",
       "Make_Model                0\n",
       "dtype: int64"
      ]
     },
     "execution_count": 495,
     "metadata": {},
     "output_type": "execute_result"
    }
   ],
   "source": [
    "df_relevant.isnull().sum()"
   ]
  },
  {
   "cell_type": "markdown",
   "metadata": {},
   "source": [
    "## Handling Duplicate Rows"
   ]
  },
  {
   "cell_type": "code",
   "execution_count": 496,
   "metadata": {},
   "outputs": [
    {
     "data": {
      "text/plain": [
       "28"
      ]
     },
     "execution_count": 496,
     "metadata": {},
     "output_type": "execute_result"
    }
   ],
   "source": [
    "#Counts no of duplicate rows\n",
    "duplicates =df_relevant[df_relevant.duplicated()]\n",
    "len(duplicates)"
   ]
  },
  {
   "cell_type": "code",
   "execution_count": 497,
   "metadata": {},
   "outputs": [],
   "source": [
    "#Drops all duplicate rows\n",
    "df_relevant.drop_duplicates(inplace = True)"
   ]
  },
  {
   "cell_type": "markdown",
   "metadata": {},
   "source": [
    "## Exploratory Data Analysis "
   ]
  },
  {
   "cell_type": "markdown",
   "metadata": {},
   "source": [
    "Model vs Fatal Injuries"
   ]
  },
  {
   "cell_type": "markdown",
   "metadata": {},
   "source": [
    "- To find the aircraft manufacturer with the lowest fatality rate per incident, we need to normalize fatalities by the total number of flights per manufacturer instead of just using absolute fatality numbers to avoid biasness.\n",
    "- I have visualized the top 20 fatality rate to see which models have the lowest fatality rate\n",
    "- Rockwell  S2R has the lowest fatality rate \n"
   ]
  },
  {
   "cell_type": "code",
   "execution_count": 498,
   "metadata": {},
   "outputs": [
    {
     "name": "stdout",
     "output_type": "stream",
     "text": [
      "                              Make_Model  Total_Fatalities  Total_Incidents  \\\n",
      "10298                      Rockwell  S2R               1.0               40   \n",
      "2383                         Beech  C-23               1.0               34   \n",
      "9273                    Piper  PA-18-160               1.0               31   \n",
      "5849            Eagle Aircraft Co.  DW-1               1.0               30   \n",
      "1069                  Air Tractor  AT301               1.0               29   \n",
      "8072                     Maule  M-4-220C               1.0               28   \n",
      "4370                        Cessna  195B               1.0               27   \n",
      "15990                    Weatherly  201B               1.0               27   \n",
      "697                        Aeronca  15AC               1.0               26   \n",
      "1237                      American  AA-1               1.0               23   \n",
      "5965                      Enstrom  F-28C               2.0               46   \n",
      "9376                    Piper  PA-28-150               1.0               22   \n",
      "8297          Mcdonnell Douglas  DC-9-51               1.0               21   \n",
      "14238  Unknown Amateur-Built  QUICKIE Q2               1.0               21   \n",
      "6780                     Grumman  G-164A              17.0              352   \n",
      "2702                        Bell  47G-2A               1.0               20   \n",
      "3241                     Boeing  757-222               1.0               20   \n",
      "3571            Brantly Helicopter  B-2B               1.0               20   \n",
      "5964                      Enstrom  F-28A               2.0               40   \n",
      "7197                      Hiller  UH-12C               1.0               20   \n",
      "\n",
      "       Fatality_Rate  \n",
      "10298       0.025000  \n",
      "2383        0.029412  \n",
      "9273        0.032258  \n",
      "5849        0.033333  \n",
      "1069        0.034483  \n",
      "8072        0.035714  \n",
      "4370        0.037037  \n",
      "15990       0.037037  \n",
      "697         0.038462  \n",
      "1237        0.043478  \n",
      "5965        0.043478  \n",
      "9376        0.045455  \n",
      "8297        0.047619  \n",
      "14238       0.047619  \n",
      "6780        0.048295  \n",
      "2702        0.050000  \n",
      "3241        0.050000  \n",
      "3571        0.050000  \n",
      "5964        0.050000  \n",
      "7197        0.050000  \n"
     ]
    },
    {
     "data": {
      "image/png": "[encoded data removed]",
      "text/plain": [
       "<Figure size 864x432 with 1 Axes>"
      ]
     },
     "metadata": {
      "needs_background": "light"
     },
     "output_type": "display_data"
    }
   ],
   "source": [
    "df_make_stats = df_relevant.groupby(\"Make_Model\").agg(\n",
    "    Total_Fatalities=(\"Total.Fatal.Injuries\", \"sum\"),\n",
    "    Total_Incidents=(\"Make_Model\", \"count\") \n",
    ").reset_index()\n",
    "\n",
    "df_make_stats[\"Fatality_Rate\"] = df_make_stats[\"Total_Fatalities\"] / df_make_stats[\"Total_Incidents\"]\n",
    "\n",
    "# Remove any NaN or zero values \n",
    "df_make_stats = df_make_stats.dropna()\n",
    "df_make_stats = df_make_stats[df_make_stats[\"Fatality_Rate\"] > 0]\n",
    "\n",
    "# Manufacturer  fatality rate\n",
    "best20_manufacturerers = df_make_stats.nsmallest(20, \"Fatality_Rate\")\n",
    "print(best5_manufacturerers)\n",
    "best_manufacturerers = df_make_stats.nsmallest(30, \"Fatality_Rate\")\n",
    "\n",
    "\n",
    "plt.figure(figsize=(12, 6))\n",
    "sns.barplot(\n",
    "    data=best_manufacturerers,\n",
    "    x=\"Fatality_Rate\",\n",
    "    y=\"Make_Model\",\n",
    "    palette=\"Spectral\"\n",
    ")\n",
    "\n",
    "plt.title(\"Top 20 Aircraft Manufacturers with Lowest Fatality Rate\")\n",
    "plt.xlabel(\"Fatality Rate\")\n",
    "plt.ylabel(\"Aircraft Manufacturer\")\n",
    "plt.grid(axis=\"x\", linestyle=\"--\", alpha=0.7)\n",
    "\n",
    "plt.show()\n"
   ]
  },
  {
   "cell_type": "code",
   "execution_count": 499,
   "metadata": {},
   "outputs": [
    {
     "data": {
      "text/html": [
       "<div>\n",
       "<style scoped>\n",
       "    .dataframe tbody tr th:only-of-type {\n",
       "        vertical-align: middle;\n",
       "    }\n",
       "\n",
       "    .dataframe tbody tr th {\n",
       "        vertical-align: top;\n",
       "    }\n",
       "\n",
       "    .dataframe thead th {\n",
       "        text-align: right;\n",
       "    }\n",
       "</style>\n",
       "<table border=\"1\" class=\"dataframe\">\n",
       "  <thead>\n",
       "    <tr style=\"text-align: right;\">\n",
       "      <th></th>\n",
       "      <th>Make_Model</th>\n",
       "      <th>Total_Fatalities</th>\n",
       "      <th>Total_Incidents</th>\n",
       "      <th>Fatality_Rate</th>\n",
       "    </tr>\n",
       "  </thead>\n",
       "  <tbody>\n",
       "    <tr>\n",
       "      <th>10298</th>\n",
       "      <td>Rockwell  S2R</td>\n",
       "      <td>1.0</td>\n",
       "      <td>40</td>\n",
       "      <td>0.025000</td>\n",
       "    </tr>\n",
       "    <tr>\n",
       "      <th>2383</th>\n",
       "      <td>Beech  C-23</td>\n",
       "      <td>1.0</td>\n",
       "      <td>34</td>\n",
       "      <td>0.029412</td>\n",
       "    </tr>\n",
       "    <tr>\n",
       "      <th>9273</th>\n",
       "      <td>Piper  PA-18-160</td>\n",
       "      <td>1.0</td>\n",
       "      <td>31</td>\n",
       "      <td>0.032258</td>\n",
       "    </tr>\n",
       "    <tr>\n",
       "      <th>5849</th>\n",
       "      <td>Eagle Aircraft Co.  DW-1</td>\n",
       "      <td>1.0</td>\n",
       "      <td>30</td>\n",
       "      <td>0.033333</td>\n",
       "    </tr>\n",
       "    <tr>\n",
       "      <th>1069</th>\n",
       "      <td>Air Tractor  AT301</td>\n",
       "      <td>1.0</td>\n",
       "      <td>29</td>\n",
       "      <td>0.034483</td>\n",
       "    </tr>\n",
       "    <tr>\n",
       "      <th>8072</th>\n",
       "      <td>Maule  M-4-220C</td>\n",
       "      <td>1.0</td>\n",
       "      <td>28</td>\n",
       "      <td>0.035714</td>\n",
       "    </tr>\n",
       "    <tr>\n",
       "      <th>4370</th>\n",
       "      <td>Cessna  195B</td>\n",
       "      <td>1.0</td>\n",
       "      <td>27</td>\n",
       "      <td>0.037037</td>\n",
       "    </tr>\n",
       "    <tr>\n",
       "      <th>15990</th>\n",
       "      <td>Weatherly  201B</td>\n",
       "      <td>1.0</td>\n",
       "      <td>27</td>\n",
       "      <td>0.037037</td>\n",
       "    </tr>\n",
       "    <tr>\n",
       "      <th>697</th>\n",
       "      <td>Aeronca  15AC</td>\n",
       "      <td>1.0</td>\n",
       "      <td>26</td>\n",
       "      <td>0.038462</td>\n",
       "    </tr>\n",
       "    <tr>\n",
       "      <th>1237</th>\n",
       "      <td>American  AA-1</td>\n",
       "      <td>1.0</td>\n",
       "      <td>23</td>\n",
       "      <td>0.043478</td>\n",
       "    </tr>\n",
       "    <tr>\n",
       "      <th>5965</th>\n",
       "      <td>Enstrom  F-28C</td>\n",
       "      <td>2.0</td>\n",
       "      <td>46</td>\n",
       "      <td>0.043478</td>\n",
       "    </tr>\n",
       "    <tr>\n",
       "      <th>9376</th>\n",
       "      <td>Piper  PA-28-150</td>\n",
       "      <td>1.0</td>\n",
       "      <td>22</td>\n",
       "      <td>0.045455</td>\n",
       "    </tr>\n",
       "    <tr>\n",
       "      <th>8297</th>\n",
       "      <td>Mcdonnell Douglas  DC-9-51</td>\n",
       "      <td>1.0</td>\n",
       "      <td>21</td>\n",
       "      <td>0.047619</td>\n",
       "    </tr>\n",
       "    <tr>\n",
       "      <th>14238</th>\n",
       "      <td>Unknown Amateur-Built  QUICKIE Q2</td>\n",
       "      <td>1.0</td>\n",
       "      <td>21</td>\n",
       "      <td>0.047619</td>\n",
       "    </tr>\n",
       "    <tr>\n",
       "      <th>6780</th>\n",
       "      <td>Grumman  G-164A</td>\n",
       "      <td>17.0</td>\n",
       "      <td>352</td>\n",
       "      <td>0.048295</td>\n",
       "    </tr>\n",
       "    <tr>\n",
       "      <th>2702</th>\n",
       "      <td>Bell  47G-2A</td>\n",
       "      <td>1.0</td>\n",
       "      <td>20</td>\n",
       "      <td>0.050000</td>\n",
       "    </tr>\n",
       "    <tr>\n",
       "      <th>3241</th>\n",
       "      <td>Boeing  757-222</td>\n",
       "      <td>1.0</td>\n",
       "      <td>20</td>\n",
       "      <td>0.050000</td>\n",
       "    </tr>\n",
       "    <tr>\n",
       "      <th>3571</th>\n",
       "      <td>Brantly Helicopter  B-2B</td>\n",
       "      <td>1.0</td>\n",
       "      <td>20</td>\n",
       "      <td>0.050000</td>\n",
       "    </tr>\n",
       "    <tr>\n",
       "      <th>5964</th>\n",
       "      <td>Enstrom  F-28A</td>\n",
       "      <td>2.0</td>\n",
       "      <td>40</td>\n",
       "      <td>0.050000</td>\n",
       "    </tr>\n",
       "    <tr>\n",
       "      <th>7197</th>\n",
       "      <td>Hiller  UH-12C</td>\n",
       "      <td>1.0</td>\n",
       "      <td>20</td>\n",
       "      <td>0.050000</td>\n",
       "    </tr>\n",
       "  </tbody>\n",
       "</table>\n",
       "</div>"
      ],
      "text/plain": [
       "                              Make_Model  Total_Fatalities  Total_Incidents  \\\n",
       "10298                      Rockwell  S2R               1.0               40   \n",
       "2383                         Beech  C-23               1.0               34   \n",
       "9273                    Piper  PA-18-160               1.0               31   \n",
       "5849            Eagle Aircraft Co.  DW-1               1.0               30   \n",
       "1069                  Air Tractor  AT301               1.0               29   \n",
       "8072                     Maule  M-4-220C               1.0               28   \n",
       "4370                        Cessna  195B               1.0               27   \n",
       "15990                    Weatherly  201B               1.0               27   \n",
       "697                        Aeronca  15AC               1.0               26   \n",
       "1237                      American  AA-1               1.0               23   \n",
       "5965                      Enstrom  F-28C               2.0               46   \n",
       "9376                    Piper  PA-28-150               1.0               22   \n",
       "8297          Mcdonnell Douglas  DC-9-51               1.0               21   \n",
       "14238  Unknown Amateur-Built  QUICKIE Q2               1.0               21   \n",
       "6780                     Grumman  G-164A              17.0              352   \n",
       "2702                        Bell  47G-2A               1.0               20   \n",
       "3241                     Boeing  757-222               1.0               20   \n",
       "3571            Brantly Helicopter  B-2B               1.0               20   \n",
       "5964                      Enstrom  F-28A               2.0               40   \n",
       "7197                      Hiller  UH-12C               1.0               20   \n",
       "\n",
       "       Fatality_Rate  \n",
       "10298       0.025000  \n",
       "2383        0.029412  \n",
       "9273        0.032258  \n",
       "5849        0.033333  \n",
       "1069        0.034483  \n",
       "8072        0.035714  \n",
       "4370        0.037037  \n",
       "15990       0.037037  \n",
       "697         0.038462  \n",
       "1237        0.043478  \n",
       "5965        0.043478  \n",
       "9376        0.045455  \n",
       "8297        0.047619  \n",
       "14238       0.047619  \n",
       "6780        0.048295  \n",
       "2702        0.050000  \n",
       "3241        0.050000  \n",
       "3571        0.050000  \n",
       "5964        0.050000  \n",
       "7197        0.050000  "
      ]
     },
     "execution_count": 499,
     "metadata": {},
     "output_type": "execute_result"
    }
   ],
   "source": [
    "\n",
    "best20_manufacturerers"
   ]
  },
  {
   "cell_type": "markdown",
   "metadata": {},
   "source": [
    "### Aircraft.damage"
   ]
  },
  {
   "cell_type": "code",
   "execution_count": 500,
   "metadata": {},
   "outputs": [
    {
     "data": {
      "text/plain": [
       "Substantial    67442\n",
       "Destroyed      18615\n",
       "Minor           2804\n",
       "Name: Aircraft.damage, dtype: int64"
      ]
     },
     "execution_count": 500,
     "metadata": {},
     "output_type": "execute_result"
    }
   ],
   "source": [
    " df_relevant['Aircraft.damage'].value_counts().head(50)"
   ]
  },
  {
   "cell_type": "markdown",
   "metadata": {},
   "source": [
    "| **Damage Type**  | **Explanation** |\n",
    "|------------------|----------------|\n",
    "| **Substantial**  | Most aircraft incidents fall under this category, meaning the aircraft suffered major but repairable damage. Structural integrity was affected, but the aircraft was not completely destroyed. |\n",
    "| **Destroyed**    | These aircraft were damaged beyond repair, often due to severe crashes, fires, or total loss of control. |\n",
    "| **Minor**        | Least severe cases where the aircraft sustained light damage but remained airworthy, requiring only minor repairs. |\n"
   ]
  },
  {
   "cell_type": "markdown",
   "metadata": {},
   "source": [
    "We will now use the top 5 models with the lowest fatality rates and see how damaged they were during the aaccidents\n"
   ]
  },
  {
   "cell_type": "code",
   "execution_count": 529,
   "metadata": {},
   "outputs": [
    {
     "data": {
      "text/html": [
       "<div>\n",
       "<style scoped>\n",
       "    .dataframe tbody tr th:only-of-type {\n",
       "        vertical-align: middle;\n",
       "    }\n",
       "\n",
       "    .dataframe tbody tr th {\n",
       "        vertical-align: top;\n",
       "    }\n",
       "\n",
       "    .dataframe thead th {\n",
       "        text-align: right;\n",
       "    }\n",
       "</style>\n",
       "<table border=\"1\" class=\"dataframe\">\n",
       "  <thead>\n",
       "    <tr style=\"text-align: right;\">\n",
       "      <th></th>\n",
       "      <th>Event.Date</th>\n",
       "      <th>Location</th>\n",
       "      <th>Country</th>\n",
       "      <th>Airport.Name</th>\n",
       "      <th>Aircraft.damage</th>\n",
       "      <th>Make</th>\n",
       "      <th>Model</th>\n",
       "      <th>Amateur.Built</th>\n",
       "      <th>Number.of.Engines</th>\n",
       "      <th>Engine.Type</th>\n",
       "      <th>...</th>\n",
       "      <th>Air.carrier</th>\n",
       "      <th>Total.Fatal.Injuries</th>\n",
       "      <th>Total.Serious.Injuries</th>\n",
       "      <th>Total.Minor.Injuries</th>\n",
       "      <th>Total.Uninjured</th>\n",
       "      <th>Weather.Condition</th>\n",
       "      <th>Broad.phase.of.flight</th>\n",
       "      <th>Report.Status</th>\n",
       "      <th>Make_Model</th>\n",
       "      <th>Year</th>\n",
       "    </tr>\n",
       "  </thead>\n",
       "  <tbody>\n",
       "    <tr>\n",
       "      <th>154</th>\n",
       "      <td>1982-01-23</td>\n",
       "      <td>Hobbs, Nm</td>\n",
       "      <td>United States</td>\n",
       "      <td>PRIVATE AIRSTRIP</td>\n",
       "      <td>Destroyed</td>\n",
       "      <td>Grumman</td>\n",
       "      <td>G-164A</td>\n",
       "      <td>No</td>\n",
       "      <td>1.0</td>\n",
       "      <td>Reciprocating</td>\n",
       "      <td>...</td>\n",
       "      <td>Unknown</td>\n",
       "      <td>0.0</td>\n",
       "      <td>0.0</td>\n",
       "      <td>0.0</td>\n",
       "      <td>1.0</td>\n",
       "      <td>VMC</td>\n",
       "      <td>Takeoff</td>\n",
       "      <td>Probable Cause</td>\n",
       "      <td>Grumman  G-164A</td>\n",
       "      <td>1982</td>\n",
       "    </tr>\n",
       "    <tr>\n",
       "      <th>276</th>\n",
       "      <td>1982-02-08</td>\n",
       "      <td>Nashville, Tn</td>\n",
       "      <td>United States</td>\n",
       "      <td>NASHVILLE METRO</td>\n",
       "      <td>Substantial</td>\n",
       "      <td>Beech</td>\n",
       "      <td>C-23</td>\n",
       "      <td>No</td>\n",
       "      <td>1.0</td>\n",
       "      <td>Reciprocating</td>\n",
       "      <td>...</td>\n",
       "      <td>Unknown</td>\n",
       "      <td>0.0</td>\n",
       "      <td>0.0</td>\n",
       "      <td>0.0</td>\n",
       "      <td>1.0</td>\n",
       "      <td>VMC</td>\n",
       "      <td>Takeoff</td>\n",
       "      <td>Probable Cause</td>\n",
       "      <td>Beech  C-23</td>\n",
       "      <td>1982</td>\n",
       "    </tr>\n",
       "    <tr>\n",
       "      <th>391</th>\n",
       "      <td>1982-02-22</td>\n",
       "      <td>Pickens, Ar</td>\n",
       "      <td>United States</td>\n",
       "      <td>M &amp; M AG STRIP</td>\n",
       "      <td>Substantial</td>\n",
       "      <td>Grumman</td>\n",
       "      <td>G-164A</td>\n",
       "      <td>No</td>\n",
       "      <td>1.0</td>\n",
       "      <td>Reciprocating</td>\n",
       "      <td>...</td>\n",
       "      <td>Unknown</td>\n",
       "      <td>0.0</td>\n",
       "      <td>0.0</td>\n",
       "      <td>0.0</td>\n",
       "      <td>1.0</td>\n",
       "      <td>VMC</td>\n",
       "      <td>Takeoff</td>\n",
       "      <td>Probable Cause</td>\n",
       "      <td>Grumman  G-164A</td>\n",
       "      <td>1982</td>\n",
       "    </tr>\n",
       "    <tr>\n",
       "      <th>631</th>\n",
       "      <td>1982-03-20</td>\n",
       "      <td>Parsons, Ks</td>\n",
       "      <td>United States</td>\n",
       "      <td>PRIVATE AIRSTRIP</td>\n",
       "      <td>Substantial</td>\n",
       "      <td>Enstrom</td>\n",
       "      <td>F-28A</td>\n",
       "      <td>No</td>\n",
       "      <td>1.0</td>\n",
       "      <td>Reciprocating</td>\n",
       "      <td>...</td>\n",
       "      <td>Unknown</td>\n",
       "      <td>0.0</td>\n",
       "      <td>0.0</td>\n",
       "      <td>0.0</td>\n",
       "      <td>1.0</td>\n",
       "      <td>VMC</td>\n",
       "      <td>Cruise</td>\n",
       "      <td>Probable Cause</td>\n",
       "      <td>Enstrom  F-28A</td>\n",
       "      <td>1982</td>\n",
       "    </tr>\n",
       "    <tr>\n",
       "      <th>797</th>\n",
       "      <td>1982-04-09</td>\n",
       "      <td>Lyle, Wa</td>\n",
       "      <td>United States</td>\n",
       "      <td>PRIVATE AIRSTRIP</td>\n",
       "      <td>Substantial</td>\n",
       "      <td>Bell</td>\n",
       "      <td>47G-2A</td>\n",
       "      <td>No</td>\n",
       "      <td>1.0</td>\n",
       "      <td>Reciprocating</td>\n",
       "      <td>...</td>\n",
       "      <td>Unknown</td>\n",
       "      <td>0.0</td>\n",
       "      <td>0.0</td>\n",
       "      <td>0.0</td>\n",
       "      <td>1.0</td>\n",
       "      <td>VMC</td>\n",
       "      <td>Takeoff</td>\n",
       "      <td>Probable Cause</td>\n",
       "      <td>Bell  47G-2A</td>\n",
       "      <td>1982</td>\n",
       "    </tr>\n",
       "    <tr>\n",
       "      <th>...</th>\n",
       "      <td>...</td>\n",
       "      <td>...</td>\n",
       "      <td>...</td>\n",
       "      <td>...</td>\n",
       "      <td>...</td>\n",
       "      <td>...</td>\n",
       "      <td>...</td>\n",
       "      <td>...</td>\n",
       "      <td>...</td>\n",
       "      <td>...</td>\n",
       "      <td>...</td>\n",
       "      <td>...</td>\n",
       "      <td>...</td>\n",
       "      <td>...</td>\n",
       "      <td>...</td>\n",
       "      <td>...</td>\n",
       "      <td>...</td>\n",
       "      <td>...</td>\n",
       "      <td>...</td>\n",
       "      <td>...</td>\n",
       "      <td>...</td>\n",
       "    </tr>\n",
       "    <tr>\n",
       "      <th>83235</th>\n",
       "      <td>2019-05-24</td>\n",
       "      <td>Grangeville, Id</td>\n",
       "      <td>United States</td>\n",
       "      <td>PRIVATE AIRSTRIP</td>\n",
       "      <td>Substantial</td>\n",
       "      <td>Rockwell</td>\n",
       "      <td>S2R</td>\n",
       "      <td>No</td>\n",
       "      <td>1.0</td>\n",
       "      <td>Turbo Prop</td>\n",
       "      <td>...</td>\n",
       "      <td>Unknown</td>\n",
       "      <td>0.0</td>\n",
       "      <td>0.0</td>\n",
       "      <td>0.0</td>\n",
       "      <td>1.0</td>\n",
       "      <td>VMC</td>\n",
       "      <td>Unknown</td>\n",
       "      <td>The pilot's exceedance of the airplane's criti...</td>\n",
       "      <td>Rockwell  S2R</td>\n",
       "      <td>2019</td>\n",
       "    </tr>\n",
       "    <tr>\n",
       "      <th>85074</th>\n",
       "      <td>2020-07-20</td>\n",
       "      <td>Harlan, Ia</td>\n",
       "      <td>United States</td>\n",
       "      <td>PRIVATE AIRSTRIP</td>\n",
       "      <td>Substantial</td>\n",
       "      <td>Rockwell</td>\n",
       "      <td>S2R</td>\n",
       "      <td>No</td>\n",
       "      <td>1.0</td>\n",
       "      <td>Unknown Engine Type</td>\n",
       "      <td>...</td>\n",
       "      <td>Slater's Spray Service</td>\n",
       "      <td>0.0</td>\n",
       "      <td>0.0</td>\n",
       "      <td>0.0</td>\n",
       "      <td>1.0</td>\n",
       "      <td>VMC</td>\n",
       "      <td>Unknown</td>\n",
       "      <td>Unknown</td>\n",
       "      <td>Rockwell  S2R</td>\n",
       "      <td>2020</td>\n",
       "    </tr>\n",
       "    <tr>\n",
       "      <th>85382</th>\n",
       "      <td>2020-09-21</td>\n",
       "      <td>Hamilton, Ga</td>\n",
       "      <td>United States</td>\n",
       "      <td>PRIVATE AIRSTRIP</td>\n",
       "      <td>Substantial</td>\n",
       "      <td>Rockwell</td>\n",
       "      <td>S2R</td>\n",
       "      <td>No</td>\n",
       "      <td>1.0</td>\n",
       "      <td>Unknown Engine Type</td>\n",
       "      <td>...</td>\n",
       "      <td>North Valley Aircraft Inc.</td>\n",
       "      <td>0.0</td>\n",
       "      <td>0.0</td>\n",
       "      <td>0.0</td>\n",
       "      <td>1.0</td>\n",
       "      <td>VMC</td>\n",
       "      <td>Unknown</td>\n",
       "      <td>Unknown</td>\n",
       "      <td>Rockwell  S2R</td>\n",
       "      <td>2020</td>\n",
       "    </tr>\n",
       "    <tr>\n",
       "      <th>86378</th>\n",
       "      <td>2021-06-12</td>\n",
       "      <td>Fulshear, Tx</td>\n",
       "      <td>United States</td>\n",
       "      <td>COVEY TRAILS</td>\n",
       "      <td>Substantial</td>\n",
       "      <td>Piper</td>\n",
       "      <td>PA-28-150</td>\n",
       "      <td>No</td>\n",
       "      <td>1.0</td>\n",
       "      <td>Reciprocating</td>\n",
       "      <td>...</td>\n",
       "      <td>Unknown</td>\n",
       "      <td>0.0</td>\n",
       "      <td>0.0</td>\n",
       "      <td>0.0</td>\n",
       "      <td>1.0</td>\n",
       "      <td>VMC</td>\n",
       "      <td>Unknown</td>\n",
       "      <td>The pilot’s failure to maintain a proper glide...</td>\n",
       "      <td>Piper  PA-28-150</td>\n",
       "      <td>2021</td>\n",
       "    </tr>\n",
       "    <tr>\n",
       "      <th>87472</th>\n",
       "      <td>2022-02-26</td>\n",
       "      <td>Savannah, Ga</td>\n",
       "      <td>United States</td>\n",
       "      <td>PRIVATE AIRSTRIP</td>\n",
       "      <td>Substantial</td>\n",
       "      <td>Piper</td>\n",
       "      <td>PA-28-150</td>\n",
       "      <td>No</td>\n",
       "      <td>1.0</td>\n",
       "      <td>Unknown Engine Type</td>\n",
       "      <td>...</td>\n",
       "      <td>FlyCorps Aviation</td>\n",
       "      <td>0.0</td>\n",
       "      <td>0.0</td>\n",
       "      <td>0.0</td>\n",
       "      <td>1.0</td>\n",
       "      <td>VMC</td>\n",
       "      <td>Unknown</td>\n",
       "      <td>Unknown</td>\n",
       "      <td>Piper  PA-28-150</td>\n",
       "      <td>2022</td>\n",
       "    </tr>\n",
       "  </tbody>\n",
       "</table>\n",
       "<p>877 rows × 23 columns</p>\n",
       "</div>"
      ],
      "text/plain": [
       "      Event.Date         Location        Country      Airport.Name  \\\n",
       "154   1982-01-23        Hobbs, Nm  United States  PRIVATE AIRSTRIP   \n",
       "276   1982-02-08    Nashville, Tn  United States   NASHVILLE METRO   \n",
       "391   1982-02-22      Pickens, Ar  United States    M & M AG STRIP   \n",
       "631   1982-03-20      Parsons, Ks  United States  PRIVATE AIRSTRIP   \n",
       "797   1982-04-09         Lyle, Wa  United States  PRIVATE AIRSTRIP   \n",
       "...          ...              ...            ...               ...   \n",
       "83235 2019-05-24  Grangeville, Id  United States  PRIVATE AIRSTRIP   \n",
       "85074 2020-07-20       Harlan, Ia  United States  PRIVATE AIRSTRIP   \n",
       "85382 2020-09-21     Hamilton, Ga  United States  PRIVATE AIRSTRIP   \n",
       "86378 2021-06-12     Fulshear, Tx  United States      COVEY TRAILS   \n",
       "87472 2022-02-26     Savannah, Ga  United States  PRIVATE AIRSTRIP   \n",
       "\n",
       "      Aircraft.damage      Make      Model Amateur.Built  Number.of.Engines  \\\n",
       "154         Destroyed   Grumman     G-164A            No                1.0   \n",
       "276       Substantial     Beech       C-23            No                1.0   \n",
       "391       Substantial   Grumman     G-164A            No                1.0   \n",
       "631       Substantial   Enstrom      F-28A            No                1.0   \n",
       "797       Substantial      Bell     47G-2A            No                1.0   \n",
       "...               ...       ...        ...           ...                ...   \n",
       "83235     Substantial  Rockwell        S2R            No                1.0   \n",
       "85074     Substantial  Rockwell        S2R            No                1.0   \n",
       "85382     Substantial  Rockwell        S2R            No                1.0   \n",
       "86378     Substantial     Piper  PA-28-150            No                1.0   \n",
       "87472     Substantial     Piper  PA-28-150            No                1.0   \n",
       "\n",
       "               Engine.Type  ...                 Air.carrier  \\\n",
       "154          Reciprocating  ...                     Unknown   \n",
       "276          Reciprocating  ...                     Unknown   \n",
       "391          Reciprocating  ...                     Unknown   \n",
       "631          Reciprocating  ...                     Unknown   \n",
       "797          Reciprocating  ...                     Unknown   \n",
       "...                    ...  ...                         ...   \n",
       "83235           Turbo Prop  ...                     Unknown   \n",
       "85074  Unknown Engine Type  ...      Slater's Spray Service   \n",
       "85382  Unknown Engine Type  ...  North Valley Aircraft Inc.   \n",
       "86378        Reciprocating  ...                     Unknown   \n",
       "87472  Unknown Engine Type  ...           FlyCorps Aviation   \n",
       "\n",
       "      Total.Fatal.Injuries Total.Serious.Injuries Total.Minor.Injuries  \\\n",
       "154                    0.0                    0.0                  0.0   \n",
       "276                    0.0                    0.0                  0.0   \n",
       "391                    0.0                    0.0                  0.0   \n",
       "631                    0.0                    0.0                  0.0   \n",
       "797                    0.0                    0.0                  0.0   \n",
       "...                    ...                    ...                  ...   \n",
       "83235                  0.0                    0.0                  0.0   \n",
       "85074                  0.0                    0.0                  0.0   \n",
       "85382                  0.0                    0.0                  0.0   \n",
       "86378                  0.0                    0.0                  0.0   \n",
       "87472                  0.0                    0.0                  0.0   \n",
       "\n",
       "       Total.Uninjured  Weather.Condition  Broad.phase.of.flight  \\\n",
       "154                1.0                VMC                Takeoff   \n",
       "276                1.0                VMC                Takeoff   \n",
       "391                1.0                VMC                Takeoff   \n",
       "631                1.0                VMC                 Cruise   \n",
       "797                1.0                VMC                Takeoff   \n",
       "...                ...                ...                    ...   \n",
       "83235              1.0                VMC                Unknown   \n",
       "85074              1.0                VMC                Unknown   \n",
       "85382              1.0                VMC                Unknown   \n",
       "86378              1.0                VMC                Unknown   \n",
       "87472              1.0                VMC                Unknown   \n",
       "\n",
       "                                           Report.Status        Make_Model  \\\n",
       "154                                       Probable Cause   Grumman  G-164A   \n",
       "276                                       Probable Cause       Beech  C-23   \n",
       "391                                       Probable Cause   Grumman  G-164A   \n",
       "631                                       Probable Cause    Enstrom  F-28A   \n",
       "797                                       Probable Cause      Bell  47G-2A   \n",
       "...                                                  ...               ...   \n",
       "83235  The pilot's exceedance of the airplane's criti...     Rockwell  S2R   \n",
       "85074                                            Unknown     Rockwell  S2R   \n",
       "85382                                            Unknown     Rockwell  S2R   \n",
       "86378  The pilot’s failure to maintain a proper glide...  Piper  PA-28-150   \n",
       "87472                                            Unknown  Piper  PA-28-150   \n",
       "\n",
       "       Year  \n",
       "154    1982  \n",
       "276    1982  \n",
       "391    1982  \n",
       "631    1982  \n",
       "797    1982  \n",
       "...     ...  \n",
       "83235  2019  \n",
       "85074  2020  \n",
       "85382  2020  \n",
       "86378  2021  \n",
       "87472  2022  \n",
       "\n",
       "[877 rows x 23 columns]"
      ]
     },
     "execution_count": 529,
     "metadata": {},
     "output_type": "execute_result"
    }
   ],
   "source": [
    "#Filtering the main dataset to include only those manufacturers\n",
    "df_fatal_damage = df_relevant[df_relevant[\"Make_Model\"].isin(best20_manufacturerers[\"Make_Model\"])]\n",
    "df_fatal_damage"
   ]
  },
  {
   "cell_type": "markdown",
   "metadata": {},
   "source": [
    "- We can infer from the pie chart below that a high percentage of them (78.1%) had major but repairable damage. Structural integrity was affected, but the aircraft was not completely destroyed.\n",
    "- 3.1% of the make_Models had minor damages and 18.8% were completly destroyed\n",
    "- Because of the inferences above, we still hold on to the Makes because they seem to be in a repairable condition even after the accident and not completely destroyed."
   ]
  },
  {
   "cell_type": "code",
   "execution_count": 530,
   "metadata": {},
   "outputs": [
    {
     "data": {
      "image/png": "[encoded data removed]",
      "text/plain": [
       "<Figure size 576x576 with 1 Axes>"
      ]
     },
     "metadata": {},
     "output_type": "display_data"
    }
   ],
   "source": [
    "#Grouping by aircraft damage count occurrences\n",
    "damage_counts = df_fatal_damage[\"Aircraft.damage\"].value_counts()\n",
    "#Plotting the pie chart\n",
    "plt.figure(figsize=(8, 8))\n",
    "plt.pie(\n",
    "    damage_counts,\n",
    "    labels=damage_counts.index,\n",
    "    autopct=\"%1.1f%%\",\n",
    "    colors=[\"red\", \"orange\", \"blue\"],\n",
    "    startangle=140\n",
    ")\n",
    "\n",
    "plt.title(\"Aircraft Damage Distribution for Top 5 Fatality Rate Manufacturers\")\n",
    "plt.show()"
   ]
  },
  {
   "cell_type": "markdown",
   "metadata": {},
   "source": [
    "### FAR.Description"
   ]
  },
  {
   "cell_type": "code",
   "execution_count": 503,
   "metadata": {},
   "outputs": [
    {
     "data": {
      "text/plain": [
       "Unknown    56865\n",
       "Part 91    24717\n",
       "NUSN        1584\n",
       "NUSC        1012\n",
       "137         1010\n",
       "Name: FAR.Description, dtype: int64"
      ]
     },
     "execution_count": 503,
     "metadata": {},
     "output_type": "execute_result"
    }
   ],
   "source": [
    " df_relevant['FAR.Description'].value_counts().head()\n",
    "#We need the description that hold planes for private and commercial operatios"
   ]
  },
  {
   "cell_type": "markdown",
   "metadata": {},
   "source": [
    "#### FAR Description Table\n",
    "\n",
    "| FAR Part  | Description |\n",
    "|-----------|-------------|\n",
    "| **Part 91**  | Covers general aviation, including private, business, and flight training operations. Less strict regulations compared to commercial operations. |\n",
    "| **Part 121** | Covers scheduled commercial airline operations for passenger and cargo transport. Requires strict adherence to FAA regulations for safety, maintenance, and crew training. |\n"
   ]
  },
  {
   "cell_type": "markdown",
   "metadata": {},
   "source": [
    "- FAR (Federal Aviation Regulations) Description refers to the set of rules established by the Federal Aviation Administration (FAA) that govern all aspects of civil aviation in the United States.\n",
    "- Since our main focus according to the objectives of this analysis is to find airplanes that will operate for both commercial and private enterprises,\n",
    "  our main focus will be on Part 91 and Part 121 for the Far Description"
   ]
  },
  {
   "cell_type": "code",
   "execution_count": 531,
   "metadata": {},
   "outputs": [
    {
     "data": {
      "text/html": [
       "<div>\n",
       "<style scoped>\n",
       "    .dataframe tbody tr th:only-of-type {\n",
       "        vertical-align: middle;\n",
       "    }\n",
       "\n",
       "    .dataframe tbody tr th {\n",
       "        vertical-align: top;\n",
       "    }\n",
       "\n",
       "    .dataframe thead th {\n",
       "        text-align: right;\n",
       "    }\n",
       "</style>\n",
       "<table border=\"1\" class=\"dataframe\">\n",
       "  <thead>\n",
       "    <tr style=\"text-align: right;\">\n",
       "      <th></th>\n",
       "      <th>Make_Model</th>\n",
       "      <th>FAR.Description</th>\n",
       "      <th>Incident_Count</th>\n",
       "      <th>Part_Type</th>\n",
       "    </tr>\n",
       "  </thead>\n",
       "  <tbody>\n",
       "    <tr>\n",
       "      <th>0</th>\n",
       "      <td>Aeronca  15AC</td>\n",
       "      <td>Part 91</td>\n",
       "      <td>2</td>\n",
       "      <td>Part 91</td>\n",
       "    </tr>\n",
       "    <tr>\n",
       "      <th>1</th>\n",
       "      <td>Aeronca  15AC</td>\n",
       "      <td>Unknown</td>\n",
       "      <td>24</td>\n",
       "      <td>Other</td>\n",
       "    </tr>\n",
       "    <tr>\n",
       "      <th>2</th>\n",
       "      <td>Air Tractor  AT301</td>\n",
       "      <td>Unknown</td>\n",
       "      <td>29</td>\n",
       "      <td>Other</td>\n",
       "    </tr>\n",
       "    <tr>\n",
       "      <th>3</th>\n",
       "      <td>American  AA-1</td>\n",
       "      <td>Part 91</td>\n",
       "      <td>1</td>\n",
       "      <td>Part 91</td>\n",
       "    </tr>\n",
       "    <tr>\n",
       "      <th>4</th>\n",
       "      <td>American  AA-1</td>\n",
       "      <td>Unknown</td>\n",
       "      <td>22</td>\n",
       "      <td>Other</td>\n",
       "    </tr>\n",
       "    <tr>\n",
       "      <th>5</th>\n",
       "      <td>Beech  C-23</td>\n",
       "      <td>Part 91</td>\n",
       "      <td>3</td>\n",
       "      <td>Part 91</td>\n",
       "    </tr>\n",
       "    <tr>\n",
       "      <th>6</th>\n",
       "      <td>Beech  C-23</td>\n",
       "      <td>Unknown</td>\n",
       "      <td>31</td>\n",
       "      <td>Other</td>\n",
       "    </tr>\n",
       "    <tr>\n",
       "      <th>7</th>\n",
       "      <td>Bell  47G-2A</td>\n",
       "      <td>Part 137: Agricultural</td>\n",
       "      <td>4</td>\n",
       "      <td>Other</td>\n",
       "    </tr>\n",
       "    <tr>\n",
       "      <th>8</th>\n",
       "      <td>Bell  47G-2A</td>\n",
       "      <td>Part 91</td>\n",
       "      <td>2</td>\n",
       "      <td>Part 91</td>\n",
       "    </tr>\n",
       "    <tr>\n",
       "      <th>9</th>\n",
       "      <td>Bell  47G-2A</td>\n",
       "      <td>Unknown</td>\n",
       "      <td>14</td>\n",
       "      <td>Other</td>\n",
       "    </tr>\n",
       "    <tr>\n",
       "      <th>10</th>\n",
       "      <td>Boeing  757-222</td>\n",
       "      <td>Part 121</td>\n",
       "      <td>5</td>\n",
       "      <td>Part 121</td>\n",
       "    </tr>\n",
       "    <tr>\n",
       "      <th>11</th>\n",
       "      <td>Boeing  757-222</td>\n",
       "      <td>Unknown</td>\n",
       "      <td>15</td>\n",
       "      <td>Other</td>\n",
       "    </tr>\n",
       "    <tr>\n",
       "      <th>12</th>\n",
       "      <td>Brantly Helicopter  B-2B</td>\n",
       "      <td>Part 91</td>\n",
       "      <td>2</td>\n",
       "      <td>Part 91</td>\n",
       "    </tr>\n",
       "    <tr>\n",
       "      <th>13</th>\n",
       "      <td>Brantly Helicopter  B-2B</td>\n",
       "      <td>Unknown</td>\n",
       "      <td>18</td>\n",
       "      <td>Other</td>\n",
       "    </tr>\n",
       "    <tr>\n",
       "      <th>14</th>\n",
       "      <td>Cessna  195B</td>\n",
       "      <td>Part 91</td>\n",
       "      <td>9</td>\n",
       "      <td>Part 91</td>\n",
       "    </tr>\n",
       "    <tr>\n",
       "      <th>15</th>\n",
       "      <td>Cessna  195B</td>\n",
       "      <td>Unknown</td>\n",
       "      <td>18</td>\n",
       "      <td>Other</td>\n",
       "    </tr>\n",
       "    <tr>\n",
       "      <th>16</th>\n",
       "      <td>Eagle Aircraft Co.  DW-1</td>\n",
       "      <td>Unknown</td>\n",
       "      <td>30</td>\n",
       "      <td>Other</td>\n",
       "    </tr>\n",
       "    <tr>\n",
       "      <th>17</th>\n",
       "      <td>Enstrom  F-28A</td>\n",
       "      <td>Part 91</td>\n",
       "      <td>4</td>\n",
       "      <td>Part 91</td>\n",
       "    </tr>\n",
       "    <tr>\n",
       "      <th>18</th>\n",
       "      <td>Enstrom  F-28A</td>\n",
       "      <td>Unknown</td>\n",
       "      <td>36</td>\n",
       "      <td>Other</td>\n",
       "    </tr>\n",
       "    <tr>\n",
       "      <th>19</th>\n",
       "      <td>Enstrom  F-28C</td>\n",
       "      <td>Part 91</td>\n",
       "      <td>3</td>\n",
       "      <td>Part 91</td>\n",
       "    </tr>\n",
       "    <tr>\n",
       "      <th>20</th>\n",
       "      <td>Enstrom  F-28C</td>\n",
       "      <td>Unknown</td>\n",
       "      <td>43</td>\n",
       "      <td>Other</td>\n",
       "    </tr>\n",
       "    <tr>\n",
       "      <th>21</th>\n",
       "      <td>Grumman  G-164A</td>\n",
       "      <td>137</td>\n",
       "      <td>5</td>\n",
       "      <td>Other</td>\n",
       "    </tr>\n",
       "    <tr>\n",
       "      <th>22</th>\n",
       "      <td>Grumman  G-164A</td>\n",
       "      <td>Part 137: Agricultural</td>\n",
       "      <td>39</td>\n",
       "      <td>Other</td>\n",
       "    </tr>\n",
       "    <tr>\n",
       "      <th>23</th>\n",
       "      <td>Grumman  G-164A</td>\n",
       "      <td>Part 91</td>\n",
       "      <td>1</td>\n",
       "      <td>Part 91</td>\n",
       "    </tr>\n",
       "    <tr>\n",
       "      <th>24</th>\n",
       "      <td>Grumman  G-164A</td>\n",
       "      <td>Unknown</td>\n",
       "      <td>307</td>\n",
       "      <td>Other</td>\n",
       "    </tr>\n",
       "    <tr>\n",
       "      <th>25</th>\n",
       "      <td>Hiller  UH-12C</td>\n",
       "      <td>Part 91</td>\n",
       "      <td>1</td>\n",
       "      <td>Part 91</td>\n",
       "    </tr>\n",
       "    <tr>\n",
       "      <th>26</th>\n",
       "      <td>Hiller  UH-12C</td>\n",
       "      <td>Unknown</td>\n",
       "      <td>19</td>\n",
       "      <td>Other</td>\n",
       "    </tr>\n",
       "    <tr>\n",
       "      <th>27</th>\n",
       "      <td>Maule  M-4-220C</td>\n",
       "      <td>Part 91</td>\n",
       "      <td>3</td>\n",
       "      <td>Part 91</td>\n",
       "    </tr>\n",
       "    <tr>\n",
       "      <th>28</th>\n",
       "      <td>Maule  M-4-220C</td>\n",
       "      <td>Unknown</td>\n",
       "      <td>25</td>\n",
       "      <td>Other</td>\n",
       "    </tr>\n",
       "    <tr>\n",
       "      <th>29</th>\n",
       "      <td>Mcdonnell Douglas  DC-9-51</td>\n",
       "      <td>Part 121</td>\n",
       "      <td>2</td>\n",
       "      <td>Part 121</td>\n",
       "    </tr>\n",
       "    <tr>\n",
       "      <th>30</th>\n",
       "      <td>Mcdonnell Douglas  DC-9-51</td>\n",
       "      <td>Unknown</td>\n",
       "      <td>19</td>\n",
       "      <td>Other</td>\n",
       "    </tr>\n",
       "    <tr>\n",
       "      <th>31</th>\n",
       "      <td>Piper  PA-18-160</td>\n",
       "      <td>Part 91</td>\n",
       "      <td>3</td>\n",
       "      <td>Part 91</td>\n",
       "    </tr>\n",
       "    <tr>\n",
       "      <th>32</th>\n",
       "      <td>Piper  PA-18-160</td>\n",
       "      <td>Unknown</td>\n",
       "      <td>28</td>\n",
       "      <td>Other</td>\n",
       "    </tr>\n",
       "    <tr>\n",
       "      <th>33</th>\n",
       "      <td>Piper  PA-28-150</td>\n",
       "      <td>Part 91</td>\n",
       "      <td>4</td>\n",
       "      <td>Part 91</td>\n",
       "    </tr>\n",
       "    <tr>\n",
       "      <th>34</th>\n",
       "      <td>Piper  PA-28-150</td>\n",
       "      <td>Unknown</td>\n",
       "      <td>18</td>\n",
       "      <td>Other</td>\n",
       "    </tr>\n",
       "    <tr>\n",
       "      <th>35</th>\n",
       "      <td>Rockwell  S2R</td>\n",
       "      <td>137</td>\n",
       "      <td>2</td>\n",
       "      <td>Other</td>\n",
       "    </tr>\n",
       "    <tr>\n",
       "      <th>36</th>\n",
       "      <td>Rockwell  S2R</td>\n",
       "      <td>Part 137: Agricultural</td>\n",
       "      <td>3</td>\n",
       "      <td>Other</td>\n",
       "    </tr>\n",
       "    <tr>\n",
       "      <th>37</th>\n",
       "      <td>Rockwell  S2R</td>\n",
       "      <td>Part 91</td>\n",
       "      <td>2</td>\n",
       "      <td>Part 91</td>\n",
       "    </tr>\n",
       "    <tr>\n",
       "      <th>38</th>\n",
       "      <td>Rockwell  S2R</td>\n",
       "      <td>Unknown</td>\n",
       "      <td>33</td>\n",
       "      <td>Other</td>\n",
       "    </tr>\n",
       "    <tr>\n",
       "      <th>39</th>\n",
       "      <td>Unknown Amateur-Built  QUICKIE Q2</td>\n",
       "      <td>Part 91</td>\n",
       "      <td>3</td>\n",
       "      <td>Part 91</td>\n",
       "    </tr>\n",
       "    <tr>\n",
       "      <th>40</th>\n",
       "      <td>Unknown Amateur-Built  QUICKIE Q2</td>\n",
       "      <td>Unknown</td>\n",
       "      <td>18</td>\n",
       "      <td>Other</td>\n",
       "    </tr>\n",
       "    <tr>\n",
       "      <th>41</th>\n",
       "      <td>Weatherly  201B</td>\n",
       "      <td>137</td>\n",
       "      <td>2</td>\n",
       "      <td>Other</td>\n",
       "    </tr>\n",
       "    <tr>\n",
       "      <th>42</th>\n",
       "      <td>Weatherly  201B</td>\n",
       "      <td>Part 137: Agricultural</td>\n",
       "      <td>4</td>\n",
       "      <td>Other</td>\n",
       "    </tr>\n",
       "    <tr>\n",
       "      <th>43</th>\n",
       "      <td>Weatherly  201B</td>\n",
       "      <td>Unknown</td>\n",
       "      <td>21</td>\n",
       "      <td>Other</td>\n",
       "    </tr>\n",
       "  </tbody>\n",
       "</table>\n",
       "</div>"
      ],
      "text/plain": [
       "                           Make_Model         FAR.Description  Incident_Count  \\\n",
       "0                       Aeronca  15AC                 Part 91               2   \n",
       "1                       Aeronca  15AC                 Unknown              24   \n",
       "2                  Air Tractor  AT301                 Unknown              29   \n",
       "3                      American  AA-1                 Part 91               1   \n",
       "4                      American  AA-1                 Unknown              22   \n",
       "5                         Beech  C-23                 Part 91               3   \n",
       "6                         Beech  C-23                 Unknown              31   \n",
       "7                        Bell  47G-2A  Part 137: Agricultural               4   \n",
       "8                        Bell  47G-2A                 Part 91               2   \n",
       "9                        Bell  47G-2A                 Unknown              14   \n",
       "10                    Boeing  757-222                Part 121               5   \n",
       "11                    Boeing  757-222                 Unknown              15   \n",
       "12           Brantly Helicopter  B-2B                 Part 91               2   \n",
       "13           Brantly Helicopter  B-2B                 Unknown              18   \n",
       "14                       Cessna  195B                 Part 91               9   \n",
       "15                       Cessna  195B                 Unknown              18   \n",
       "16           Eagle Aircraft Co.  DW-1                 Unknown              30   \n",
       "17                     Enstrom  F-28A                 Part 91               4   \n",
       "18                     Enstrom  F-28A                 Unknown              36   \n",
       "19                     Enstrom  F-28C                 Part 91               3   \n",
       "20                     Enstrom  F-28C                 Unknown              43   \n",
       "21                    Grumman  G-164A                     137               5   \n",
       "22                    Grumman  G-164A  Part 137: Agricultural              39   \n",
       "23                    Grumman  G-164A                 Part 91               1   \n",
       "24                    Grumman  G-164A                 Unknown             307   \n",
       "25                     Hiller  UH-12C                 Part 91               1   \n",
       "26                     Hiller  UH-12C                 Unknown              19   \n",
       "27                    Maule  M-4-220C                 Part 91               3   \n",
       "28                    Maule  M-4-220C                 Unknown              25   \n",
       "29         Mcdonnell Douglas  DC-9-51                Part 121               2   \n",
       "30         Mcdonnell Douglas  DC-9-51                 Unknown              19   \n",
       "31                   Piper  PA-18-160                 Part 91               3   \n",
       "32                   Piper  PA-18-160                 Unknown              28   \n",
       "33                   Piper  PA-28-150                 Part 91               4   \n",
       "34                   Piper  PA-28-150                 Unknown              18   \n",
       "35                      Rockwell  S2R                     137               2   \n",
       "36                      Rockwell  S2R  Part 137: Agricultural               3   \n",
       "37                      Rockwell  S2R                 Part 91               2   \n",
       "38                      Rockwell  S2R                 Unknown              33   \n",
       "39  Unknown Amateur-Built  QUICKIE Q2                 Part 91               3   \n",
       "40  Unknown Amateur-Built  QUICKIE Q2                 Unknown              18   \n",
       "41                    Weatherly  201B                     137               2   \n",
       "42                    Weatherly  201B  Part 137: Agricultural               4   \n",
       "43                    Weatherly  201B                 Unknown              21   \n",
       "\n",
       "   Part_Type  \n",
       "0    Part 91  \n",
       "1      Other  \n",
       "2      Other  \n",
       "3    Part 91  \n",
       "4      Other  \n",
       "5    Part 91  \n",
       "6      Other  \n",
       "7      Other  \n",
       "8    Part 91  \n",
       "9      Other  \n",
       "10  Part 121  \n",
       "11     Other  \n",
       "12   Part 91  \n",
       "13     Other  \n",
       "14   Part 91  \n",
       "15     Other  \n",
       "16     Other  \n",
       "17   Part 91  \n",
       "18     Other  \n",
       "19   Part 91  \n",
       "20     Other  \n",
       "21     Other  \n",
       "22     Other  \n",
       "23   Part 91  \n",
       "24     Other  \n",
       "25   Part 91  \n",
       "26     Other  \n",
       "27   Part 91  \n",
       "28     Other  \n",
       "29  Part 121  \n",
       "30     Other  \n",
       "31   Part 91  \n",
       "32     Other  \n",
       "33   Part 91  \n",
       "34     Other  \n",
       "35     Other  \n",
       "36     Other  \n",
       "37   Part 91  \n",
       "38     Other  \n",
       "39   Part 91  \n",
       "40     Other  \n",
       "41     Other  \n",
       "42     Other  \n",
       "43     Other  "
      ]
     },
     "execution_count": 531,
     "metadata": {},
     "output_type": "execute_result"
    }
   ],
   "source": [
    "df_description = df_fatal_damage.groupby(['Make_Model', 'FAR.Description']).size().reset_index(name='Incident_Count')\n",
    "\n",
    "df_description['Part_Type'] = df_description['FAR.Description'].apply(\n",
    "    lambda x: 'Part 91' if 'Part 91' in x else ('Part 121' if 'Part 121' in x else 'Other')\n",
    ")\n",
    "\n",
    "# Display the updated DataFrame\n",
    "df_description"
   ]
  },
  {
   "cell_type": "code",
   "execution_count": 544,
   "metadata": {},
   "outputs": [
    {
     "data": {
      "text/html": [
       "<div>\n",
       "<style scoped>\n",
       "    .dataframe tbody tr th:only-of-type {\n",
       "        vertical-align: middle;\n",
       "    }\n",
       "\n",
       "    .dataframe tbody tr th {\n",
       "        vertical-align: top;\n",
       "    }\n",
       "\n",
       "    .dataframe thead th {\n",
       "        text-align: right;\n",
       "    }\n",
       "</style>\n",
       "<table border=\"1\" class=\"dataframe\">\n",
       "  <thead>\n",
       "    <tr style=\"text-align: right;\">\n",
       "      <th></th>\n",
       "      <th>Make_Model</th>\n",
       "      <th>FAR.Description</th>\n",
       "      <th>Incident_Count</th>\n",
       "      <th>Part_Type</th>\n",
       "    </tr>\n",
       "  </thead>\n",
       "  <tbody>\n",
       "    <tr>\n",
       "      <th>0</th>\n",
       "      <td>Aeronca  15AC</td>\n",
       "      <td>Part 91</td>\n",
       "      <td>2</td>\n",
       "      <td>Part 91</td>\n",
       "    </tr>\n",
       "    <tr>\n",
       "      <th>3</th>\n",
       "      <td>American  AA-1</td>\n",
       "      <td>Part 91</td>\n",
       "      <td>1</td>\n",
       "      <td>Part 91</td>\n",
       "    </tr>\n",
       "    <tr>\n",
       "      <th>5</th>\n",
       "      <td>Beech  C-23</td>\n",
       "      <td>Part 91</td>\n",
       "      <td>3</td>\n",
       "      <td>Part 91</td>\n",
       "    </tr>\n",
       "    <tr>\n",
       "      <th>8</th>\n",
       "      <td>Bell  47G-2A</td>\n",
       "      <td>Part 91</td>\n",
       "      <td>2</td>\n",
       "      <td>Part 91</td>\n",
       "    </tr>\n",
       "    <tr>\n",
       "      <th>10</th>\n",
       "      <td>Boeing  757-222</td>\n",
       "      <td>Part 121</td>\n",
       "      <td>5</td>\n",
       "      <td>Part 121</td>\n",
       "    </tr>\n",
       "    <tr>\n",
       "      <th>12</th>\n",
       "      <td>Brantly Helicopter  B-2B</td>\n",
       "      <td>Part 91</td>\n",
       "      <td>2</td>\n",
       "      <td>Part 91</td>\n",
       "    </tr>\n",
       "    <tr>\n",
       "      <th>14</th>\n",
       "      <td>Cessna  195B</td>\n",
       "      <td>Part 91</td>\n",
       "      <td>9</td>\n",
       "      <td>Part 91</td>\n",
       "    </tr>\n",
       "    <tr>\n",
       "      <th>17</th>\n",
       "      <td>Enstrom  F-28A</td>\n",
       "      <td>Part 91</td>\n",
       "      <td>4</td>\n",
       "      <td>Part 91</td>\n",
       "    </tr>\n",
       "    <tr>\n",
       "      <th>19</th>\n",
       "      <td>Enstrom  F-28C</td>\n",
       "      <td>Part 91</td>\n",
       "      <td>3</td>\n",
       "      <td>Part 91</td>\n",
       "    </tr>\n",
       "    <tr>\n",
       "      <th>23</th>\n",
       "      <td>Grumman  G-164A</td>\n",
       "      <td>Part 91</td>\n",
       "      <td>1</td>\n",
       "      <td>Part 91</td>\n",
       "    </tr>\n",
       "    <tr>\n",
       "      <th>25</th>\n",
       "      <td>Hiller  UH-12C</td>\n",
       "      <td>Part 91</td>\n",
       "      <td>1</td>\n",
       "      <td>Part 91</td>\n",
       "    </tr>\n",
       "    <tr>\n",
       "      <th>27</th>\n",
       "      <td>Maule  M-4-220C</td>\n",
       "      <td>Part 91</td>\n",
       "      <td>3</td>\n",
       "      <td>Part 91</td>\n",
       "    </tr>\n",
       "    <tr>\n",
       "      <th>29</th>\n",
       "      <td>Mcdonnell Douglas  DC-9-51</td>\n",
       "      <td>Part 121</td>\n",
       "      <td>2</td>\n",
       "      <td>Part 121</td>\n",
       "    </tr>\n",
       "    <tr>\n",
       "      <th>31</th>\n",
       "      <td>Piper  PA-18-160</td>\n",
       "      <td>Part 91</td>\n",
       "      <td>3</td>\n",
       "      <td>Part 91</td>\n",
       "    </tr>\n",
       "    <tr>\n",
       "      <th>33</th>\n",
       "      <td>Piper  PA-28-150</td>\n",
       "      <td>Part 91</td>\n",
       "      <td>4</td>\n",
       "      <td>Part 91</td>\n",
       "    </tr>\n",
       "    <tr>\n",
       "      <th>37</th>\n",
       "      <td>Rockwell  S2R</td>\n",
       "      <td>Part 91</td>\n",
       "      <td>2</td>\n",
       "      <td>Part 91</td>\n",
       "    </tr>\n",
       "    <tr>\n",
       "      <th>39</th>\n",
       "      <td>Unknown Amateur-Built  QUICKIE Q2</td>\n",
       "      <td>Part 91</td>\n",
       "      <td>3</td>\n",
       "      <td>Part 91</td>\n",
       "    </tr>\n",
       "  </tbody>\n",
       "</table>\n",
       "</div>"
      ],
      "text/plain": [
       "                           Make_Model FAR.Description  Incident_Count  \\\n",
       "0                       Aeronca  15AC         Part 91               2   \n",
       "3                      American  AA-1         Part 91               1   \n",
       "5                         Beech  C-23         Part 91               3   \n",
       "8                        Bell  47G-2A         Part 91               2   \n",
       "10                    Boeing  757-222        Part 121               5   \n",
       "12           Brantly Helicopter  B-2B         Part 91               2   \n",
       "14                       Cessna  195B         Part 91               9   \n",
       "17                     Enstrom  F-28A         Part 91               4   \n",
       "19                     Enstrom  F-28C         Part 91               3   \n",
       "23                    Grumman  G-164A         Part 91               1   \n",
       "25                     Hiller  UH-12C         Part 91               1   \n",
       "27                    Maule  M-4-220C         Part 91               3   \n",
       "29         Mcdonnell Douglas  DC-9-51        Part 121               2   \n",
       "31                   Piper  PA-18-160         Part 91               3   \n",
       "33                   Piper  PA-28-150         Part 91               4   \n",
       "37                      Rockwell  S2R         Part 91               2   \n",
       "39  Unknown Amateur-Built  QUICKIE Q2         Part 91               3   \n",
       "\n",
       "   Part_Type  \n",
       "0    Part 91  \n",
       "3    Part 91  \n",
       "5    Part 91  \n",
       "8    Part 91  \n",
       "10  Part 121  \n",
       "12   Part 91  \n",
       "14   Part 91  \n",
       "17   Part 91  \n",
       "19   Part 91  \n",
       "23   Part 91  \n",
       "25   Part 91  \n",
       "27   Part 91  \n",
       "29  Part 121  \n",
       "31   Part 91  \n",
       "33   Part 91  \n",
       "37   Part 91  \n",
       "39   Part 91  "
      ]
     },
     "execution_count": 544,
     "metadata": {},
     "output_type": "execute_result"
    }
   ],
   "source": [
    "#Filtering to remain with part 121 and part91\n",
    "df_filtered = df_description[df_description['FAR.Description'].str.contains('Part 91|Part 121', na=False)]\n",
    "\n",
    "df_filtered = df_filtered.drop_duplicates()\n",
    "df_filtered"
   ]
  },
  {
   "cell_type": "markdown",
   "metadata": {},
   "source": [
    "The data is filtered in that we are having the top Make_Models that have a FAR description of Part 121 and part 91 only"
   ]
  },
  {
   "cell_type": "code",
   "execution_count": 543,
   "metadata": {},
   "outputs": [
    {
     "data": {
      "text/html": [
       "<div>\n",
       "<style scoped>\n",
       "    .dataframe tbody tr th:only-of-type {\n",
       "        vertical-align: middle;\n",
       "    }\n",
       "\n",
       "    .dataframe tbody tr th {\n",
       "        vertical-align: top;\n",
       "    }\n",
       "\n",
       "    .dataframe thead th {\n",
       "        text-align: right;\n",
       "    }\n",
       "</style>\n",
       "<table border=\"1\" class=\"dataframe\">\n",
       "  <thead>\n",
       "    <tr style=\"text-align: right;\">\n",
       "      <th></th>\n",
       "      <th>Event.Date</th>\n",
       "      <th>Location</th>\n",
       "      <th>Country</th>\n",
       "      <th>Airport.Name</th>\n",
       "      <th>Aircraft.damage</th>\n",
       "      <th>Make</th>\n",
       "      <th>Model</th>\n",
       "      <th>Amateur.Built</th>\n",
       "      <th>Number.of.Engines</th>\n",
       "      <th>Engine.Type</th>\n",
       "      <th>...</th>\n",
       "      <th>Air.carrier</th>\n",
       "      <th>Total.Fatal.Injuries</th>\n",
       "      <th>Total.Serious.Injuries</th>\n",
       "      <th>Total.Minor.Injuries</th>\n",
       "      <th>Total.Uninjured</th>\n",
       "      <th>Weather.Condition</th>\n",
       "      <th>Broad.phase.of.flight</th>\n",
       "      <th>Report.Status</th>\n",
       "      <th>Make_Model</th>\n",
       "      <th>Year</th>\n",
       "    </tr>\n",
       "  </thead>\n",
       "  <tbody>\n",
       "    <tr>\n",
       "      <th>154</th>\n",
       "      <td>1982-01-23</td>\n",
       "      <td>Hobbs, Nm</td>\n",
       "      <td>United States</td>\n",
       "      <td>PRIVATE AIRSTRIP</td>\n",
       "      <td>Destroyed</td>\n",
       "      <td>Grumman</td>\n",
       "      <td>G-164A</td>\n",
       "      <td>No</td>\n",
       "      <td>1.0</td>\n",
       "      <td>Reciprocating</td>\n",
       "      <td>...</td>\n",
       "      <td>Unknown</td>\n",
       "      <td>0.0</td>\n",
       "      <td>0.0</td>\n",
       "      <td>0.0</td>\n",
       "      <td>1.0</td>\n",
       "      <td>VMC</td>\n",
       "      <td>Takeoff</td>\n",
       "      <td>Probable Cause</td>\n",
       "      <td>Grumman  G-164A</td>\n",
       "      <td>1982</td>\n",
       "    </tr>\n",
       "    <tr>\n",
       "      <th>276</th>\n",
       "      <td>1982-02-08</td>\n",
       "      <td>Nashville, Tn</td>\n",
       "      <td>United States</td>\n",
       "      <td>NASHVILLE METRO</td>\n",
       "      <td>Substantial</td>\n",
       "      <td>Beech</td>\n",
       "      <td>C-23</td>\n",
       "      <td>No</td>\n",
       "      <td>1.0</td>\n",
       "      <td>Reciprocating</td>\n",
       "      <td>...</td>\n",
       "      <td>Unknown</td>\n",
       "      <td>0.0</td>\n",
       "      <td>0.0</td>\n",
       "      <td>0.0</td>\n",
       "      <td>1.0</td>\n",
       "      <td>VMC</td>\n",
       "      <td>Takeoff</td>\n",
       "      <td>Probable Cause</td>\n",
       "      <td>Beech  C-23</td>\n",
       "      <td>1982</td>\n",
       "    </tr>\n",
       "    <tr>\n",
       "      <th>391</th>\n",
       "      <td>1982-02-22</td>\n",
       "      <td>Pickens, Ar</td>\n",
       "      <td>United States</td>\n",
       "      <td>M &amp; M AG STRIP</td>\n",
       "      <td>Substantial</td>\n",
       "      <td>Grumman</td>\n",
       "      <td>G-164A</td>\n",
       "      <td>No</td>\n",
       "      <td>1.0</td>\n",
       "      <td>Reciprocating</td>\n",
       "      <td>...</td>\n",
       "      <td>Unknown</td>\n",
       "      <td>0.0</td>\n",
       "      <td>0.0</td>\n",
       "      <td>0.0</td>\n",
       "      <td>1.0</td>\n",
       "      <td>VMC</td>\n",
       "      <td>Takeoff</td>\n",
       "      <td>Probable Cause</td>\n",
       "      <td>Grumman  G-164A</td>\n",
       "      <td>1982</td>\n",
       "    </tr>\n",
       "    <tr>\n",
       "      <th>631</th>\n",
       "      <td>1982-03-20</td>\n",
       "      <td>Parsons, Ks</td>\n",
       "      <td>United States</td>\n",
       "      <td>PRIVATE AIRSTRIP</td>\n",
       "      <td>Substantial</td>\n",
       "      <td>Enstrom</td>\n",
       "      <td>F-28A</td>\n",
       "      <td>No</td>\n",
       "      <td>1.0</td>\n",
       "      <td>Reciprocating</td>\n",
       "      <td>...</td>\n",
       "      <td>Unknown</td>\n",
       "      <td>0.0</td>\n",
       "      <td>0.0</td>\n",
       "      <td>0.0</td>\n",
       "      <td>1.0</td>\n",
       "      <td>VMC</td>\n",
       "      <td>Cruise</td>\n",
       "      <td>Probable Cause</td>\n",
       "      <td>Enstrom  F-28A</td>\n",
       "      <td>1982</td>\n",
       "    </tr>\n",
       "    <tr>\n",
       "      <th>797</th>\n",
       "      <td>1982-04-09</td>\n",
       "      <td>Lyle, Wa</td>\n",
       "      <td>United States</td>\n",
       "      <td>PRIVATE AIRSTRIP</td>\n",
       "      <td>Substantial</td>\n",
       "      <td>Bell</td>\n",
       "      <td>47G-2A</td>\n",
       "      <td>No</td>\n",
       "      <td>1.0</td>\n",
       "      <td>Reciprocating</td>\n",
       "      <td>...</td>\n",
       "      <td>Unknown</td>\n",
       "      <td>0.0</td>\n",
       "      <td>0.0</td>\n",
       "      <td>0.0</td>\n",
       "      <td>1.0</td>\n",
       "      <td>VMC</td>\n",
       "      <td>Takeoff</td>\n",
       "      <td>Probable Cause</td>\n",
       "      <td>Bell  47G-2A</td>\n",
       "      <td>1982</td>\n",
       "    </tr>\n",
       "    <tr>\n",
       "      <th>...</th>\n",
       "      <td>...</td>\n",
       "      <td>...</td>\n",
       "      <td>...</td>\n",
       "      <td>...</td>\n",
       "      <td>...</td>\n",
       "      <td>...</td>\n",
       "      <td>...</td>\n",
       "      <td>...</td>\n",
       "      <td>...</td>\n",
       "      <td>...</td>\n",
       "      <td>...</td>\n",
       "      <td>...</td>\n",
       "      <td>...</td>\n",
       "      <td>...</td>\n",
       "      <td>...</td>\n",
       "      <td>...</td>\n",
       "      <td>...</td>\n",
       "      <td>...</td>\n",
       "      <td>...</td>\n",
       "      <td>...</td>\n",
       "      <td>...</td>\n",
       "    </tr>\n",
       "    <tr>\n",
       "      <th>83235</th>\n",
       "      <td>2019-05-24</td>\n",
       "      <td>Grangeville, Id</td>\n",
       "      <td>United States</td>\n",
       "      <td>PRIVATE AIRSTRIP</td>\n",
       "      <td>Substantial</td>\n",
       "      <td>Rockwell</td>\n",
       "      <td>S2R</td>\n",
       "      <td>No</td>\n",
       "      <td>1.0</td>\n",
       "      <td>Turbo Prop</td>\n",
       "      <td>...</td>\n",
       "      <td>Unknown</td>\n",
       "      <td>0.0</td>\n",
       "      <td>0.0</td>\n",
       "      <td>0.0</td>\n",
       "      <td>1.0</td>\n",
       "      <td>VMC</td>\n",
       "      <td>Unknown</td>\n",
       "      <td>The pilot's exceedance of the airplane's criti...</td>\n",
       "      <td>Rockwell  S2R</td>\n",
       "      <td>2019</td>\n",
       "    </tr>\n",
       "    <tr>\n",
       "      <th>85074</th>\n",
       "      <td>2020-07-20</td>\n",
       "      <td>Harlan, Ia</td>\n",
       "      <td>United States</td>\n",
       "      <td>PRIVATE AIRSTRIP</td>\n",
       "      <td>Substantial</td>\n",
       "      <td>Rockwell</td>\n",
       "      <td>S2R</td>\n",
       "      <td>No</td>\n",
       "      <td>1.0</td>\n",
       "      <td>Unknown Engine Type</td>\n",
       "      <td>...</td>\n",
       "      <td>Slater's Spray Service</td>\n",
       "      <td>0.0</td>\n",
       "      <td>0.0</td>\n",
       "      <td>0.0</td>\n",
       "      <td>1.0</td>\n",
       "      <td>VMC</td>\n",
       "      <td>Unknown</td>\n",
       "      <td>Unknown</td>\n",
       "      <td>Rockwell  S2R</td>\n",
       "      <td>2020</td>\n",
       "    </tr>\n",
       "    <tr>\n",
       "      <th>85382</th>\n",
       "      <td>2020-09-21</td>\n",
       "      <td>Hamilton, Ga</td>\n",
       "      <td>United States</td>\n",
       "      <td>PRIVATE AIRSTRIP</td>\n",
       "      <td>Substantial</td>\n",
       "      <td>Rockwell</td>\n",
       "      <td>S2R</td>\n",
       "      <td>No</td>\n",
       "      <td>1.0</td>\n",
       "      <td>Unknown Engine Type</td>\n",
       "      <td>...</td>\n",
       "      <td>North Valley Aircraft Inc.</td>\n",
       "      <td>0.0</td>\n",
       "      <td>0.0</td>\n",
       "      <td>0.0</td>\n",
       "      <td>1.0</td>\n",
       "      <td>VMC</td>\n",
       "      <td>Unknown</td>\n",
       "      <td>Unknown</td>\n",
       "      <td>Rockwell  S2R</td>\n",
       "      <td>2020</td>\n",
       "    </tr>\n",
       "    <tr>\n",
       "      <th>86378</th>\n",
       "      <td>2021-06-12</td>\n",
       "      <td>Fulshear, Tx</td>\n",
       "      <td>United States</td>\n",
       "      <td>COVEY TRAILS</td>\n",
       "      <td>Substantial</td>\n",
       "      <td>Piper</td>\n",
       "      <td>PA-28-150</td>\n",
       "      <td>No</td>\n",
       "      <td>1.0</td>\n",
       "      <td>Reciprocating</td>\n",
       "      <td>...</td>\n",
       "      <td>Unknown</td>\n",
       "      <td>0.0</td>\n",
       "      <td>0.0</td>\n",
       "      <td>0.0</td>\n",
       "      <td>1.0</td>\n",
       "      <td>VMC</td>\n",
       "      <td>Unknown</td>\n",
       "      <td>The pilot’s failure to maintain a proper glide...</td>\n",
       "      <td>Piper  PA-28-150</td>\n",
       "      <td>2021</td>\n",
       "    </tr>\n",
       "    <tr>\n",
       "      <th>87472</th>\n",
       "      <td>2022-02-26</td>\n",
       "      <td>Savannah, Ga</td>\n",
       "      <td>United States</td>\n",
       "      <td>PRIVATE AIRSTRIP</td>\n",
       "      <td>Substantial</td>\n",
       "      <td>Piper</td>\n",
       "      <td>PA-28-150</td>\n",
       "      <td>No</td>\n",
       "      <td>1.0</td>\n",
       "      <td>Unknown Engine Type</td>\n",
       "      <td>...</td>\n",
       "      <td>FlyCorps Aviation</td>\n",
       "      <td>0.0</td>\n",
       "      <td>0.0</td>\n",
       "      <td>0.0</td>\n",
       "      <td>1.0</td>\n",
       "      <td>VMC</td>\n",
       "      <td>Unknown</td>\n",
       "      <td>Unknown</td>\n",
       "      <td>Piper  PA-28-150</td>\n",
       "      <td>2022</td>\n",
       "    </tr>\n",
       "  </tbody>\n",
       "</table>\n",
       "<p>791 rows × 23 columns</p>\n",
       "</div>"
      ],
      "text/plain": [
       "      Event.Date         Location        Country      Airport.Name  \\\n",
       "154   1982-01-23        Hobbs, Nm  United States  PRIVATE AIRSTRIP   \n",
       "276   1982-02-08    Nashville, Tn  United States   NASHVILLE METRO   \n",
       "391   1982-02-22      Pickens, Ar  United States    M & M AG STRIP   \n",
       "631   1982-03-20      Parsons, Ks  United States  PRIVATE AIRSTRIP   \n",
       "797   1982-04-09         Lyle, Wa  United States  PRIVATE AIRSTRIP   \n",
       "...          ...              ...            ...               ...   \n",
       "83235 2019-05-24  Grangeville, Id  United States  PRIVATE AIRSTRIP   \n",
       "85074 2020-07-20       Harlan, Ia  United States  PRIVATE AIRSTRIP   \n",
       "85382 2020-09-21     Hamilton, Ga  United States  PRIVATE AIRSTRIP   \n",
       "86378 2021-06-12     Fulshear, Tx  United States      COVEY TRAILS   \n",
       "87472 2022-02-26     Savannah, Ga  United States  PRIVATE AIRSTRIP   \n",
       "\n",
       "      Aircraft.damage      Make      Model Amateur.Built  Number.of.Engines  \\\n",
       "154         Destroyed   Grumman     G-164A            No                1.0   \n",
       "276       Substantial     Beech       C-23            No                1.0   \n",
       "391       Substantial   Grumman     G-164A            No                1.0   \n",
       "631       Substantial   Enstrom      F-28A            No                1.0   \n",
       "797       Substantial      Bell     47G-2A            No                1.0   \n",
       "...               ...       ...        ...           ...                ...   \n",
       "83235     Substantial  Rockwell        S2R            No                1.0   \n",
       "85074     Substantial  Rockwell        S2R            No                1.0   \n",
       "85382     Substantial  Rockwell        S2R            No                1.0   \n",
       "86378     Substantial     Piper  PA-28-150            No                1.0   \n",
       "87472     Substantial     Piper  PA-28-150            No                1.0   \n",
       "\n",
       "               Engine.Type  ...                 Air.carrier  \\\n",
       "154          Reciprocating  ...                     Unknown   \n",
       "276          Reciprocating  ...                     Unknown   \n",
       "391          Reciprocating  ...                     Unknown   \n",
       "631          Reciprocating  ...                     Unknown   \n",
       "797          Reciprocating  ...                     Unknown   \n",
       "...                    ...  ...                         ...   \n",
       "83235           Turbo Prop  ...                     Unknown   \n",
       "85074  Unknown Engine Type  ...      Slater's Spray Service   \n",
       "85382  Unknown Engine Type  ...  North Valley Aircraft Inc.   \n",
       "86378        Reciprocating  ...                     Unknown   \n",
       "87472  Unknown Engine Type  ...           FlyCorps Aviation   \n",
       "\n",
       "      Total.Fatal.Injuries Total.Serious.Injuries Total.Minor.Injuries  \\\n",
       "154                    0.0                    0.0                  0.0   \n",
       "276                    0.0                    0.0                  0.0   \n",
       "391                    0.0                    0.0                  0.0   \n",
       "631                    0.0                    0.0                  0.0   \n",
       "797                    0.0                    0.0                  0.0   \n",
       "...                    ...                    ...                  ...   \n",
       "83235                  0.0                    0.0                  0.0   \n",
       "85074                  0.0                    0.0                  0.0   \n",
       "85382                  0.0                    0.0                  0.0   \n",
       "86378                  0.0                    0.0                  0.0   \n",
       "87472                  0.0                    0.0                  0.0   \n",
       "\n",
       "       Total.Uninjured  Weather.Condition  Broad.phase.of.flight  \\\n",
       "154                1.0                VMC                Takeoff   \n",
       "276                1.0                VMC                Takeoff   \n",
       "391                1.0                VMC                Takeoff   \n",
       "631                1.0                VMC                 Cruise   \n",
       "797                1.0                VMC                Takeoff   \n",
       "...                ...                ...                    ...   \n",
       "83235              1.0                VMC                Unknown   \n",
       "85074              1.0                VMC                Unknown   \n",
       "85382              1.0                VMC                Unknown   \n",
       "86378              1.0                VMC                Unknown   \n",
       "87472              1.0                VMC                Unknown   \n",
       "\n",
       "                                           Report.Status        Make_Model  \\\n",
       "154                                       Probable Cause   Grumman  G-164A   \n",
       "276                                       Probable Cause       Beech  C-23   \n",
       "391                                       Probable Cause   Grumman  G-164A   \n",
       "631                                       Probable Cause    Enstrom  F-28A   \n",
       "797                                       Probable Cause      Bell  47G-2A   \n",
       "...                                                  ...               ...   \n",
       "83235  The pilot's exceedance of the airplane's criti...     Rockwell  S2R   \n",
       "85074                                            Unknown     Rockwell  S2R   \n",
       "85382                                            Unknown     Rockwell  S2R   \n",
       "86378  The pilot’s failure to maintain a proper glide...  Piper  PA-28-150   \n",
       "87472                                            Unknown  Piper  PA-28-150   \n",
       "\n",
       "       Year  \n",
       "154    1982  \n",
       "276    1982  \n",
       "391    1982  \n",
       "631    1982  \n",
       "797    1982  \n",
       "...     ...  \n",
       "83235  2019  \n",
       "85074  2020  \n",
       "85382  2020  \n",
       "86378  2021  \n",
       "87472  2022  \n",
       "\n",
       "[791 rows x 23 columns]"
      ]
     },
     "execution_count": 543,
     "metadata": {},
     "output_type": "execute_result"
    }
   ],
   "source": [
    "make_model_list_filtered = df_filtered['Make_Model']\n",
    "df_fatal_damage_filtered = df_fatal_damage[df_fatal_damage['Make_Model'].isin(make_model_list_filtered)]\n",
    "df_fatal_damage_filtered"
   ]
  },
  {
   "cell_type": "markdown",
   "metadata": {},
   "source": [
    "##### Risks"
   ]
  },
  {
   "cell_type": "markdown",
   "metadata": {},
   "source": [
    "- Flights under Part 121\n",
    " - These flights generally have the lowest fatality rates due to strict regulations, advanced safety protocols, highly trained crews, and regular maintenance checks. The aircraft used for commercial flights also tend to be larger, more reliable, and equipped with advanced safety system\n",
    "- Flights inder Part 91 \n",
    " - have a higher fatality rate, as these are often smaller, privately owned aircraft. Pilots in this category may not have the same level of training or experience as commercial airline pilots, and aircraft maintenance can be inconsistent. Additionally, general aviation flights are often conducted under more varied and potentially risky conditions (e.g., poor weather or remote areas)."
   ]
  },
  {
   "cell_type": "markdown",
   "metadata": {},
   "source": [
    "### Schedule"
   ]
  },
  {
   "cell_type": "code",
   "execution_count": 506,
   "metadata": {},
   "outputs": [
    {
     "data": {
      "text/plain": [
       "Unknown          80383\n",
       "Non_Scheduled     4471\n",
       "Scheduled         4007\n",
       "Name: Schedule, dtype: int64"
      ]
     },
     "execution_count": 506,
     "metadata": {},
     "output_type": "execute_result"
    }
   ],
   "source": [
    "df_relevant['Schedule'].value_counts().head()"
   ]
  },
  {
   "cell_type": "markdown",
   "metadata": {},
   "source": [
    "#### Schedule Categories\n",
    "\n",
    "| Code  | Description              |\n",
    "|-------|--------------------------|\n",
    "| NSCH  | Non-Scheduled Flight     |\n",
    "| SCHD  | Scheduled Flight         |\n",
    "| UNK   | Unknown Schedule Type    |\n"
   ]
  },
  {
   "cell_type": "code",
   "execution_count": 547,
   "metadata": {},
   "outputs": [
    {
     "data": {
      "text/plain": [
       "<Figure size 720x432 with 0 Axes>"
      ]
     },
     "metadata": {},
     "output_type": "display_data"
    },
    {
     "data": {
      "image/png": "[encoded data removed]",
      "text/plain": [
       "<Figure size 1008x504 with 1 Axes>"
      ]
     },
     "metadata": {
      "needs_background": "light"
     },
     "output_type": "display_data"
    }
   ],
   "source": [
    "df_schedule = df_fatal_damage_filtered.groupby([\"Schedule\", \"Make_Model\"]).agg({\n",
    "    \"Total.Fatal.Injuries\": \"sum\"\n",
    "}).reset_index()\n",
    "\n",
    "plt.figure(figsize=(10,6))\n",
    "\n",
    "df_pivot = df_weather.pivot(index=\"Make_Model\", columns=\"Schedule\", values=\"Total.Fatal.Injuries\")\n",
    "df_pivot = df_pivot.loc[df_pivot.sum(axis=1).nlargest(20).index]\n",
    "df_pivot.plot(kind=\"bar\", stacked=True, figsize=(14, 7), colormap=\"Spectral\")\n",
    "\n",
    "plt.title(\"Fatal Injuries by Schedule and Aircraft Type\")\n",
    "plt.xlabel(\"Aircraft Make & Model\")\n",
    "plt.ylabel(\"Number of Fatal Injuries\")\n",
    "plt.legend(title=\"Schedule\")\n",
    "plt.xticks(rotation=90)\n",
    "plt.grid()\n",
    "plt.show()"
   ]
  },
  {
   "cell_type": "code",
   "execution_count": 555,
   "metadata": {},
   "outputs": [
    {
     "data": {
      "text/plain": [
       "154     Grumman  G-164A\n",
       "276         Beech  C-23\n",
       "391     Grumman  G-164A\n",
       "631      Enstrom  F-28A\n",
       "797        Bell  47G-2A\n",
       "827     Grumman  G-164A\n",
       "857     Maule  M-4-220C\n",
       "967     Grumman  G-164A\n",
       "1008    Grumman  G-164A\n",
       "1173    Grumman  G-164A\n",
       "1201    Grumman  G-164A\n",
       "1230     Enstrom  F-28C\n",
       "1267    Grumman  G-164A\n",
       "1273    Grumman  G-164A\n",
       "1297    Grumman  G-164A\n",
       "1334    Grumman  G-164A\n",
       "1358    Grumman  G-164A\n",
       "1417    Grumman  G-164A\n",
       "1418    Grumman  G-164A\n",
       "1455    Grumman  G-164A\n",
       "Name: Make_Model, dtype: object"
      ]
     },
     "execution_count": 555,
     "metadata": {},
     "output_type": "execute_result"
    }
   ],
   "source": []
  },
  {
   "cell_type": "markdown",
   "metadata": {},
   "source": [
    "### Weather.Condition"
   ]
  },
  {
   "cell_type": "code",
   "execution_count": 507,
   "metadata": {},
   "outputs": [
    {
     "data": {
      "text/plain": [
       "VMC        77277\n",
       "IMC         5976\n",
       "Unknown     5608\n",
       "Name: Weather.Condition, dtype: int64"
      ]
     },
     "execution_count": 507,
     "metadata": {},
     "output_type": "execute_result"
    }
   ],
   "source": [
    "df_relevant['Weather.Condition'].value_counts().head(50)"
   ]
  },
  {
   "cell_type": "markdown",
   "metadata": {},
   "source": [
    "#### Weather Conditions\n",
    "\n",
    "| Code     | Description                                      |\n",
    "|----------|--------------------------------------------------|\n",
    "| VMC      | Visual Meteorological Conditions (Good weather) |\n",
    "| IMC      | Instrument Meteorological Conditions (Poor visibility, bad weather) |\n",
    "| Unknown  | Weather conditions not specified               |\n"
   ]
  },
  {
   "cell_type": "markdown",
   "metadata": {},
   "source": [
    "From the plot below we can infer that\n",
    "- Cessna causes more fatalities across weather conditions\n",
    "- Its followed by Piper, Boeing,and then Beech makes\n",
    "- This concludes that they are prone to accidents due to design, usage frequency and operational risks\n",
    "- We can also infer that the listed top 20 models with high fatality rates casuses accidents even in good weather conditions\n",
    "- The fatalities seem to be consistent in all weather conditions so they issue is mostly operational related and not weather related.\n",
    "- Therefore the Make and models need to be analysed to see the ones with high fatalities and those with low falaitie"
   ]
  },
  {
   "cell_type": "code",
   "execution_count": 508,
   "metadata": {},
   "outputs": [
    {
     "data": {
      "text/plain": [
       "<Figure size 720x432 with 0 Axes>"
      ]
     },
     "metadata": {},
     "output_type": "display_data"
    },
    {
     "data": {
      "image/png": "[encoded data removed]",
      "text/plain": [
       "<Figure size 1008x504 with 1 Axes>"
      ]
     },
     "metadata": {
      "needs_background": "light"
     },
     "output_type": "display_data"
    }
   ],
   "source": [
    "df_weather = df_relevant.groupby([\"Weather.Condition\", \"Make\"]).agg({\n",
    "    \"Total.Fatal.Injuries\": \"sum\"\n",
    "}).reset_index()\n",
    "\n",
    "plt.figure(figsize=(10,6))\n",
    "\n",
    "df_pivot = df_weather.pivot(index=\"Make\", columns=\"Weather.Condition\", values=\"Total.Fatal.Injuries\")\n",
    "df_pivot = df_pivot.loc[df_pivot.sum(axis=1).nlargest(20).index]\n",
    "df_pivot.plot(kind=\"bar\", stacked=True, figsize=(14, 7), colormap=\"Spectral\")\n",
    "\n",
    "plt.title(\"Fatal Injuries by Weather Condition and Aircraft Type\")\n",
    "plt.xlabel(\"Aircraft Make & Model\")\n",
    "plt.ylabel(\"Number of Fatal Injuries\")\n",
    "plt.legend(title=\"Weather Condition\")\n",
    "plt.xticks(rotation=90)\n",
    "plt.grid()\n",
    "plt.show()"
   ]
  },
  {
   "cell_type": "markdown",
   "metadata": {},
   "source": [
    "We can infer that\n",
    " - Boeing has the highest number of uninjured passenngers in all weather conditions\n",
    " - Its then followed by Mcdonnell Douglas then followed by Cessna then others makes\n",
    " - These top 20  have better safety records, stability, and  improved flight technology\n",
    " - We conclude that there is more uninjured passengers when the weather condition is good "
   ]
  },
  {
   "cell_type": "code",
   "execution_count": 509,
   "metadata": {},
   "outputs": [
    {
     "data": {
      "text/plain": [
       "<Figure size 720x432 with 0 Axes>"
      ]
     },
     "metadata": {},
     "output_type": "display_data"
    },
    {
     "data": {
      "image/png": "[encoded data removed]",
      "text/plain": [
       "<Figure size 1008x504 with 1 Axes>"
      ]
     },
     "metadata": {
      "needs_background": "light"
     },
     "output_type": "display_data"
    }
   ],
   "source": [
    "df_weather = df_relevant.groupby([\"Weather.Condition\", \"Make\"]).agg({\n",
    "    \"Total.Uninjured\": \"sum\"\n",
    "}).reset_index()\n",
    "\n",
    "plt.figure(figsize=(10,6))\n",
    "\n",
    "df_pivot = df_weather.pivot(index=\"Make\", columns=\"Weather.Condition\", values=\"Total.Uninjured\")\n",
    "df_pivot = df_pivot.loc[df_pivot.sum(axis=1).nlargest(20).index]\n",
    "df_pivot.plot(kind=\"bar\", stacked=True, figsize=(14, 7), colormap=\"Spectral\")\n",
    "\n",
    "plt.title(\"Uninjured by Weather Condition and Aircraft Type\")\n",
    "plt.xlabel(\"Aircraft Make & Model\")\n",
    "plt.ylabel(\"Number of Uninjured\")\n",
    "plt.legend(title=\"Weather Condition\")\n",
    "plt.xticks(rotation=90)\n",
    "plt.grid()\n",
    "plt.show()"
   ]
  },
  {
   "cell_type": "code",
   "execution_count": 510,
   "metadata": {},
   "outputs": [
    {
     "data": {
      "text/plain": [
       "Probable Cause                                                                  61729\n",
       "Unknown                                                                          6546\n",
       "Foreign                                                                          1998\n",
       "Factual                                                                           145\n",
       "The pilot's failure to maintain directional control during the landing roll.       56\n",
       "Name: Report.Status, dtype: int64"
      ]
     },
     "execution_count": 510,
     "metadata": {},
     "output_type": "execute_result"
    }
   ],
   "source": [
    "df_relevant['Report.Status'].value_counts().head()"
   ]
  },
  {
   "cell_type": "markdown",
   "metadata": {},
   "source": [
    "#### Probable Causes in Aviation Accidents\n",
    "\n",
    "| Probable Cause                  | Description |\n",
    "|----------------------------------|-------------|\n",
    "| **Pilot Error**                 | Mistakes made by the pilot, such as misjudgment, poor decision-making, or lack of experience. |\n",
    "| **Mechanical Failure**          | Malfunctions or failures in aircraft components, including engine issues, structural defects, or system failures. |\n",
    "| **Weather Conditions**          | Adverse weather conditions, such as fog, thunderstorms, or turbulence, that contribute to accidents. |\n",
    "| **Air Traffic Control Error**   | Mistakes or miscommunication by air traffic controllers, leading to unsafe flight situations. |\n",
    "| **Runway Conditions**           | Issues like debris, ice, or poor maintenance affecting takeoff and landing. |\n",
    "| **Fuel-Related Issues**         | Fuel exhaustion, contamination, or improper fueling leading to engine failure. |\n",
    "| **Bird Strike**                 | Collisions between aircraft and birds, causing damage or engine failure. |\n",
    "| **Sabotage or Terrorism**       | Intentional acts that compromise the safety of the aircraft. |\n",
    "| **Unknown or Undetermined**     | Cases where the cause cannot be established due to lack of evidence. |\n",
    "\n"
   ]
  },
  {
   "cell_type": "code",
   "execution_count": null,
   "metadata": {},
   "outputs": [],
   "source": []
  },
  {
   "cell_type": "markdown",
   "metadata": {},
   "source": [
    "#### Broad.phase.of.flight"
   ]
  },
  {
   "cell_type": "markdown",
   "metadata": {},
   "source": [
    "- There is higher injury counts during Approach, cruise, maneuvering and Takeoff\n",
    "- Fatalities are concentrated on Cruise, Landing and Takeoff and this shows high impact crashes\n",
    "- These phases are critical in aviation, where most accidents occur due to pilot error, mechanical failure, or external conditions\n",
    "- There is also alot of injuries and fatalities that are actually uknown \n",
    "\n",
    "- most injuries occur during these phases, aviation safety efforts (improved pilot training, better aircraft design, enhanced air traffic control procedures) should focus on that phase\n"
   ]
  },
  {
   "cell_type": "code",
   "execution_count": 511,
   "metadata": {
    "scrolled": true
   },
   "outputs": [
    {
     "data": {
      "image/png": "[encoded data removed]",
      "text/plain": [
       "<Figure size 864x432 with 1 Axes>"
      ]
     },
     "metadata": {
      "needs_background": "light"
     },
     "output_type": "display_data"
    }
   ],
   "source": [
    "df_grouped = df_relevant.groupby(\"Broad.phase.of.flight\").agg({\n",
    "    \"Total.Fatal.Injuries\": \"sum\",\n",
    "    \"Total.Serious.Injuries\": \"sum\",\n",
    "    \"Total.Minor.Injuries\": \"sum\",\n",
    "}).reset_index()\n",
    "\n",
    "# Plot bar chart\n",
    "df_grouped.plot(\n",
    "    x=\"Broad.phase.of.flight\",\n",
    "    kind=\"bar\",\n",
    "    stacked=True,\n",
    "    figsize=(12, 6),\n",
    "    colormap=\"Spectral\"\n",
    ")\n",
    "plt.title(\"Injuries by Flight Phase\")\n",
    "plt.xlabel(\"Flight Phase\")\n",
    "plt.ylabel(\"Number of Injuries\")\n",
    "plt.legend(title=\"Injury Type\")\n",
    "plt.show()\n"
   ]
  },
  {
   "cell_type": "code",
   "execution_count": 512,
   "metadata": {},
   "outputs": [
    {
     "name": "stdout",
     "output_type": "stream",
     "text": [
      "<class 'pandas.core.frame.DataFrame'>\n",
      "Int64Index: 88861 entries, 0 to 88888\n",
      "Data columns (total 22 columns):\n",
      " #   Column                  Non-Null Count  Dtype         \n",
      "---  ------                  --------------  -----         \n",
      " 0   Event.Date              88861 non-null  datetime64[ns]\n",
      " 1   Location                88861 non-null  object        \n",
      " 2   Country                 88861 non-null  object        \n",
      " 3   Airport.Name            88861 non-null  object        \n",
      " 4   Aircraft.damage         88861 non-null  object        \n",
      " 5   Make                    88861 non-null  object        \n",
      " 6   Model                   88861 non-null  object        \n",
      " 7   Amateur.Built           88861 non-null  object        \n",
      " 8   Number.of.Engines       88861 non-null  float64       \n",
      " 9   Engine.Type             88861 non-null  object        \n",
      " 10  FAR.Description         88861 non-null  object        \n",
      " 11  Schedule                88861 non-null  object        \n",
      " 12  Purpose.of.flight       88861 non-null  object        \n",
      " 13  Air.carrier             88861 non-null  object        \n",
      " 14  Total.Fatal.Injuries    88861 non-null  float64       \n",
      " 15  Total.Serious.Injuries  88861 non-null  float64       \n",
      " 16  Total.Minor.Injuries    88861 non-null  float64       \n",
      " 17  Total.Uninjured         88861 non-null  float64       \n",
      " 18  Weather.Condition       88861 non-null  object        \n",
      " 19  Broad.phase.of.flight   88861 non-null  object        \n",
      " 20  Report.Status           88861 non-null  object        \n",
      " 21  Make_Model              88861 non-null  object        \n",
      "dtypes: datetime64[ns](1), float64(5), object(16)\n",
      "memory usage: 18.1+ MB\n"
     ]
    }
   ],
   "source": [
    "df_relevant.info()"
   ]
  },
  {
   "cell_type": "markdown",
   "metadata": {},
   "source": [
    "#### Weather.Condition"
   ]
  },
  {
   "cell_type": "code",
   "execution_count": 513,
   "metadata": {},
   "outputs": [
    {
     "data": {
      "image/png": "[encoded data removed]",
      "text/plain": [
       "<Figure size 720x432 with 1 Axes>"
      ]
     },
     "metadata": {
      "needs_background": "light"
     },
     "output_type": "display_data"
    }
   ],
   "source": [
    "\n",
    "df_relevant[\"Year\"] = df_relevant[\"Event.Date\"].dt.year\n",
    "\n",
    "df_grouped = df_relevant.groupby(\"Year\").agg({\n",
    "    \"Total.Fatal.Injuries\": \"sum\",\n",
    "    \"Total.Serious.Injuries\": \"sum\"\n",
    "}).reset_index()\n",
    "\n",
    "# Plot line graph\n",
    "plt.figure(figsize=(10, 6))\n",
    "sns.lineplot(data=df_grouped, x=\"Year\", y=\"Total.Fatal.Injuries\", label=\"Fatal Injuries\", marker=\"o\")\n",
    "sns.lineplot(data=df_grouped, x=\"Year\", y=\"Total.Serious.Injuries\", label=\"Serious Injuries\", marker=\"o\")\n",
    "\n",
    "plt.title(\"Trend of Fatal and Serious Injuries Over Time\")\n",
    "plt.xlabel(\"Year\")\n",
    "plt.ylabel(\"Number of Injuries\")\n",
    "plt.legend()\n",
    "plt.grid()\n",
    "plt.show()\n"
   ]
  },
  {
   "cell_type": "code",
   "execution_count": 514,
   "metadata": {},
   "outputs": [],
   "source": [
    "df_grouped = df_relevant.groupby(\"Year\").agg({\n",
    "    \"Total.Fatal.Injuries\": \"sum\",\n",
    "    \"Total.Serious.Injuries\": \"sum\"\n",
    "}).reset_index()"
   ]
  },
  {
   "cell_type": "code",
   "execution_count": null,
   "metadata": {},
   "outputs": [],
   "source": []
  },
  {
   "cell_type": "code",
   "execution_count": null,
   "metadata": {},
   "outputs": [],
   "source": []
  },
  {
   "cell_type": "code",
   "execution_count": 515,
   "metadata": {},
   "outputs": [
    {
     "data": {
      "text/plain": [
       "Cessna                   27058\n",
       "Piper                    14825\n",
       "Unknown Amateur-Built     8473\n",
       "Beech                     4314\n",
       "Boeing                    2726\n",
       "                         ...  \n",
       "Mikoyan Gurevich             1\n",
       "Bucker                       1\n",
       "BRANDT LEROY E               1\n",
       "MASON ROBERT                 1\n",
       "SCHLEICHER ALEXANDER         1\n",
       "Name: Make, Length: 2360, dtype: int64"
      ]
     },
     "execution_count": 515,
     "metadata": {},
     "output_type": "execute_result"
    }
   ],
   "source": [
    "df_relevant['Make'].value_counts()"
   ]
  },
  {
   "cell_type": "code",
   "execution_count": null,
   "metadata": {},
   "outputs": [],
   "source": []
  }
 ],
 "metadata": {
  "kernelspec": {
   "display_name": "Python (learn-env)",
   "language": "python",
   "name": "learn-env"
  },
  "language_info": {
   "codemirror_mode": {
    "name": "ipython",
    "version": 3
   },
   "file_extension": ".py",
   "mimetype": "text/x-python",
   "name": "python",
   "nbconvert_exporter": "python",
   "pygments_lexer": "ipython3",
   "version": "3.8.5"
  }
 },
 "nbformat": 4,
 "nbformat_minor": 4
}

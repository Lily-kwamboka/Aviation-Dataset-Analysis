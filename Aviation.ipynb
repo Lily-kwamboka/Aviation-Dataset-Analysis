{
 "cells": [
  {
   "cell_type": "markdown",
   "metadata": {},
   "source": [
    "# Aviation Dataset Analysis: Identifying Low-Risk Aircraft"
   ]
  },
  {
   "cell_type": "markdown",
   "metadata": {},
   "source": [
    "### BUSINESS PROBLEM"
   ]
  },
  {
   "cell_type": "markdown",
   "metadata": {},
   "source": [
    "As part of the company's efforts to diversify its portfolio, a new aviation division has been established to explore opportunities in the aircraft industry. To support the strategic decision-making process, the company requires insights into potential risks associated with various aircraft models for both commercial and private operations."
   ]
  },
  {
   "cell_type": "markdown",
   "metadata": {},
   "source": [
    "## Objectives"
   ]
  },
  {
   "cell_type": "markdown",
   "metadata": {},
   "source": [
    "- Analyze safety records to determine potential risks on the aircrafts\n",
    "- Identify the aircrafts with the lowest risks based on safety records and reliability.\n",
    "- Provide actionable recommendations to guide aircraft purchases that aligns wit the company's goals while minimizing risk exposure."
   ]
  },
  {
   "cell_type": "markdown",
   "metadata": {},
   "source": [
    "### Dataset Overview"
   ]
  },
  {
   "cell_type": "markdown",
   "metadata": {},
   "source": [
    "- **Souce**: Kaggle\n",
    "- **About this file**:\n",
    "  - The NTSB aviation accident database contains information from 1962 and later about civil aviation accidents and selected incidents within the United States, its territories and possessions, and in international waters"
   ]
  },
  {
   "cell_type": "markdown",
   "metadata": {},
   "source": [
    "#### Aviation Dataset Column Descriptions\n",
    "\n",
    "| Column Name             | Description |\n",
    "|-------------------------|-------------|\n",
    "| **Make**               | The manufacturer of the aircraft. |\n",
    "| **Model**              | The specific model of the aircraft. |\n",
    "| **Amateur.Built**        | Indicates if the aircraft was homebuilt by an individual rather than a  manufacturer. (\"Yes\" for amateur-built, \"No\" otherwise). |\n",
    "| **Airport Name**       | The name of the airport where the incident occurred. |\n",
    "| **Location**           | The city or area where the incident happened. |\n",
    "| **Country**            | The country where the incident took place. |\n",
    "| **Total.Fatal.Injuries** | The number of fatal injuries reported in the incident. |\n",
    "| **Total.Serious.Injuries** | The number of serious injuries reported in the incident. |\n",
    "| **Total.Minor.Injuries** | The number of minor injuries reported in the incident. |\n",
    "| **Total.Uninjured**    | The number of people involved in the incident who were uninjured. |\n",
    "| **Aircraft.Damage**    | The extent of damage to the aircraft (e.g., destroyed, substantial, minor). |\n",
    "| **Aircraft.Category**  | The category of the aircraft involved (e.g., airplane, helicopter). |\n",
    "| **Number.of.Engines**  | The number of engines the aircraft has. |\n",
    "| **Engine.Type**        | The type of engine used (e.g., reciprocating, turbojet). |\n",
    "| **FAR.Description**    | Federal Aviation Regulations category under which the aircraft was operating. |\n",
    "| **Schedule**          | Whether the flight was scheduled or unscheduled. |\n",
    "| **Air.Carrier**       | The airline or air carrier operating the flight. |\n",
    "| **Broad.Phase.of.Flight** | The general phase of the flight when the incident occurred (e.g., takeoff, landing). |\n",
    "| **Weather.Conditions** | The weather conditions at the time of the incident (e.g., VMC - Visual Meteorological Conditions, IMC - Instrument Meteorological Conditions). |\n",
    "\n"
   ]
  },
  {
   "cell_type": "markdown",
   "metadata": {},
   "source": [
    "### Importing Libraries"
   ]
  },
  {
   "cell_type": "code",
   "execution_count": 55,
   "metadata": {},
   "outputs": [],
   "source": [
    "import pandas as pd\n",
    "import numpy as np\n",
    "import matplotlib.pyplot as plt\n",
    "%matplotlib inline\n",
    "import seaborn as sns"
   ]
  },
  {
   "cell_type": "code",
   "execution_count": 56,
   "metadata": {},
   "outputs": [],
   "source": [
    "df = pd.read_csv(\"AviationData.csv\", encoding = \"windows-1252\", low_memory = False)"
   ]
  },
  {
   "cell_type": "markdown",
   "metadata": {},
   "source": [
    "### Data Exploration"
   ]
  },
  {
   "cell_type": "code",
   "execution_count": 57,
   "metadata": {},
   "outputs": [
    {
     "data": {
      "text/html": [
       "<div>\n",
       "<style scoped>\n",
       "    .dataframe tbody tr th:only-of-type {\n",
       "        vertical-align: middle;\n",
       "    }\n",
       "\n",
       "    .dataframe tbody tr th {\n",
       "        vertical-align: top;\n",
       "    }\n",
       "\n",
       "    .dataframe thead th {\n",
       "        text-align: right;\n",
       "    }\n",
       "</style>\n",
       "<table border=\"1\" class=\"dataframe\">\n",
       "  <thead>\n",
       "    <tr style=\"text-align: right;\">\n",
       "      <th></th>\n",
       "      <th>Event.Id</th>\n",
       "      <th>Investigation.Type</th>\n",
       "      <th>Accident.Number</th>\n",
       "      <th>Event.Date</th>\n",
       "      <th>Location</th>\n",
       "      <th>Country</th>\n",
       "      <th>Latitude</th>\n",
       "      <th>Longitude</th>\n",
       "      <th>Airport.Code</th>\n",
       "      <th>Airport.Name</th>\n",
       "      <th>...</th>\n",
       "      <th>Purpose.of.flight</th>\n",
       "      <th>Air.carrier</th>\n",
       "      <th>Total.Fatal.Injuries</th>\n",
       "      <th>Total.Serious.Injuries</th>\n",
       "      <th>Total.Minor.Injuries</th>\n",
       "      <th>Total.Uninjured</th>\n",
       "      <th>Weather.Condition</th>\n",
       "      <th>Broad.phase.of.flight</th>\n",
       "      <th>Report.Status</th>\n",
       "      <th>Publication.Date</th>\n",
       "    </tr>\n",
       "  </thead>\n",
       "  <tbody>\n",
       "    <tr>\n",
       "      <th>0</th>\n",
       "      <td>20001218X45444</td>\n",
       "      <td>Accident</td>\n",
       "      <td>SEA87LA080</td>\n",
       "      <td>1948-10-24</td>\n",
       "      <td>MOOSE CREEK, ID</td>\n",
       "      <td>United States</td>\n",
       "      <td>NaN</td>\n",
       "      <td>NaN</td>\n",
       "      <td>NaN</td>\n",
       "      <td>NaN</td>\n",
       "      <td>...</td>\n",
       "      <td>Personal</td>\n",
       "      <td>NaN</td>\n",
       "      <td>2.0</td>\n",
       "      <td>0.0</td>\n",
       "      <td>0.0</td>\n",
       "      <td>0.0</td>\n",
       "      <td>UNK</td>\n",
       "      <td>Cruise</td>\n",
       "      <td>Probable Cause</td>\n",
       "      <td>NaN</td>\n",
       "    </tr>\n",
       "    <tr>\n",
       "      <th>1</th>\n",
       "      <td>20001218X45447</td>\n",
       "      <td>Accident</td>\n",
       "      <td>LAX94LA336</td>\n",
       "      <td>1962-07-19</td>\n",
       "      <td>BRIDGEPORT, CA</td>\n",
       "      <td>United States</td>\n",
       "      <td>NaN</td>\n",
       "      <td>NaN</td>\n",
       "      <td>NaN</td>\n",
       "      <td>NaN</td>\n",
       "      <td>...</td>\n",
       "      <td>Personal</td>\n",
       "      <td>NaN</td>\n",
       "      <td>4.0</td>\n",
       "      <td>0.0</td>\n",
       "      <td>0.0</td>\n",
       "      <td>0.0</td>\n",
       "      <td>UNK</td>\n",
       "      <td>Unknown</td>\n",
       "      <td>Probable Cause</td>\n",
       "      <td>19-09-1996</td>\n",
       "    </tr>\n",
       "    <tr>\n",
       "      <th>2</th>\n",
       "      <td>20061025X01555</td>\n",
       "      <td>Accident</td>\n",
       "      <td>NYC07LA005</td>\n",
       "      <td>1974-08-30</td>\n",
       "      <td>Saltville, VA</td>\n",
       "      <td>United States</td>\n",
       "      <td>36.922223</td>\n",
       "      <td>-81.878056</td>\n",
       "      <td>NaN</td>\n",
       "      <td>NaN</td>\n",
       "      <td>...</td>\n",
       "      <td>Personal</td>\n",
       "      <td>NaN</td>\n",
       "      <td>3.0</td>\n",
       "      <td>NaN</td>\n",
       "      <td>NaN</td>\n",
       "      <td>NaN</td>\n",
       "      <td>IMC</td>\n",
       "      <td>Cruise</td>\n",
       "      <td>Probable Cause</td>\n",
       "      <td>26-02-2007</td>\n",
       "    </tr>\n",
       "    <tr>\n",
       "      <th>3</th>\n",
       "      <td>20001218X45448</td>\n",
       "      <td>Accident</td>\n",
       "      <td>LAX96LA321</td>\n",
       "      <td>1977-06-19</td>\n",
       "      <td>EUREKA, CA</td>\n",
       "      <td>United States</td>\n",
       "      <td>NaN</td>\n",
       "      <td>NaN</td>\n",
       "      <td>NaN</td>\n",
       "      <td>NaN</td>\n",
       "      <td>...</td>\n",
       "      <td>Personal</td>\n",
       "      <td>NaN</td>\n",
       "      <td>2.0</td>\n",
       "      <td>0.0</td>\n",
       "      <td>0.0</td>\n",
       "      <td>0.0</td>\n",
       "      <td>IMC</td>\n",
       "      <td>Cruise</td>\n",
       "      <td>Probable Cause</td>\n",
       "      <td>12-09-2000</td>\n",
       "    </tr>\n",
       "    <tr>\n",
       "      <th>4</th>\n",
       "      <td>20041105X01764</td>\n",
       "      <td>Accident</td>\n",
       "      <td>CHI79FA064</td>\n",
       "      <td>1979-08-02</td>\n",
       "      <td>Canton, OH</td>\n",
       "      <td>United States</td>\n",
       "      <td>NaN</td>\n",
       "      <td>NaN</td>\n",
       "      <td>NaN</td>\n",
       "      <td>NaN</td>\n",
       "      <td>...</td>\n",
       "      <td>Personal</td>\n",
       "      <td>NaN</td>\n",
       "      <td>1.0</td>\n",
       "      <td>2.0</td>\n",
       "      <td>NaN</td>\n",
       "      <td>0.0</td>\n",
       "      <td>VMC</td>\n",
       "      <td>Approach</td>\n",
       "      <td>Probable Cause</td>\n",
       "      <td>16-04-1980</td>\n",
       "    </tr>\n",
       "  </tbody>\n",
       "</table>\n",
       "<p>5 rows × 31 columns</p>\n",
       "</div>"
      ],
      "text/plain": [
       "         Event.Id Investigation.Type Accident.Number  Event.Date  \\\n",
       "0  20001218X45444           Accident      SEA87LA080  1948-10-24   \n",
       "1  20001218X45447           Accident      LAX94LA336  1962-07-19   \n",
       "2  20061025X01555           Accident      NYC07LA005  1974-08-30   \n",
       "3  20001218X45448           Accident      LAX96LA321  1977-06-19   \n",
       "4  20041105X01764           Accident      CHI79FA064  1979-08-02   \n",
       "\n",
       "          Location        Country   Latitude   Longitude Airport.Code  \\\n",
       "0  MOOSE CREEK, ID  United States        NaN         NaN          NaN   \n",
       "1   BRIDGEPORT, CA  United States        NaN         NaN          NaN   \n",
       "2    Saltville, VA  United States  36.922223  -81.878056          NaN   \n",
       "3       EUREKA, CA  United States        NaN         NaN          NaN   \n",
       "4       Canton, OH  United States        NaN         NaN          NaN   \n",
       "\n",
       "  Airport.Name  ... Purpose.of.flight Air.carrier Total.Fatal.Injuries  \\\n",
       "0          NaN  ...          Personal         NaN                  2.0   \n",
       "1          NaN  ...          Personal         NaN                  4.0   \n",
       "2          NaN  ...          Personal         NaN                  3.0   \n",
       "3          NaN  ...          Personal         NaN                  2.0   \n",
       "4          NaN  ...          Personal         NaN                  1.0   \n",
       "\n",
       "  Total.Serious.Injuries Total.Minor.Injuries Total.Uninjured  \\\n",
       "0                    0.0                  0.0             0.0   \n",
       "1                    0.0                  0.0             0.0   \n",
       "2                    NaN                  NaN             NaN   \n",
       "3                    0.0                  0.0             0.0   \n",
       "4                    2.0                  NaN             0.0   \n",
       "\n",
       "  Weather.Condition  Broad.phase.of.flight   Report.Status Publication.Date  \n",
       "0               UNK                 Cruise  Probable Cause              NaN  \n",
       "1               UNK                Unknown  Probable Cause       19-09-1996  \n",
       "2               IMC                 Cruise  Probable Cause       26-02-2007  \n",
       "3               IMC                 Cruise  Probable Cause       12-09-2000  \n",
       "4               VMC               Approach  Probable Cause       16-04-1980  \n",
       "\n",
       "[5 rows x 31 columns]"
      ]
     },
     "execution_count": 57,
     "metadata": {},
     "output_type": "execute_result"
    }
   ],
   "source": [
    "df.head() #Views first 5 rows"
   ]
  },
  {
   "cell_type": "code",
   "execution_count": 58,
   "metadata": {},
   "outputs": [
    {
     "name": "stdout",
     "output_type": "stream",
     "text": [
      "<class 'pandas.core.frame.DataFrame'>\n",
      "RangeIndex: 88889 entries, 0 to 88888\n",
      "Data columns (total 31 columns):\n",
      " #   Column                  Non-Null Count  Dtype  \n",
      "---  ------                  --------------  -----  \n",
      " 0   Event.Id                88889 non-null  object \n",
      " 1   Investigation.Type      88889 non-null  object \n",
      " 2   Accident.Number         88889 non-null  object \n",
      " 3   Event.Date              88889 non-null  object \n",
      " 4   Location                88837 non-null  object \n",
      " 5   Country                 88663 non-null  object \n",
      " 6   Latitude                34382 non-null  object \n",
      " 7   Longitude               34373 non-null  object \n",
      " 8   Airport.Code            50249 non-null  object \n",
      " 9   Airport.Name            52790 non-null  object \n",
      " 10  Injury.Severity         87889 non-null  object \n",
      " 11  Aircraft.damage         85695 non-null  object \n",
      " 12  Aircraft.Category       32287 non-null  object \n",
      " 13  Registration.Number     87572 non-null  object \n",
      " 14  Make                    88826 non-null  object \n",
      " 15  Model                   88797 non-null  object \n",
      " 16  Amateur.Built           88787 non-null  object \n",
      " 17  Number.of.Engines       82805 non-null  float64\n",
      " 18  Engine.Type             81812 non-null  object \n",
      " 19  FAR.Description         32023 non-null  object \n",
      " 20  Schedule                12582 non-null  object \n",
      " 21  Purpose.of.flight       82697 non-null  object \n",
      " 22  Air.carrier             16648 non-null  object \n",
      " 23  Total.Fatal.Injuries    77488 non-null  float64\n",
      " 24  Total.Serious.Injuries  76379 non-null  float64\n",
      " 25  Total.Minor.Injuries    76956 non-null  float64\n",
      " 26  Total.Uninjured         82977 non-null  float64\n",
      " 27  Weather.Condition       84397 non-null  object \n",
      " 28  Broad.phase.of.flight   61724 non-null  object \n",
      " 29  Report.Status           82508 non-null  object \n",
      " 30  Publication.Date        75118 non-null  object \n",
      "dtypes: float64(5), object(26)\n",
      "memory usage: 21.0+ MB\n"
     ]
    }
   ],
   "source": [
    "df.info() #Gives Data Summary(Memory usage, columns, Datatypes, Entries)"
   ]
  },
  {
   "cell_type": "code",
   "execution_count": 59,
   "metadata": {},
   "outputs": [
    {
     "data": {
      "text/html": [
       "<div>\n",
       "<style scoped>\n",
       "    .dataframe tbody tr th:only-of-type {\n",
       "        vertical-align: middle;\n",
       "    }\n",
       "\n",
       "    .dataframe tbody tr th {\n",
       "        vertical-align: top;\n",
       "    }\n",
       "\n",
       "    .dataframe thead th {\n",
       "        text-align: right;\n",
       "    }\n",
       "</style>\n",
       "<table border=\"1\" class=\"dataframe\">\n",
       "  <thead>\n",
       "    <tr style=\"text-align: right;\">\n",
       "      <th></th>\n",
       "      <th>Number.of.Engines</th>\n",
       "      <th>Total.Fatal.Injuries</th>\n",
       "      <th>Total.Serious.Injuries</th>\n",
       "      <th>Total.Minor.Injuries</th>\n",
       "      <th>Total.Uninjured</th>\n",
       "    </tr>\n",
       "  </thead>\n",
       "  <tbody>\n",
       "    <tr>\n",
       "      <th>count</th>\n",
       "      <td>82805.000000</td>\n",
       "      <td>77488.000000</td>\n",
       "      <td>76379.000000</td>\n",
       "      <td>76956.000000</td>\n",
       "      <td>82977.000000</td>\n",
       "    </tr>\n",
       "    <tr>\n",
       "      <th>mean</th>\n",
       "      <td>1.146585</td>\n",
       "      <td>0.647855</td>\n",
       "      <td>0.279881</td>\n",
       "      <td>0.357061</td>\n",
       "      <td>5.325440</td>\n",
       "    </tr>\n",
       "    <tr>\n",
       "      <th>std</th>\n",
       "      <td>0.446510</td>\n",
       "      <td>5.485960</td>\n",
       "      <td>1.544084</td>\n",
       "      <td>2.235625</td>\n",
       "      <td>27.913634</td>\n",
       "    </tr>\n",
       "    <tr>\n",
       "      <th>min</th>\n",
       "      <td>0.000000</td>\n",
       "      <td>0.000000</td>\n",
       "      <td>0.000000</td>\n",
       "      <td>0.000000</td>\n",
       "      <td>0.000000</td>\n",
       "    </tr>\n",
       "    <tr>\n",
       "      <th>25%</th>\n",
       "      <td>1.000000</td>\n",
       "      <td>0.000000</td>\n",
       "      <td>0.000000</td>\n",
       "      <td>0.000000</td>\n",
       "      <td>0.000000</td>\n",
       "    </tr>\n",
       "    <tr>\n",
       "      <th>50%</th>\n",
       "      <td>1.000000</td>\n",
       "      <td>0.000000</td>\n",
       "      <td>0.000000</td>\n",
       "      <td>0.000000</td>\n",
       "      <td>1.000000</td>\n",
       "    </tr>\n",
       "    <tr>\n",
       "      <th>75%</th>\n",
       "      <td>1.000000</td>\n",
       "      <td>0.000000</td>\n",
       "      <td>0.000000</td>\n",
       "      <td>0.000000</td>\n",
       "      <td>2.000000</td>\n",
       "    </tr>\n",
       "    <tr>\n",
       "      <th>max</th>\n",
       "      <td>8.000000</td>\n",
       "      <td>349.000000</td>\n",
       "      <td>161.000000</td>\n",
       "      <td>380.000000</td>\n",
       "      <td>699.000000</td>\n",
       "    </tr>\n",
       "  </tbody>\n",
       "</table>\n",
       "</div>"
      ],
      "text/plain": [
       "       Number.of.Engines  Total.Fatal.Injuries  Total.Serious.Injuries  \\\n",
       "count       82805.000000          77488.000000            76379.000000   \n",
       "mean            1.146585              0.647855                0.279881   \n",
       "std             0.446510              5.485960                1.544084   \n",
       "min             0.000000              0.000000                0.000000   \n",
       "25%             1.000000              0.000000                0.000000   \n",
       "50%             1.000000              0.000000                0.000000   \n",
       "75%             1.000000              0.000000                0.000000   \n",
       "max             8.000000            349.000000              161.000000   \n",
       "\n",
       "       Total.Minor.Injuries  Total.Uninjured  \n",
       "count          76956.000000     82977.000000  \n",
       "mean               0.357061         5.325440  \n",
       "std                2.235625        27.913634  \n",
       "min                0.000000         0.000000  \n",
       "25%                0.000000         0.000000  \n",
       "50%                0.000000         1.000000  \n",
       "75%                0.000000         2.000000  \n",
       "max              380.000000       699.000000  "
      ]
     },
     "execution_count": 59,
     "metadata": {},
     "output_type": "execute_result"
    }
   ],
   "source": [
    "df.describe() #Summary statistics for numerical columns"
   ]
  },
  {
   "cell_type": "code",
   "execution_count": 60,
   "metadata": {},
   "outputs": [],
   "source": [
    "df.columns = df.columns.str.strip() #To remove whitespaces"
   ]
  },
  {
   "cell_type": "code",
   "execution_count": 61,
   "metadata": {},
   "outputs": [
    {
     "data": {
      "text/plain": [
       "array(['Accident', 'Incident'], dtype=object)"
      ]
     },
     "execution_count": 61,
     "metadata": {},
     "output_type": "execute_result"
    }
   ],
   "source": [
    "df['Investigation.Type'].unique() #Checking unique values before dropping the columns"
   ]
  },
  {
   "cell_type": "markdown",
   "metadata": {},
   "source": [
    "### Irelevant Columns"
   ]
  },
  {
   "cell_type": "code",
   "execution_count": 62,
   "metadata": {},
   "outputs": [
    {
     "data": {
      "text/plain": [
       "Index(['Event.Date', 'Location', 'Country', 'Airport.Name', 'Injury.Severity',\n",
       "       'Aircraft.damage', 'Aircraft.Category', 'Make', 'Model',\n",
       "       'Amateur.Built', 'Number.of.Engines', 'Engine.Type', 'FAR.Description',\n",
       "       'Schedule', 'Purpose.of.flight', 'Air.carrier', 'Total.Fatal.Injuries',\n",
       "       'Total.Serious.Injuries', 'Total.Minor.Injuries', 'Total.Uninjured',\n",
       "       'Weather.Condition', 'Broad.phase.of.flight', 'Report.Status'],\n",
       "      dtype='object')"
      ]
     },
     "execution_count": 62,
     "metadata": {},
     "output_type": "execute_result"
    }
   ],
   "source": [
    "#Removes :\"Event.Id\", \"Investigation.Type\", \"Accident.Number\", \"Airport.Code\", \"Registration.Number\", \"Publication.Date\",'Latitude', 'Longitude'\n",
    "#They are not relevant in this Analysis\n",
    "df_relevant = df.drop(columns = [\"Event.Id\", \"Investigation.Type\", \"Accident.Number\", \"Airport.Code\", \"Registration.Number\", \"Publication.Date\",'Latitude', 'Longitude',], errors='ignore')\n",
    "df_relevant.columns"
   ]
  },
  {
   "cell_type": "code",
   "execution_count": 63,
   "metadata": {},
   "outputs": [
    {
     "data": {
      "text/plain": [
       "Event.Date                    0\n",
       "Location                     52\n",
       "Country                     226\n",
       "Airport.Name              36099\n",
       "Injury.Severity            1000\n",
       "Aircraft.damage            3194\n",
       "Aircraft.Category         56602\n",
       "Make                         63\n",
       "Model                        92\n",
       "Amateur.Built               102\n",
       "Number.of.Engines          6084\n",
       "Engine.Type                7077\n",
       "FAR.Description           56866\n",
       "Schedule                  76307\n",
       "Purpose.of.flight          6192\n",
       "Air.carrier               72241\n",
       "Total.Fatal.Injuries      11401\n",
       "Total.Serious.Injuries    12510\n",
       "Total.Minor.Injuries      11933\n",
       "Total.Uninjured            5912\n",
       "Weather.Condition          4492\n",
       "Broad.phase.of.flight     27165\n",
       "Report.Status              6381\n",
       "dtype: int64"
      ]
     },
     "execution_count": 63,
     "metadata": {},
     "output_type": "execute_result"
    }
   ],
   "source": [
    "df_relevant.isnull().sum() #Checks for null values for the relevant data"
   ]
  },
  {
   "cell_type": "markdown",
   "metadata": {},
   "source": [
    "## DATA CLEANING"
   ]
  },
  {
   "cell_type": "markdown",
   "metadata": {},
   "source": [
    "## Handling Missing Data"
   ]
  },
  {
   "cell_type": "code",
   "execution_count": 64,
   "metadata": {},
   "outputs": [],
   "source": [
    "df_relevant['Location'].fillna(\"Unknown\", inplace = True) #Replaced NaN with unknown to remove the null\n"
   ]
  },
  {
   "cell_type": "markdown",
   "metadata": {},
   "source": [
    "#### Location"
   ]
  },
  {
   "cell_type": "code",
   "execution_count": 65,
   "metadata": {},
   "outputs": [],
   "source": [
    "df_relevant['Location'] = df_relevant['Location'].str.strip().str.title()  # Fix spaces & capitalization\n",
    "df_relevant['Country'] = df_relevant['Country'].str.strip().str.title()"
   ]
  },
  {
   "cell_type": "code",
   "execution_count": 66,
   "metadata": {},
   "outputs": [
    {
     "data": {
      "text/plain": [
       "Event.Date                    0\n",
       "Location                      0\n",
       "Country                     226\n",
       "Airport.Name              36099\n",
       "Injury.Severity            1000\n",
       "Aircraft.damage            3194\n",
       "Aircraft.Category         56602\n",
       "Make                         63\n",
       "Model                        92\n",
       "Amateur.Built               102\n",
       "Number.of.Engines          6084\n",
       "Engine.Type                7077\n",
       "FAR.Description           56866\n",
       "Schedule                  76307\n",
       "Purpose.of.flight          6192\n",
       "Air.carrier               72241\n",
       "Total.Fatal.Injuries      11401\n",
       "Total.Serious.Injuries    12510\n",
       "Total.Minor.Injuries      11933\n",
       "Total.Uninjured            5912\n",
       "Weather.Condition          4492\n",
       "Broad.phase.of.flight     27165\n",
       "Report.Status              6381\n",
       "dtype: int64"
      ]
     },
     "execution_count": 66,
     "metadata": {},
     "output_type": "execute_result"
    }
   ],
   "source": [
    "df_relevant.isnull().sum() #Counts the sum of missing values in all columns"
   ]
  },
  {
   "cell_type": "markdown",
   "metadata": {},
   "source": [
    "#### Country"
   ]
  },
  {
   "cell_type": "code",
   "execution_count": 149,
   "metadata": {},
   "outputs": [
    {
     "name": "stdout",
     "output_type": "stream",
     "text": [
      "0\n"
     ]
    }
   ],
   "source": [
    "print(df_relevant['Country'].isnull().sum())  # Count missing values\n",
    " \n"
   ]
  },
  {
   "cell_type": "code",
   "execution_count": 68,
   "metadata": {},
   "outputs": [
    {
     "data": {
      "text/plain": [
       "<bound method Series.isnull of 0        United States\n",
       "1        United States\n",
       "2        United States\n",
       "3        United States\n",
       "4        United States\n",
       "             ...      \n",
       "88884    United States\n",
       "88885    United States\n",
       "88886    United States\n",
       "88887    United States\n",
       "88888    United States\n",
       "Name: Country, Length: 88889, dtype: object>"
      ]
     },
     "execution_count": 68,
     "metadata": {},
     "output_type": "execute_result"
    }
   ],
   "source": [
    "df_relevant['Country'].fillna(df_relevant['Location'], inplace = True) #Replaces the NaN values in the Country with coresponding values in the location\n",
    "df_relevant['Country'].isnull"
   ]
  },
  {
   "cell_type": "markdown",
   "metadata": {},
   "source": [
    "#### Airport.Name"
   ]
  },
  {
   "cell_type": "code",
   "execution_count": 69,
   "metadata": {},
   "outputs": [],
   "source": [
    "df_relevant['Airport.Name'].fillna('PRIVATE', inplace = True) #Replaces null values in Airport.Name to PRIVATE which is the mode value"
   ]
  },
  {
   "cell_type": "code",
   "execution_count": 150,
   "metadata": {},
   "outputs": [
    {
     "data": {
      "text/plain": [
       "PRIVATE AIRSTRIP    37249\n",
       "MERRILL FIELD          83\n",
       "VAN NUYS               81\n",
       "MUNICIPAL              78\n",
       "CENTENNIAL             75\n",
       "Name: Airport.Name, dtype: int64"
      ]
     },
     "execution_count": 150,
     "metadata": {},
     "output_type": "execute_result"
    }
   ],
   "source": [
    "#Replaces all unknown and repetitive values to one vale \"PRIVATE AIRSTRIP\"\n",
    "top_5_airports = df_relevant[\"Airport.Name\"].value_counts().head()\n",
    "df_relevant[\"Airport.Name\"] = df_relevant[\"Airport.Name\"].replace(\"PRIVATE\", \"PRIVATE AIRSTRIP\")\n",
    "df_relevant[\"Airport.Name\"] = df_relevant[\"Airport.Name\"].replace(\"Private Airstrip\", \"PRIVATE AIRSTRIP\")\n",
    "df_relevant[\"Airport.Name\"] = df_relevant[\"Airport.Name\"].replace(\"NONE\", \"PRIVATE AIRSTRIP\")\n",
    "df_relevant[\"Airport.Name\"] = df_relevant[\"Airport.Name\"].replace(\"PRIVATE STRIP\", \"PRIVATE AIRSTRIP\")\n",
    "df_relevant[\"Airport.Name\"] = df_relevant[\"Airport.Name\"].replace(\"None\", \"PRIVATE AIRSTRIP\")\n",
    "df_relevant[\"Airport.Name\"] = df_relevant[\"Airport.Name\"].replace(\"UNKNOWN\", \"PRIVATE AIRSTRIP\")\n",
    "df_relevant[\"Airport.Name\"] = df_relevant[\"Airport.Name\"].replace(\"Private Strip\", \"PRIVATE AIRSTRIP\")\n",
    "df_relevant[\"Airport.Name\"] = df_relevant[\"Airport.Name\"].replace(\"Private\", \"PRIVATE AIRSTRIP\")\n",
    "top_5_airports"
   ]
  },
  {
   "cell_type": "markdown",
   "metadata": {},
   "source": [
    "#### Injury.Severity"
   ]
  },
  {
   "cell_type": "code",
   "execution_count": 71,
   "metadata": {},
   "outputs": [],
   "source": [
    "#Dropped 'Injury.Severity' because we have total fatal,serious,unserious,minor and uninjured columns we can work with\n",
    "df_relevant.drop(columns = ['Injury.Severity'], inplace = True)"
   ]
  },
  {
   "cell_type": "code",
   "execution_count": 72,
   "metadata": {},
   "outputs": [
    {
     "data": {
      "text/plain": [
       "Substantial    67461\n",
       "Destroyed      18623\n",
       "Minor           2805\n",
       "Name: Aircraft.damage, dtype: int64"
      ]
     },
     "execution_count": 72,
     "metadata": {},
     "output_type": "execute_result"
    }
   ],
   "source": [
    "#Replaces the null values and the unknow with substantial which is the mode value\n",
    "df_relevant['Aircraft.damage'].fillna('Substantial', inplace = True)\n",
    "df_relevant['Aircraft.damage'].replace('Unknown', 'Substantial', inplace = True)\n",
    "df_relevant['Aircraft.damage'].value_counts().head()\n"
   ]
  },
  {
   "cell_type": "markdown",
   "metadata": {},
   "source": [
    "#### Aircraft.Category"
   ]
  },
  {
   "cell_type": "code",
   "execution_count": 73,
   "metadata": {},
   "outputs": [],
   "source": [
    "#The company is specifically interested with airplanes so we just need drop the aircraft category column\n",
    "df_relevant.drop(columns = ['Aircraft.Category'], inplace = True)"
   ]
  },
  {
   "cell_type": "markdown",
   "metadata": {},
   "source": [
    "#### Amateur.Built"
   ]
  },
  {
   "cell_type": "code",
   "execution_count": 74,
   "metadata": {},
   "outputs": [
    {
     "data": {
      "text/plain": [
       "No     80414\n",
       "Yes     8475\n",
       "Name: Amateur.Built, dtype: int64"
      ]
     },
     "execution_count": 74,
     "metadata": {},
     "output_type": "execute_result"
    }
   ],
   "source": [
    "#Replaced null values  with 'No' which is the mode value\n",
    "df_relevant['Amateur.Built'].fillna('No', inplace = True)\n",
    "df_relevant['Amateur.Built'].value_counts().head()"
   ]
  },
  {
   "cell_type": "markdown",
   "metadata": {},
   "source": [
    "#### Make"
   ]
  },
  {
   "cell_type": "code",
   "execution_count": 75,
   "metadata": {},
   "outputs": [
    {
     "data": {
      "text/plain": [
       "Cessna                   27065\n",
       "Piper                    11987\n",
       "Unknown Amateur-Built     8475\n",
       "Beech                     4314\n",
       "PIPER                     2839\n",
       "Name: Make, dtype: int64"
      ]
     },
     "execution_count": 75,
     "metadata": {},
     "output_type": "execute_result"
    }
   ],
   "source": [
    "df_relevant['Make'].value_counts().head()\n",
    "# Replaced some of the null values with unknown ameteurs \n",
    "df_relevant.loc[df_relevant[\"Amateur.Built\"] == \"Yes\", \"Make\"] = \"Unknown Amateur-Built\"\n",
    "#Replaced 'CESSNA', With 'Cessna' to avoid repetion\n",
    "df_relevant['Make'].replace('CESSNA', 'Cessna', inplace = True)\n",
    "#Replaced the remaining null values to uknown \n",
    "df_relevant['Make'].fillna('Unknown', inplace = True)\n",
    "\n",
    "df_relevant['Make'].value_counts().head()\n"
   ]
  },
  {
   "cell_type": "markdown",
   "metadata": {},
   "source": [
    "#### Model"
   ]
  },
  {
   "cell_type": "code",
   "execution_count": 76,
   "metadata": {
    "scrolled": true
   },
   "outputs": [
    {
     "data": {
      "text/plain": [
       "152          2367\n",
       "172          1756\n",
       "172N         1164\n",
       "PA-28-140     932\n",
       "150           829\n",
       "Name: Model, dtype: int64"
      ]
     },
     "execution_count": 76,
     "metadata": {},
     "output_type": "execute_result"
    }
   ],
   "source": [
    "#Some of t`he models that had unknown makes are assigned to uknown makes\n",
    "df_relevant.loc[df_relevant[\"Make\"] == \"Unknown\", [\"Unknown Amateur-Built\", \"Model\"]] = \"Unknown Make\"\n",
    "#The rest null values has been assigned to uknown\n",
    "df_relevant['Model'].fillna('Unknown', inplace = True)\n",
    "df_relevant['Model'].value_counts().head()"
   ]
  },
  {
   "cell_type": "markdown",
   "metadata": {},
   "source": [
    "#### Number.of.Engines"
   ]
  },
  {
   "cell_type": "code",
   "execution_count": 77,
   "metadata": {},
   "outputs": [
    {
     "data": {
      "text/plain": [
       "1.0    69582\n",
       "2.0    11079\n",
       "0.0     1226\n",
       "3.0      483\n",
       "4.0      431\n",
       "8.0        3\n",
       "6.0        1\n",
       "Name: Number.of.Engines, dtype: int64"
      ]
     },
     "execution_count": 77,
     "metadata": {},
     "output_type": "execute_result"
    }
   ],
   "source": [
    "df_relevant['Number.of.Engines'].value_counts()\n"
   ]
  },
  {
   "cell_type": "code",
   "execution_count": 78,
   "metadata": {},
   "outputs": [
    {
     "data": {
      "text/plain": [
       "94943.0"
      ]
     },
     "execution_count": 78,
     "metadata": {},
     "output_type": "execute_result"
    }
   ],
   "source": [
    "#Replaced the null value with 0 and converted averything into numeric datatype\n",
    "\n",
    "df_relevant[\"Number.of.Engines\"] = pd.to_numeric(df_relevant[\"Number.of.Engines\"], errors=\"coerce\")\n",
    "df_relevant['Number.of.Engines'].fillna(0, inplace = True)\n",
    "df_relevant[\"Number.of.Engines\"].sum()\n"
   ]
  },
  {
   "cell_type": "markdown",
   "metadata": {},
   "source": [
    "#### Engine.Type"
   ]
  },
  {
   "cell_type": "code",
   "execution_count": 103,
   "metadata": {},
   "outputs": [
    {
     "data": {
      "text/plain": [
       "Reciprocating          69004\n",
       "Unknown Engine Type     9908\n",
       "Turbo Shaft             3530\n",
       "Turbo Prop              3324\n",
       "Turbo Fan               2378\n",
       "Turbo Jet                695\n",
       "Geared Turbofan           11\n",
       "Electric                   8\n",
       "LR                         2\n",
       "Hybrid Rocket              1\n",
       "Name: Engine.Type, dtype: int64"
      ]
     },
     "execution_count": 103,
     "metadata": {},
     "output_type": "execute_result"
    }
   ],
   "source": [
    "#It check for the rows with 0(Unknown) number of engines, then replaces the with uknown types\n",
    "df_relevant.loc[df_relevant[\"Number.of.Engines\"] == 0, \"Engine.Type\"] = \"Unknown Engine Type\"\n",
    "#It replaces Uknown and none types with unkown engine types\n",
    "\n",
    "df_relevant['Engine.Type'].replace('Unknown', 'Unknown Engine Type', inplace = True)\n",
    "df_relevant['Engine.Type'].replace('None', 'Unknown Engine Type', inplace = True)\n",
    "df_relevant['Engine.Type'].replace('UNK', 'Unknown Engine Type', inplace = True)\n",
    "#The remaining null value are also replaced with 'Unknown Engine Type'\n",
    "df_relevant['Engine.Type'].fillna('Unknown Engine Type', inplace = True)\n",
    "df_relevant['Engine.Type'].value_counts()"
   ]
  },
  {
   "cell_type": "markdown",
   "metadata": {},
   "source": [
    "#### FAR.Description"
   ]
  },
  {
   "cell_type": "code",
   "execution_count": 151,
   "metadata": {
    "scrolled": true
   },
   "outputs": [
    {
     "data": {
      "text/plain": [
       "Unknown    56865\n",
       "Part 91    24717\n",
       "NUSN        1584\n",
       "NUSC        1012\n",
       "137         1010\n",
       "Name: FAR.Description, dtype: int64"
      ]
     },
     "execution_count": 151,
     "metadata": {},
     "output_type": "execute_result"
    }
   ],
   "source": [
    "#We want the part 91 and 121 which are private and commercial use only and set the null to unknown \n",
    "far_replacements = {\n",
    "    '091': 'Part 91',\n",
    "    'Part 91: General Aviation': 'Part 91',\n",
    "    '091K': 'Part 91',\n",
    "    'Part 91F': 'Part 91',\n",
    "    'Part 91 Subpart K: Fractional091': 'Part 91',\n",
    "    '121': 'Part 121',\n",
    "    'Non-U.S., Commercial': 'Part 121',\n",
    "    'Part 121: Air Carrier': 'Part 121'\n",
    "}\n",
    "\n",
    "df_relevant['FAR.Description'].replace(far_replacements, inplace=True)\n",
    "\n",
    "df_relevant['FAR.Description'].fillna('Unknown', inplace = True)\n",
    "\n",
    "df_relevant['FAR.Description'].value_counts().head()"
   ]
  },
  {
   "cell_type": "markdown",
   "metadata": {},
   "source": [
    "#### Schedule"
   ]
  },
  {
   "cell_type": "code",
   "execution_count": 128,
   "metadata": {},
   "outputs": [
    {
     "data": {
      "text/plain": [
       "Unknown    80383\n",
       "NSCH        4471\n",
       "SCHD        4007\n",
       "Name: Schedule, dtype: int64"
      ]
     },
     "execution_count": 128,
     "metadata": {},
     "output_type": "execute_result"
    }
   ],
   "source": [
    "#We categorize the null values as uknown\n",
    "df_relevant['Schedule'].fillna('Unknown', inplace = True)\n",
    "df_relevant['Schedule'].replace('UNK', 'Unknown', inplace = True)\n",
    "df_relevant['Schedule'].value_counts()"
   ]
  },
  {
   "cell_type": "markdown",
   "metadata": {},
   "source": [
    "#### Purpose.of.flight"
   ]
  },
  {
   "cell_type": "code",
   "execution_count": 152,
   "metadata": {},
   "outputs": [
    {
     "data": {
      "text/plain": [
       "Personal              49442\n",
       "Unknown               12983\n",
       "Instructional         10598\n",
       "Aerial Application     4711\n",
       "Business               4017\n",
       "Name: Purpose.of.flight, dtype: int64"
      ]
     },
     "execution_count": 152,
     "metadata": {},
     "output_type": "execute_result"
    }
   ],
   "source": [
    "#Replaced the null values with unknown\n",
    "df_relevant['Purpose.of.flight'].fillna('Unknown', inplace =True)\n",
    "df_relevant['Purpose.of.flight'].value_counts().head()"
   ]
  },
  {
   "cell_type": "markdown",
   "metadata": {},
   "source": [
    "#### Air.carrier"
   ]
  },
  {
   "cell_type": "code",
   "execution_count": 153,
   "metadata": {},
   "outputs": [
    {
     "data": {
      "text/plain": [
       "Unknown              72231\n",
       "Pilot                  258\n",
       "American Airlines       90\n",
       "United Airlines         89\n",
       "Delta Air Lines         53\n",
       "Name: Air.carrier, dtype: int64"
      ]
     },
     "execution_count": 153,
     "metadata": {},
     "output_type": "execute_result"
    }
   ],
   "source": [
    "#Pilot part represent a pilot operating privately without a registred airline\n",
    "#Replaced the null value with unknow\n",
    "df_relevant['Air.carrier'].fillna('Unknown', inplace = True)\n",
    "df_relevant['Air.carrier'].value_counts().head()"
   ]
  },
  {
   "cell_type": "markdown",
   "metadata": {},
   "source": [
    "#### Total.Fatal.Injuries"
   ]
  },
  {
   "cell_type": "code",
   "execution_count": 154,
   "metadata": {},
   "outputs": [
    {
     "data": {
      "text/plain": [
       "0.0    71057\n",
       "1.0     8881\n",
       "2.0     5168\n",
       "3.0     1589\n",
       "4.0     1101\n",
       "Name: Total.Fatal.Injuries, dtype: int64"
      ]
     },
     "execution_count": 154,
     "metadata": {},
     "output_type": "execute_result"
    }
   ],
   "source": [
    "#Assumed the null values means there are no fatalities\n",
    "df_relevant['Total.Fatal.Injuries'].fillna(0.0, inplace = True)\n",
    "df_relevant['Total.Fatal.Injuries'].value_counts().head()"
   ]
  },
  {
   "cell_type": "markdown",
   "metadata": {},
   "source": [
    "#### Total.Serious.Injuries"
   ]
  },
  {
   "cell_type": "code",
   "execution_count": 155,
   "metadata": {},
   "outputs": [
    {
     "data": {
      "text/plain": [
       "0.0    75774\n",
       "1.0     9123\n",
       "2.0     2814\n",
       "3.0      629\n",
       "4.0      258\n",
       "Name: Total.Serious.Injuries, dtype: int64"
      ]
     },
     "execution_count": 155,
     "metadata": {},
     "output_type": "execute_result"
    }
   ],
   "source": [
    "#Assigns null values to 0.0\n",
    "df_relevant['Total.Serious.Injuries'].fillna(0.0, inplace = True)\n",
    "df_relevant['Total.Serious.Injuries'].value_counts().head()"
   ]
  },
  {
   "cell_type": "markdown",
   "metadata": {},
   "source": [
    "#### Total.Minor.Injuries"
   ]
  },
  {
   "cell_type": "code",
   "execution_count": 110,
   "metadata": {},
   "outputs": [
    {
     "data": {
      "text/plain": [
       "0.0    73362\n",
       "1.0    10317\n",
       "2.0     3576\n",
       "3.0      784\n",
       "4.0      372\n",
       "Name: Total.Minor.Injuries, dtype: int64"
      ]
     },
     "execution_count": 110,
     "metadata": {},
     "output_type": "execute_result"
    }
   ],
   "source": [
    "#Assigns null values to 0.0\n",
    "df_relevant['Total.Minor.Injuries'].fillna(0.0, inplace = True)\n",
    "df_relevant['Total.Minor.Injuries'].value_counts().head()"
   ]
  },
  {
   "cell_type": "code",
   "execution_count": 111,
   "metadata": {},
   "outputs": [
    {
     "data": {
      "text/plain": [
       "0.0    35782\n",
       "1.0    25096\n",
       "2.0    15979\n",
       "3.0     4312\n",
       "4.0     2661\n",
       "Name: Total.Uninjured, dtype: int64"
      ]
     },
     "execution_count": 111,
     "metadata": {},
     "output_type": "execute_result"
    }
   ],
   "source": [
    "#Assigns null values to 0.0\n",
    "df_relevant['Total.Uninjured'].fillna(0.0, inplace = True)\n",
    "df_relevant['Total.Uninjured'].value_counts().head()"
   ]
  },
  {
   "cell_type": "markdown",
   "metadata": {},
   "source": [
    "#### Total.Uninjured"
   ]
  },
  {
   "cell_type": "code",
   "execution_count": 112,
   "metadata": {},
   "outputs": [
    {
     "data": {
      "text/plain": [
       "0.0    35782\n",
       "1.0    25096\n",
       "2.0    15979\n",
       "3.0     4312\n",
       "4.0     2661\n",
       "Name: Total.Uninjured, dtype: int64"
      ]
     },
     "execution_count": 112,
     "metadata": {},
     "output_type": "execute_result"
    }
   ],
   "source": [
    "#Assigns null values to 0.0\n",
    "df_relevant['Total.Uninjured'].fillna(0.0, inplace = True)\n",
    "df_relevant['Total.Uninjured'].value_counts().head()"
   ]
  },
  {
   "cell_type": "markdown",
   "metadata": {},
   "source": [
    "#### Weather.Condition"
   ]
  },
  {
   "cell_type": "code",
   "execution_count": 113,
   "metadata": {},
   "outputs": [
    {
     "data": {
      "text/plain": [
       "VMC        77277\n",
       "IMC         5976\n",
       "Unknown     5608\n",
       "Name: Weather.Condition, dtype: int64"
      ]
     },
     "execution_count": 113,
     "metadata": {},
     "output_type": "execute_result"
    }
   ],
   "source": [
    "#Replaced UNK, Unk and null values with 'Unknown'\n",
    "df_relevant['Weather.Condition'].replace('UNK', 'Unknown', inplace = True)\n",
    "df_relevant['Weather.Condition'].replace('Unk', 'Unknown', inplace = True)\n",
    "df_relevant['Weather.Condition'].fillna('Unknown', inplace = True)\n",
    "df_relevant['Weather.Condition'].value_counts().head()"
   ]
  },
  {
   "cell_type": "markdown",
   "metadata": {},
   "source": [
    "#### Broad.phase.of.flight"
   ]
  },
  {
   "cell_type": "code",
   "execution_count": 114,
   "metadata": {},
   "outputs": [
    {
     "data": {
      "text/plain": [
       "Unknown        27710\n",
       "Landing        15426\n",
       "Takeoff        12493\n",
       "Cruise         10266\n",
       "Maneuvering     8134\n",
       "Name: Broad.phase.of.flight, dtype: int64"
      ]
     },
     "execution_count": 114,
     "metadata": {},
     "output_type": "execute_result"
    }
   ],
   "source": [
    "df_relevant['Broad.phase.of.flight'].fillna('Unknown', inplace = True)\n",
    "df_relevant['Broad.phase.of.flight'].value_counts().head()"
   ]
  },
  {
   "cell_type": "markdown",
   "metadata": {},
   "source": [
    "#### Report.Status"
   ]
  },
  {
   "cell_type": "code",
   "execution_count": 146,
   "metadata": {},
   "outputs": [
    {
     "data": {
      "text/plain": [
       "Probable Cause                                                                  61729\n",
       "Unknown                                                                          6546\n",
       "Foreign                                                                          1998\n",
       "Factual                                                                           145\n",
       "The pilot's failure to maintain directional control during the landing roll.       56\n",
       "Name: Report.Status, dtype: int64"
      ]
     },
     "execution_count": 146,
     "metadata": {},
     "output_type": "execute_result"
    }
   ],
   "source": [
    "df_relevant['Report.Status'].replace('<br /><br />','Unknown', inplace = True)\n",
    "df_relevant['Report.Status'].fillna('Unknown', inplace = True)\n",
    "df_relevant['Report.Status'].value_counts().head()"
   ]
  },
  {
   "cell_type": "code",
   "execution_count": 144,
   "metadata": {},
   "outputs": [],
   "source": [
    "df_relevant.drop(columns = 'Unknown Amateur-Built', inplace = True)"
   ]
  },
  {
   "cell_type": "code",
   "execution_count": 145,
   "metadata": {
    "scrolled": true
   },
   "outputs": [
    {
     "data": {
      "text/plain": [
       "Event.Date                0\n",
       "Location                  0\n",
       "Country                   0\n",
       "Airport.Name              0\n",
       "Aircraft.damage           0\n",
       "Make                      0\n",
       "Model                     0\n",
       "Amateur.Built             0\n",
       "Number.of.Engines         0\n",
       "Engine.Type               0\n",
       "FAR.Description           0\n",
       "Schedule                  0\n",
       "Purpose.of.flight         0\n",
       "Air.carrier               0\n",
       "Total.Fatal.Injuries      0\n",
       "Total.Serious.Injuries    0\n",
       "Total.Minor.Injuries      0\n",
       "Total.Uninjured           0\n",
       "Weather.Condition         0\n",
       "Broad.phase.of.flight     0\n",
       "Report.Status             0\n",
       "dtype: int64"
      ]
     },
     "execution_count": 145,
     "metadata": {},
     "output_type": "execute_result"
    }
   ],
   "source": [
    "df_relevant.isnull().sum()"
   ]
  },
  {
   "cell_type": "markdown",
   "metadata": {},
   "source": [
    "## Handling Duplicate Rows"
   ]
  },
  {
   "cell_type": "code",
   "execution_count": 117,
   "metadata": {},
   "outputs": [
    {
     "data": {
      "text/plain": [
       "0"
      ]
     },
     "execution_count": 117,
     "metadata": {},
     "output_type": "execute_result"
    }
   ],
   "source": [
    "#Counts no of duplicate rows\n",
    "duplicates =df_relevant[df_relevant.duplicated()]\n",
    "len(duplicates)"
   ]
  },
  {
   "cell_type": "code",
   "execution_count": 118,
   "metadata": {},
   "outputs": [],
   "source": [
    "#Drops all duplicate rows\n",
    "df_relevant.drop_duplicates(inplace = True)"
   ]
  },
  {
   "cell_type": "markdown",
   "metadata": {},
   "source": [
    "## Exploratory Data Analysis "
   ]
  },
  {
   "cell_type": "markdown",
   "metadata": {},
   "source": [
    "### Aircraft.damage"
   ]
  },
  {
   "cell_type": "code",
   "execution_count": 120,
   "metadata": {},
   "outputs": [
    {
     "data": {
      "text/plain": [
       "Substantial    67442\n",
       "Destroyed      18615\n",
       "Minor           2804\n",
       "Name: Aircraft.damage, dtype: int64"
      ]
     },
     "execution_count": 120,
     "metadata": {},
     "output_type": "execute_result"
    }
   ],
   "source": [
    " df_relevant['Aircraft.damage'].value_counts().head(50)"
   ]
  },
  {
   "cell_type": "markdown",
   "metadata": {},
   "source": [
    "| **Damage Type**  | **Explanation** |\n",
    "|------------------|----------------|\n",
    "| **Substantial**  | Most aircraft incidents fall under this category, meaning the aircraft suffered major but repairable damage. Structural integrity was affected, but the aircraft was not completely destroyed. |\n",
    "| **Destroyed**    | These aircraft were damaged beyond repair, often due to severe crashes, fires, or total loss of control. |\n",
    "| **Minor**        | Least severe cases where the aircraft sustained light damage but remained airworthy, requiring only minor repairs. |\n"
   ]
  },
  {
   "cell_type": "markdown",
   "metadata": {},
   "source": [
    "### FAR.Description"
   ]
  },
  {
   "cell_type": "code",
   "execution_count": 125,
   "metadata": {},
   "outputs": [
    {
     "data": {
      "text/plain": [
       "Unknown    56865\n",
       "Part 91    24717\n",
       "NUSN        1584\n",
       "NUSC        1012\n",
       "137         1010\n",
       "Name: FAR.Description, dtype: int64"
      ]
     },
     "execution_count": 125,
     "metadata": {},
     "output_type": "execute_result"
    }
   ],
   "source": [
    " df_relevant['FAR.Description'].value_counts().head()\n",
    "#We need the description that hold planes for private and commercial operatios"
   ]
  },
  {
   "cell_type": "markdown",
   "metadata": {},
   "source": [
    "#### FAR Description Table\n",
    "\n",
    "| FAR Part  | Description |\n",
    "|-----------|-------------|\n",
    "| **Part 91**  | Covers general aviation, including private, business, and flight training operations. Less strict regulations compared to commercial operations. |\n",
    "| **Part 121** | Covers scheduled commercial airline operations for passenger and cargo transport. Requires strict adherence to FAA regulations for safety, maintenance, and crew training. |\n"
   ]
  },
  {
   "cell_type": "markdown",
   "metadata": {},
   "source": [
    "### Schedule"
   ]
  },
  {
   "cell_type": "code",
   "execution_count": 129,
   "metadata": {},
   "outputs": [
    {
     "data": {
      "text/plain": [
       "Unknown    80383\n",
       "NSCH        4471\n",
       "SCHD        4007\n",
       "Name: Schedule, dtype: int64"
      ]
     },
     "execution_count": 129,
     "metadata": {},
     "output_type": "execute_result"
    }
   ],
   "source": [
    "df_relevant['Schedule'].value_counts().head()"
   ]
  },
  {
   "cell_type": "markdown",
   "metadata": {},
   "source": [
    "#### Schedule Categories\n",
    "\n",
    "| Code  | Description              |\n",
    "|-------|--------------------------|\n",
    "| NSCH  | Non-Scheduled Flight     |\n",
    "| SCHD  | Scheduled Flight         |\n",
    "| UNK   | Unknown Schedule Type    |\n"
   ]
  },
  {
   "cell_type": "markdown",
   "metadata": {},
   "source": [
    "### Weather.Condition"
   ]
  },
  {
   "cell_type": "code",
   "execution_count": 136,
   "metadata": {},
   "outputs": [
    {
     "data": {
      "text/plain": [
       "VMC        77277\n",
       "IMC         5976\n",
       "Unknown     5608\n",
       "Name: Weather.Condition, dtype: int64"
      ]
     },
     "execution_count": 136,
     "metadata": {},
     "output_type": "execute_result"
    }
   ],
   "source": [
    "df_relevant['Weather.Condition'].value_counts().head(50)"
   ]
  },
  {
   "cell_type": "markdown",
   "metadata": {},
   "source": [
    "#### Weather Conditions\n",
    "\n",
    "| Code     | Description                                      |\n",
    "|----------|--------------------------------------------------|\n",
    "| VMC      | Visual Meteorological Conditions (Good weather) |\n",
    "| IMC      | Instrument Meteorological Conditions (Poor visibility, bad weather) |\n",
    "| Unknown  | Weather conditions not specified               |\n"
   ]
  },
  {
   "cell_type": "code",
   "execution_count": 142,
   "metadata": {},
   "outputs": [
    {
     "data": {
      "text/plain": [
       "Probable Cause                                                                  61729\n",
       "Unknown                                                                          6546\n",
       "Foreign                                                                          1998\n",
       "Factual                                                                           145\n",
       "The pilot's failure to maintain directional control during the landing roll.       56\n",
       "Name: Report.Status, dtype: int64"
      ]
     },
     "execution_count": 142,
     "metadata": {},
     "output_type": "execute_result"
    }
   ],
   "source": [
    "df_relevant['Report.Status'].value_counts().head()"
   ]
  },
  {
   "cell_type": "markdown",
   "metadata": {},
   "source": [
    "#### Probable Causes in Aviation Accidents\n",
    "\n",
    "| Probable Cause                  | Description |\n",
    "|----------------------------------|-------------|\n",
    "| **Pilot Error**                 | Mistakes made by the pilot, such as misjudgment, poor decision-making, or lack of experience. |\n",
    "| **Mechanical Failure**          | Malfunctions or failures in aircraft components, including engine issues, structural defects, or system failures. |\n",
    "| **Weather Conditions**          | Adverse weather conditions, such as fog, thunderstorms, or turbulence, that contribute to accidents. |\n",
    "| **Air Traffic Control Error**   | Mistakes or miscommunication by air traffic controllers, leading to unsafe flight situations. |\n",
    "| **Runway Conditions**           | Issues like debris, ice, or poor maintenance affecting takeoff and landing. |\n",
    "| **Fuel-Related Issues**         | Fuel exhaustion, contamination, or improper fueling leading to engine failure. |\n",
    "| **Bird Strike**                 | Collisions between aircraft and birds, causing damage or engine failure. |\n",
    "| **Sabotage or Terrorism**       | Intentional acts that compromise the safety of the aircraft. |\n",
    "| **Unknown or Undetermined**     | Cases where the cause cannot be established due to lack of evidence. |\n",
    "\n"
   ]
  },
  {
   "cell_type": "code",
   "execution_count": 147,
   "metadata": {},
   "outputs": [
    {
     "name": "stdout",
     "output_type": "stream",
     "text": [
      "<class 'pandas.core.frame.DataFrame'>\n",
      "Int64Index: 88861 entries, 0 to 88888\n",
      "Data columns (total 21 columns):\n",
      " #   Column                  Non-Null Count  Dtype  \n",
      "---  ------                  --------------  -----  \n",
      " 0   Event.Date              88861 non-null  object \n",
      " 1   Location                88861 non-null  object \n",
      " 2   Country                 88861 non-null  object \n",
      " 3   Airport.Name            88861 non-null  object \n",
      " 4   Aircraft.damage         88861 non-null  object \n",
      " 5   Make                    88861 non-null  object \n",
      " 6   Model                   88861 non-null  object \n",
      " 7   Amateur.Built           88861 non-null  object \n",
      " 8   Number.of.Engines       88861 non-null  float64\n",
      " 9   Engine.Type             88861 non-null  object \n",
      " 10  FAR.Description         88861 non-null  object \n",
      " 11  Schedule                88861 non-null  object \n",
      " 12  Purpose.of.flight       88861 non-null  object \n",
      " 13  Air.carrier             88861 non-null  object \n",
      " 14  Total.Fatal.Injuries    88861 non-null  float64\n",
      " 15  Total.Serious.Injuries  88861 non-null  float64\n",
      " 16  Total.Minor.Injuries    88861 non-null  float64\n",
      " 17  Total.Uninjured         88861 non-null  float64\n",
      " 18  Weather.Condition       88861 non-null  object \n",
      " 19  Broad.phase.of.flight   88861 non-null  object \n",
      " 20  Report.Status           88861 non-null  object \n",
      "dtypes: float64(5), object(16)\n",
      "memory usage: 14.9+ MB\n"
     ]
    }
   ],
   "source": [
    "df_relevant.info()"
   ]
  },
  {
   "cell_type": "code",
   "execution_count": null,
   "metadata": {},
   "outputs": [],
   "source": []
  }
 ],
 "metadata": {
  "kernelspec": {
   "display_name": "Python (learn-env)",
   "language": "python",
   "name": "learn-env"
  },
  "language_info": {
   "codemirror_mode": {
    "name": "ipython",
    "version": 3
   },
   "file_extension": ".py",
   "mimetype": "text/x-python",
   "name": "python",
   "nbconvert_exporter": "python",
   "pygments_lexer": "ipython3",
   "version": "3.8.5"
  }
 },
 "nbformat": 4,
 "nbformat_minor": 4
}
